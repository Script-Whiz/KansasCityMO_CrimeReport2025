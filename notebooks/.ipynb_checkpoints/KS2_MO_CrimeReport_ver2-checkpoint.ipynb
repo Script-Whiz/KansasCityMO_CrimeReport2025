{
 "cells": [
  {
   "cell_type": "markdown",
   "id": "a0cfd719-6760-4795-882c-c814a23b8401",
   "metadata": {},
   "source": [
    "Your Rideshare Bodyguard!... safety report, by Deborah Thomas"
   ]
  },
  {
   "cell_type": "markdown",
   "id": "f15bde2e-d4e5-4123-b518-02bc57969681",
   "metadata": {},
   "source": [
    "<h1 style=\"color: blue;\">Introduction</h1>"
   ]
  },
  {
   "cell_type": "markdown",
   "id": "b0f2ba4b-ded7-48b8-bb1e-9b5ab3ceee26",
   "metadata": {},
   "source": [
    "## Identifying High-Risk Areas for Rideshare Safety in Kansas City, MO.\n",
    "Help VendiSafe create a data-driven approach to identifying high-risk locations in Kansas City, MO, where drivers and passengers may need extra safety measures. Kansas City is part of Jackson, Clay, Platte, and Cass counties.  "
   ]
  },
  {
   "cell_type": "markdown",
   "id": "e9a1e75f-b8da-40f0-ab64-77cd23951c1a",
   "metadata": {},
   "source": [
    "<h1 style=\"color: blue;\">Import Libraries.</h1>"
   ]
  },
  {
   "cell_type": "code",
   "execution_count": 6,
   "id": "c1860114-9655-4cce-9e14-bfb822812332",
   "metadata": {},
   "outputs": [],
   "source": [
    "import pandas as pd\n",
    "import seaborn as sns\n",
    "import matplotlib.pyplot as plt\n",
    "import pdfplumber\n",
    "\n",
    "from sklearn.model_selection import train_test_split\n",
    "from sklearn.linear_model import LogisticRegression\n",
    "from sklearn.ensemble import RandomForestClassifier, GradientBoostingClassifier\n",
    "from sklearn.tree import DecisionTreeClassifier\n",
    "from sklearn.model_selection import GridSearchCV\n",
    "\n",
    "from sklearn.svm import SVC\n",
    "from sklearn.metrics import roc_auc_score, accuracy_score\n",
    "\n",
    "from sklearn.preprocessing import LabelEncoder"
   ]
  },
  {
   "cell_type": "markdown",
   "id": "d5f0ee08-1cb0-4b55-b62c-99345d6e8dd0",
   "metadata": {},
   "source": [
    "<h1 style=\"color: blue;\">Read in Dataset.</h1>"
   ]
  },
  {
   "cell_type": "markdown",
   "id": "359d516d-1679-4116-8894-bffd8c2a316f",
   "metadata": {},
   "source": [
    "- Description of where dataset comes from"
   ]
  },
  {
   "cell_type": "markdown",
   "id": "cee00d27-f769-43de-8545-385cf63c12f4",
   "metadata": {},
   "source": [
    "Kansas City Open Data Portal – Local government datasets, including crime and incident data. 2019-2024 KCPD combined reports. The dataset comes from [https://data.kcmo.org/Crime/KCPD-Crime-Data-2019-to-2024/egkn-fji8/about_data](https://data.kcmo.org/Crime/KCPD-Crime-Data-2019-to-2024/egkn-fji8/about_data).\n",
    "\n",
    "Map of the Police Department territories: [View Map of Police Department Territories](https://kcpd.maps.arcgis.com/apps/webappviewer/index.html?id=24c6239af6654e4aa1d9fb196d01ffb2).\n",
    "\n",
    "These are the neighborhoods of Kansas City, MO: [Wikipedia - Neighborhoods of Kansas City, Missouri](https://en.wikipedia.org/wiki/Neighborhoods_of_Kansas_City,_Missouri)."
   ]
  },
  {
   "cell_type": "code",
   "execution_count": 10,
   "id": "d122ca0d-2942-4935-b23d-f192847b06e2",
   "metadata": {},
   "outputs": [],
   "source": [
    "dtypes = {\n",
    "    'Description': 'str',\n",
    "    'City': 'str',\n",
    "    'Area': 'str',\n",
    "    'Location': 'str'\n",
    "}"
   ]
  },
  {
   "cell_type": "code",
   "execution_count": 11,
   "id": "7d8f456e-6fef-4ce2-a4b7-d10a185748cd",
   "metadata": {},
   "outputs": [],
   "source": [
    "KS2 = pd.read_csv(\"../datasets/KCPD_Crime_Data_KC_OpenDataPortal_2019_to_2024_20250403.csv\", dtype=dtypes, low_memory=False)"
   ]
  },
  {
   "cell_type": "code",
   "execution_count": 12,
   "id": "66e96c4b-91a6-4d3a-ab44-f40b0190d802",
   "metadata": {},
   "outputs": [
    {
     "data": {
      "text/html": [
       "<div>\n",
       "<style scoped>\n",
       "    .dataframe tbody tr th:only-of-type {\n",
       "        vertical-align: middle;\n",
       "    }\n",
       "\n",
       "    .dataframe tbody tr th {\n",
       "        vertical-align: top;\n",
       "    }\n",
       "\n",
       "    .dataframe thead th {\n",
       "        text-align: right;\n",
       "    }\n",
       "</style>\n",
       "<table border=\"1\" class=\"dataframe\">\n",
       "  <thead>\n",
       "    <tr style=\"text-align: right;\">\n",
       "      <th></th>\n",
       "      <th>Report_No</th>\n",
       "      <th>Reported_Date</th>\n",
       "      <th>Reported_Time</th>\n",
       "      <th>From_Date</th>\n",
       "      <th>From_Time</th>\n",
       "      <th>To_Date</th>\n",
       "      <th>To_Time</th>\n",
       "      <th>Offense</th>\n",
       "      <th>IBRS</th>\n",
       "      <th>Description</th>\n",
       "      <th>...</th>\n",
       "      <th>Area</th>\n",
       "      <th>DVFlag</th>\n",
       "      <th>Involvement</th>\n",
       "      <th>Race</th>\n",
       "      <th>Sex</th>\n",
       "      <th>Age</th>\n",
       "      <th>Fire Arm Used Flag</th>\n",
       "      <th>Location</th>\n",
       "      <th>Age_Range</th>\n",
       "      <th>Geo_Location1</th>\n",
       "    </tr>\n",
       "  </thead>\n",
       "  <tbody>\n",
       "    <tr>\n",
       "      <th>0</th>\n",
       "      <td>190002679</td>\n",
       "      <td>01/21/2019 12:00:00 AM</td>\n",
       "      <td>8:34</td>\n",
       "      <td>NaN</td>\n",
       "      <td>NaN</td>\n",
       "      <td>NaN</td>\n",
       "      <td>NaN</td>\n",
       "      <td>Fraud/Confidence Gam</td>\n",
       "      <td>26A</td>\n",
       "      <td>NaN</td>\n",
       "      <td>...</td>\n",
       "      <td>NaN</td>\n",
       "      <td>U</td>\n",
       "      <td>SUS</td>\n",
       "      <td>W</td>\n",
       "      <td>M</td>\n",
       "      <td>28.0</td>\n",
       "      <td>False</td>\n",
       "      <td>NaN</td>\n",
       "      <td>NaN</td>\n",
       "      <td>POINT (-92.477746617 38.367982746)</td>\n",
       "    </tr>\n",
       "    <tr>\n",
       "      <th>1</th>\n",
       "      <td>KC20070693</td>\n",
       "      <td>10/15/2020 12:00:00 AM</td>\n",
       "      <td>9:37</td>\n",
       "      <td>01/01/2016 12:00:00 AM</td>\n",
       "      <td>10:08</td>\n",
       "      <td>NaN</td>\n",
       "      <td>NaN</td>\n",
       "      <td>Sexual Abuse - Juvenile</td>\n",
       "      <td>NaN</td>\n",
       "      <td>NaN</td>\n",
       "      <td>...</td>\n",
       "      <td>OSPD</td>\n",
       "      <td>N</td>\n",
       "      <td>VIC</td>\n",
       "      <td>W</td>\n",
       "      <td>F</td>\n",
       "      <td>NaN</td>\n",
       "      <td>False</td>\n",
       "      <td>NaN</td>\n",
       "      <td>NaN</td>\n",
       "      <td>NaN</td>\n",
       "    </tr>\n",
       "    <tr>\n",
       "      <th>2</th>\n",
       "      <td>KC19030380</td>\n",
       "      <td>04/25/2019 12:00:00 AM</td>\n",
       "      <td>20:51</td>\n",
       "      <td>04/25/2019 12:00:00 AM</td>\n",
       "      <td>22:35</td>\n",
       "      <td>NaN</td>\n",
       "      <td>NaN</td>\n",
       "      <td>City/Municipal Warrant Arrest</td>\n",
       "      <td>NaN</td>\n",
       "      <td>NaN</td>\n",
       "      <td>...</td>\n",
       "      <td>OSPD</td>\n",
       "      <td>N</td>\n",
       "      <td>ARR CHA SUS</td>\n",
       "      <td>W</td>\n",
       "      <td>F</td>\n",
       "      <td>34.0</td>\n",
       "      <td>False</td>\n",
       "      <td>NaN</td>\n",
       "      <td>NaN</td>\n",
       "      <td>POINT (-94.419408416 39.245010036)</td>\n",
       "    </tr>\n",
       "    <tr>\n",
       "      <th>3</th>\n",
       "      <td>KC19044992</td>\n",
       "      <td>06/17/2019 12:00:00 AM</td>\n",
       "      <td>2:57</td>\n",
       "      <td>06/17/2019 12:00:00 AM</td>\n",
       "      <td>2:57</td>\n",
       "      <td>NaN</td>\n",
       "      <td>NaN</td>\n",
       "      <td>Rape - Juvenile</td>\n",
       "      <td>11A</td>\n",
       "      <td>Forcible Rape</td>\n",
       "      <td>...</td>\n",
       "      <td>EPD</td>\n",
       "      <td>N</td>\n",
       "      <td>SUS</td>\n",
       "      <td>B</td>\n",
       "      <td>M</td>\n",
       "      <td>NaN</td>\n",
       "      <td>False</td>\n",
       "      <td>NaN</td>\n",
       "      <td>NaN</td>\n",
       "      <td>POINT (-94.541545037 39.102210418)</td>\n",
       "    </tr>\n",
       "    <tr>\n",
       "      <th>4</th>\n",
       "      <td>KC19044691</td>\n",
       "      <td>06/15/2019 12:00:00 AM</td>\n",
       "      <td>17:22</td>\n",
       "      <td>06/15/2019 12:00:00 AM</td>\n",
       "      <td>16:06</td>\n",
       "      <td>NaN</td>\n",
       "      <td>NaN</td>\n",
       "      <td>Stealing – Shoplift</td>\n",
       "      <td>NaN</td>\n",
       "      <td>NaN</td>\n",
       "      <td>...</td>\n",
       "      <td>CPD</td>\n",
       "      <td>N</td>\n",
       "      <td>VIC</td>\n",
       "      <td>NaN</td>\n",
       "      <td>NaN</td>\n",
       "      <td>NaN</td>\n",
       "      <td>False</td>\n",
       "      <td>NaN</td>\n",
       "      <td>NaN</td>\n",
       "      <td>POINT (-94.591899968 39.042694983)</td>\n",
       "    </tr>\n",
       "    <tr>\n",
       "      <th>...</th>\n",
       "      <td>...</td>\n",
       "      <td>...</td>\n",
       "      <td>...</td>\n",
       "      <td>...</td>\n",
       "      <td>...</td>\n",
       "      <td>...</td>\n",
       "      <td>...</td>\n",
       "      <td>...</td>\n",
       "      <td>...</td>\n",
       "      <td>...</td>\n",
       "      <td>...</td>\n",
       "      <td>...</td>\n",
       "      <td>...</td>\n",
       "      <td>...</td>\n",
       "      <td>...</td>\n",
       "      <td>...</td>\n",
       "      <td>...</td>\n",
       "      <td>...</td>\n",
       "      <td>...</td>\n",
       "      <td>...</td>\n",
       "      <td>...</td>\n",
       "    </tr>\n",
       "    <tr>\n",
       "      <th>95</th>\n",
       "      <td>KC20012154</td>\n",
       "      <td>02/17/2020 12:00:00 AM</td>\n",
       "      <td>12:30</td>\n",
       "      <td>02/17/2020 12:00:00 AM</td>\n",
       "      <td>12:44</td>\n",
       "      <td>NaN</td>\n",
       "      <td>NaN</td>\n",
       "      <td>Rape</td>\n",
       "      <td>11A</td>\n",
       "      <td>Forcible Rape</td>\n",
       "      <td>...</td>\n",
       "      <td>SPD</td>\n",
       "      <td>N</td>\n",
       "      <td>CMP VIC</td>\n",
       "      <td>B</td>\n",
       "      <td>F</td>\n",
       "      <td>NaN</td>\n",
       "      <td>False</td>\n",
       "      <td>NaN</td>\n",
       "      <td>NaN</td>\n",
       "      <td>POINT (-94.49564697 38.941580983)</td>\n",
       "    </tr>\n",
       "    <tr>\n",
       "      <th>96</th>\n",
       "      <td>KC20070613</td>\n",
       "      <td>10/14/2020 12:00:00 AM</td>\n",
       "      <td>18:46</td>\n",
       "      <td>10/14/2020 12:00:00 AM</td>\n",
       "      <td>19:52</td>\n",
       "      <td>NaN</td>\n",
       "      <td>NaN</td>\n",
       "      <td>City/Municipal Warrant Arrest</td>\n",
       "      <td>NaN</td>\n",
       "      <td>NaN</td>\n",
       "      <td>...</td>\n",
       "      <td>OSPD</td>\n",
       "      <td>N</td>\n",
       "      <td>ARR CHA</td>\n",
       "      <td>W</td>\n",
       "      <td>F</td>\n",
       "      <td>36.0</td>\n",
       "      <td>False</td>\n",
       "      <td>NaN</td>\n",
       "      <td>NaN</td>\n",
       "      <td>POINT (-94.419408416 39.245010036)</td>\n",
       "    </tr>\n",
       "    <tr>\n",
       "      <th>97</th>\n",
       "      <td>KC20013211</td>\n",
       "      <td>02/21/2020 12:00:00 AM</td>\n",
       "      <td>12:46</td>\n",
       "      <td>02/21/2020 12:00:00 AM</td>\n",
       "      <td>13:00</td>\n",
       "      <td>NaN</td>\n",
       "      <td>NaN</td>\n",
       "      <td>Stolen Auto</td>\n",
       "      <td>35A</td>\n",
       "      <td>Drug / Narcotic Violations</td>\n",
       "      <td>...</td>\n",
       "      <td>MPD</td>\n",
       "      <td>N</td>\n",
       "      <td>VIC</td>\n",
       "      <td>NaN</td>\n",
       "      <td>NaN</td>\n",
       "      <td>NaN</td>\n",
       "      <td>False</td>\n",
       "      <td>NaN</td>\n",
       "      <td>NaN</td>\n",
       "      <td>POINT (-94.608049968 38.925709911)</td>\n",
       "    </tr>\n",
       "    <tr>\n",
       "      <th>98</th>\n",
       "      <td>KC20004050</td>\n",
       "      <td>01/16/2020 12:00:00 AM</td>\n",
       "      <td>21:46</td>\n",
       "      <td>01/16/2020 12:00:00 AM</td>\n",
       "      <td>21:46</td>\n",
       "      <td>NaN</td>\n",
       "      <td>NaN</td>\n",
       "      <td>City/Municipal Warrant Arrest</td>\n",
       "      <td>NaN</td>\n",
       "      <td>NaN</td>\n",
       "      <td>...</td>\n",
       "      <td>OSPD</td>\n",
       "      <td>N</td>\n",
       "      <td>ARR CHA SUS</td>\n",
       "      <td>B</td>\n",
       "      <td>M</td>\n",
       "      <td>55.0</td>\n",
       "      <td>False</td>\n",
       "      <td>NaN</td>\n",
       "      <td>NaN</td>\n",
       "      <td>POINT (-94.781052433 39.372291405)</td>\n",
       "    </tr>\n",
       "    <tr>\n",
       "      <th>99</th>\n",
       "      <td>KC20017418</td>\n",
       "      <td>03/08/2020 12:00:00 AM</td>\n",
       "      <td>11:17</td>\n",
       "      <td>03/08/2020 12:00:00 AM</td>\n",
       "      <td>11:18</td>\n",
       "      <td>NaN</td>\n",
       "      <td>NaN</td>\n",
       "      <td>Dead Body</td>\n",
       "      <td>NaN</td>\n",
       "      <td>NaN</td>\n",
       "      <td>...</td>\n",
       "      <td>MPD</td>\n",
       "      <td>N</td>\n",
       "      <td>VIC</td>\n",
       "      <td>B</td>\n",
       "      <td>M</td>\n",
       "      <td>43.0</td>\n",
       "      <td>False</td>\n",
       "      <td>NaN</td>\n",
       "      <td>NaN</td>\n",
       "      <td>POINT (-94.556323986 39.017482008)</td>\n",
       "    </tr>\n",
       "  </tbody>\n",
       "</table>\n",
       "<p>100 rows × 25 columns</p>\n",
       "</div>"
      ],
      "text/plain": [
       "     Report_No           Reported_Date Reported_Time               From_Date  \\\n",
       "0    190002679  01/21/2019 12:00:00 AM          8:34                     NaN   \n",
       "1   KC20070693  10/15/2020 12:00:00 AM          9:37  01/01/2016 12:00:00 AM   \n",
       "2   KC19030380  04/25/2019 12:00:00 AM         20:51  04/25/2019 12:00:00 AM   \n",
       "3   KC19044992  06/17/2019 12:00:00 AM          2:57  06/17/2019 12:00:00 AM   \n",
       "4   KC19044691  06/15/2019 12:00:00 AM         17:22  06/15/2019 12:00:00 AM   \n",
       "..         ...                     ...           ...                     ...   \n",
       "95  KC20012154  02/17/2020 12:00:00 AM         12:30  02/17/2020 12:00:00 AM   \n",
       "96  KC20070613  10/14/2020 12:00:00 AM         18:46  10/14/2020 12:00:00 AM   \n",
       "97  KC20013211  02/21/2020 12:00:00 AM         12:46  02/21/2020 12:00:00 AM   \n",
       "98  KC20004050  01/16/2020 12:00:00 AM         21:46  01/16/2020 12:00:00 AM   \n",
       "99  KC20017418  03/08/2020 12:00:00 AM         11:17  03/08/2020 12:00:00 AM   \n",
       "\n",
       "   From_Time To_Date To_Time                        Offense IBRS  \\\n",
       "0        NaN     NaN     NaN           Fraud/Confidence Gam  26A   \n",
       "1      10:08     NaN     NaN        Sexual Abuse - Juvenile  NaN   \n",
       "2      22:35     NaN     NaN  City/Municipal Warrant Arrest  NaN   \n",
       "3       2:57     NaN     NaN                Rape - Juvenile  11A   \n",
       "4      16:06     NaN     NaN            Stealing – Shoplift  NaN   \n",
       "..       ...     ...     ...                            ...  ...   \n",
       "95     12:44     NaN     NaN                           Rape  11A   \n",
       "96     19:52     NaN     NaN  City/Municipal Warrant Arrest  NaN   \n",
       "97     13:00     NaN     NaN                    Stolen Auto  35A   \n",
       "98     21:46     NaN     NaN  City/Municipal Warrant Arrest  NaN   \n",
       "99     11:18     NaN     NaN                      Dead Body  NaN   \n",
       "\n",
       "                   Description  ...  Area DVFlag  Involvement Race  Sex   Age  \\\n",
       "0                          NaN  ...   NaN      U          SUS    W    M  28.0   \n",
       "1                          NaN  ...  OSPD      N          VIC    W    F   NaN   \n",
       "2                          NaN  ...  OSPD      N  ARR CHA SUS    W    F  34.0   \n",
       "3                Forcible Rape  ...   EPD      N          SUS    B    M   NaN   \n",
       "4                          NaN  ...   CPD      N          VIC  NaN  NaN   NaN   \n",
       "..                         ...  ...   ...    ...          ...  ...  ...   ...   \n",
       "95               Forcible Rape  ...   SPD      N      CMP VIC    B    F   NaN   \n",
       "96                         NaN  ...  OSPD      N      ARR CHA    W    F  36.0   \n",
       "97  Drug / Narcotic Violations  ...   MPD      N          VIC  NaN  NaN   NaN   \n",
       "98                         NaN  ...  OSPD      N  ARR CHA SUS    B    M  55.0   \n",
       "99                         NaN  ...   MPD      N          VIC    B    M  43.0   \n",
       "\n",
       "   Fire Arm Used Flag Location Age_Range                       Geo_Location1  \n",
       "0               False      NaN       NaN  POINT (-92.477746617 38.367982746)  \n",
       "1               False      NaN       NaN                                 NaN  \n",
       "2               False      NaN       NaN  POINT (-94.419408416 39.245010036)  \n",
       "3               False      NaN       NaN  POINT (-94.541545037 39.102210418)  \n",
       "4               False      NaN       NaN  POINT (-94.591899968 39.042694983)  \n",
       "..                ...      ...       ...                                 ...  \n",
       "95              False      NaN       NaN   POINT (-94.49564697 38.941580983)  \n",
       "96              False      NaN       NaN  POINT (-94.419408416 39.245010036)  \n",
       "97              False      NaN       NaN  POINT (-94.608049968 38.925709911)  \n",
       "98              False      NaN       NaN  POINT (-94.781052433 39.372291405)  \n",
       "99              False      NaN       NaN  POINT (-94.556323986 39.017482008)  \n",
       "\n",
       "[100 rows x 25 columns]"
      ]
     },
     "metadata": {},
     "output_type": "display_data"
    }
   ],
   "source": [
    "display(KS2.head(100))"
   ]
  },
  {
   "cell_type": "code",
   "execution_count": 13,
   "id": "e49c1660-744e-4973-8023-7f66092ef0a4",
   "metadata": {},
   "outputs": [
    {
     "name": "stdout",
     "output_type": "stream",
     "text": [
      "(522907, 25)\n"
     ]
    }
   ],
   "source": [
    "print(KS2.shape) "
   ]
  },
  {
   "cell_type": "code",
   "execution_count": 14,
   "id": "3fe6e59f-9e5d-4d9b-adca-141bd8057413",
   "metadata": {},
   "outputs": [
    {
     "data": {
      "text/plain": [
       "<bound method IndexOpsMixin.value_counts of 0         01/21/2019 12:00:00 AM\n",
       "1         10/15/2020 12:00:00 AM\n",
       "2         04/25/2019 12:00:00 AM\n",
       "3         06/17/2019 12:00:00 AM\n",
       "4         06/15/2019 12:00:00 AM\n",
       "                   ...          \n",
       "522902    12/29/2022 12:00:00 AM\n",
       "522903    04/27/2022 12:00:00 AM\n",
       "522904    12/15/2022 12:00:00 AM\n",
       "522905    12/09/2022 12:00:00 AM\n",
       "522906    12/20/2022 12:00:00 AM\n",
       "Name: Reported_Date, Length: 522907, dtype: object>"
      ]
     },
     "execution_count": 14,
     "metadata": {},
     "output_type": "execute_result"
    }
   ],
   "source": [
    "KS2.Reported_Date.value_counts"
   ]
  },
  {
   "cell_type": "code",
   "execution_count": 15,
   "id": "0b92d94b-6773-4494-b22a-608fe2ef30db",
   "metadata": {},
   "outputs": [
    {
     "data": {
      "text/plain": [
       "Involvement\n",
       "VIC                    251776\n",
       "SUS                    110694\n",
       "ARR CHA SUS             65386\n",
       "CMP VIC                 38239\n",
       "VIC SUS                  8003\n",
       "                        ...  \n",
       "VIC SWM SUS                 1\n",
       "VOD PED                     1\n",
       "ARR CHA INA SOC VDR         1\n",
       "INA SUS A01 CHA PNT         1\n",
       "SUS DEC VDR                 1\n",
       "Name: count, Length: 697, dtype: int64"
      ]
     },
     "execution_count": 15,
     "metadata": {},
     "output_type": "execute_result"
    }
   ],
   "source": [
    "KS2.Involvement.value_counts()"
   ]
  },
  {
   "cell_type": "code",
   "execution_count": 16,
   "id": "e6e4d044-152d-4127-9c4c-2ca35ec27a65",
   "metadata": {},
   "outputs": [
    {
     "name": "stdout",
     "output_type": "stream",
     "text": [
      "<class 'pandas.core.frame.DataFrame'>\n",
      "RangeIndex: 522907 entries, 0 to 522906\n",
      "Data columns (total 25 columns):\n",
      " #   Column              Non-Null Count   Dtype  \n",
      "---  ------              --------------   -----  \n",
      " 0   Report_No           522907 non-null  object \n",
      " 1   Reported_Date       522907 non-null  object \n",
      " 2   Reported_Time       522907 non-null  object \n",
      " 3   From_Date           522827 non-null  object \n",
      " 4   From_Time           522807 non-null  object \n",
      " 5   To_Date             246508 non-null  object \n",
      " 6   To_Time             178837 non-null  object \n",
      " 7   Offense             522907 non-null  object \n",
      " 8   IBRS                468296 non-null  object \n",
      " 9   Description         442795 non-null  object \n",
      " 10  Beat                521093 non-null  object \n",
      " 11  Address             522888 non-null  object \n",
      " 12  City                522866 non-null  object \n",
      " 13  Zip Code            478639 non-null  object \n",
      " 14  Rep_Dist            416713 non-null  object \n",
      " 15  Area                520208 non-null  object \n",
      " 16  DVFlag              522907 non-null  object \n",
      " 17  Involvement         522907 non-null  object \n",
      " 18  Race                453119 non-null  object \n",
      " 19  Sex                 459675 non-null  object \n",
      " 20  Age                 384716 non-null  float64\n",
      " 21  Fire Arm Used Flag  522907 non-null  bool   \n",
      " 22  Location            456405 non-null  object \n",
      " 23  Age_Range           237176 non-null  object \n",
      " 24  Geo_Location1       522862 non-null  object \n",
      "dtypes: bool(1), float64(1), object(23)\n",
      "memory usage: 96.2+ MB\n"
     ]
    }
   ],
   "source": [
    "KS2.info()"
   ]
  },
  {
   "cell_type": "markdown",
   "id": "1d5b318e-1e83-435f-b8d1-9c44dc59ae85",
   "metadata": {},
   "source": [
    "- These columns need to be dropped: Report_No, From_Time, To_Date, To_Time, Involvement, Race, Sex, Age, Age_Range.\n",
    "- These columns need to be converted to datetime: Reported_Date, Reported_Time, From_Date.\n",
    "- Reported_Date column needs to have 12:00 AM removed because all values have it. \n",
    "- Fire Arm Used Flag column naming needs to have spaces removed."
   ]
  },
  {
   "cell_type": "markdown",
   "id": "3d781a14-b93e-4e8a-9233-4a460432c35a",
   "metadata": {},
   "source": [
    "<h1 style=\"color: blue;\">Clean the Data</h1>"
   ]
  },
  {
   "cell_type": "markdown",
   "id": "64f3e6d7-c349-4ddb-8d0e-a2a1a39fc1f8",
   "metadata": {},
   "source": [
    "- Drop unecessary columns."
   ]
  },
  {
   "cell_type": "code",
   "execution_count": 20,
   "id": "0433e591-d5d2-448a-abbe-39ffea312106",
   "metadata": {},
   "outputs": [],
   "source": [
    "columns_to_drop = ['Report_No', 'From_Time', 'To_Date', 'To_Time', 'IBRS', 'Involvement', 'Race', 'Sex', 'Age', 'Age_Range']\n",
    "KS2 = KS2.drop(columns=columns_to_drop)"
   ]
  },
  {
   "cell_type": "code",
   "execution_count": 21,
   "id": "0277129d-bbfe-4b85-885e-7d2a90ad3d0c",
   "metadata": {},
   "outputs": [
    {
     "name": "stdout",
     "output_type": "stream",
     "text": [
      "<class 'pandas.core.frame.DataFrame'>\n",
      "RangeIndex: 522907 entries, 0 to 522906\n",
      "Data columns (total 15 columns):\n",
      " #   Column              Non-Null Count   Dtype \n",
      "---  ------              --------------   ----- \n",
      " 0   Reported_Date       522907 non-null  object\n",
      " 1   Reported_Time       522907 non-null  object\n",
      " 2   From_Date           522827 non-null  object\n",
      " 3   Offense             522907 non-null  object\n",
      " 4   Description         442795 non-null  object\n",
      " 5   Beat                521093 non-null  object\n",
      " 6   Address             522888 non-null  object\n",
      " 7   City                522866 non-null  object\n",
      " 8   Zip Code            478639 non-null  object\n",
      " 9   Rep_Dist            416713 non-null  object\n",
      " 10  Area                520208 non-null  object\n",
      " 11  DVFlag              522907 non-null  object\n",
      " 12  Fire Arm Used Flag  522907 non-null  bool  \n",
      " 13  Location            456405 non-null  object\n",
      " 14  Geo_Location1       522862 non-null  object\n",
      "dtypes: bool(1), object(14)\n",
      "memory usage: 56.4+ MB\n"
     ]
    }
   ],
   "source": [
    "KS2.info()"
   ]
  },
  {
   "cell_type": "markdown",
   "id": "22b7a563-2560-415d-aae0-583ce9f25aec",
   "metadata": {},
   "source": [
    "'Reported_Date', 'Reported_Time', 'Offense', 'DVFlag', 'Fire Arm Used Flag' are the only columns that have no missing data."
   ]
  },
  {
   "cell_type": "code",
   "execution_count": 23,
   "id": "204d3121-4911-45f1-86f4-8cce682468c5",
   "metadata": {},
   "outputs": [
    {
     "name": "stdout",
     "output_type": "stream",
     "text": [
      "(522907, 15)\n"
     ]
    }
   ],
   "source": [
    "print(KS2.shape)"
   ]
  },
  {
   "cell_type": "markdown",
   "id": "39fe3271-cbc9-4c6d-bc34-c8f8324e631b",
   "metadata": {},
   "source": [
    "- Drop duplicates"
   ]
  },
  {
   "cell_type": "code",
   "execution_count": 25,
   "id": "56e2f7a0-b3fe-4be8-a7b9-5bb2633dcd5e",
   "metadata": {},
   "outputs": [],
   "source": [
    "KS2 = KS2.drop_duplicates()"
   ]
  },
  {
   "cell_type": "code",
   "execution_count": 26,
   "id": "7f11a46c-febd-4022-922e-3eaf98311d22",
   "metadata": {},
   "outputs": [
    {
     "name": "stdout",
     "output_type": "stream",
     "text": [
      "(312430, 15)\n"
     ]
    }
   ],
   "source": [
    "print(KS2.shape) "
   ]
  },
  {
   "cell_type": "code",
   "execution_count": 27,
   "id": "bbc09636-2bca-45d4-bb20-5771fd856117",
   "metadata": {},
   "outputs": [
    {
     "data": {
      "text/plain": [
       "210477"
      ]
     },
     "execution_count": 27,
     "metadata": {},
     "output_type": "execute_result"
    }
   ],
   "source": [
    "522907 - 312430"
   ]
  },
  {
   "cell_type": "markdown",
   "id": "de22a9ab-8f55-41de-9d64-d2229e4a9759",
   "metadata": {},
   "source": [
    "#### 210,477 rows were duplicates and were dropped."
   ]
  },
  {
   "cell_type": "markdown",
   "id": "67357a44-6c8d-4880-8622-332a0d995628",
   "metadata": {},
   "source": [
    "<h3 style=\"color: blue;\">Clean Area Column</h3>"
   ]
  },
  {
   "cell_type": "markdown",
   "id": "a919fac3-760b-4a78-acfa-46b7e753397c",
   "metadata": {},
   "source": [
    "- Look for NaN in Area"
   ]
  },
  {
   "cell_type": "code",
   "execution_count": 31,
   "id": "5862c56a-aa50-4da5-bcb4-99c62082b52c",
   "metadata": {},
   "outputs": [
    {
     "name": "stdout",
     "output_type": "stream",
     "text": [
      "Entries where Area is NaN:\n"
     ]
    },
    {
     "data": {
      "text/html": [
       "<div>\n",
       "<style scoped>\n",
       "    .dataframe tbody tr th:only-of-type {\n",
       "        vertical-align: middle;\n",
       "    }\n",
       "\n",
       "    .dataframe tbody tr th {\n",
       "        vertical-align: top;\n",
       "    }\n",
       "\n",
       "    .dataframe thead th {\n",
       "        text-align: right;\n",
       "    }\n",
       "</style>\n",
       "<table border=\"1\" class=\"dataframe\">\n",
       "  <thead>\n",
       "    <tr style=\"text-align: right;\">\n",
       "      <th></th>\n",
       "      <th>Reported_Date</th>\n",
       "      <th>Reported_Time</th>\n",
       "      <th>From_Date</th>\n",
       "      <th>Offense</th>\n",
       "      <th>Description</th>\n",
       "      <th>Beat</th>\n",
       "      <th>Address</th>\n",
       "      <th>City</th>\n",
       "      <th>Zip Code</th>\n",
       "      <th>Rep_Dist</th>\n",
       "      <th>Area</th>\n",
       "      <th>DVFlag</th>\n",
       "      <th>Fire Arm Used Flag</th>\n",
       "      <th>Location</th>\n",
       "      <th>Geo_Location1</th>\n",
       "    </tr>\n",
       "  </thead>\n",
       "  <tbody>\n",
       "    <tr>\n",
       "      <th>0</th>\n",
       "      <td>01/21/2019 12:00:00 AM</td>\n",
       "      <td>8:34</td>\n",
       "      <td>NaN</td>\n",
       "      <td>Fraud/Confidence Gam</td>\n",
       "      <td>NaN</td>\n",
       "      <td>NaN</td>\n",
       "      <td>NaN</td>\n",
       "      <td>NaN</td>\n",
       "      <td>NaN</td>\n",
       "      <td>NaN</td>\n",
       "      <td>NaN</td>\n",
       "      <td>U</td>\n",
       "      <td>False</td>\n",
       "      <td>NaN</td>\n",
       "      <td>POINT (-92.477746617 38.367982746)</td>\n",
       "    </tr>\n",
       "    <tr>\n",
       "      <th>5</th>\n",
       "      <td>03/28/2019 12:00:00 AM</td>\n",
       "      <td>12:01</td>\n",
       "      <td>NaN</td>\n",
       "      <td>Aggravated Assault (</td>\n",
       "      <td>NaN</td>\n",
       "      <td>NaN</td>\n",
       "      <td>NaN</td>\n",
       "      <td>NaN</td>\n",
       "      <td>NaN</td>\n",
       "      <td>NaN</td>\n",
       "      <td>NaN</td>\n",
       "      <td>U</td>\n",
       "      <td>True</td>\n",
       "      <td>NaN</td>\n",
       "      <td>POINT (-92.477746617 38.367982746)</td>\n",
       "    </tr>\n",
       "    <tr>\n",
       "      <th>6</th>\n",
       "      <td>04/12/2019 12:00:00 AM</td>\n",
       "      <td>9:31</td>\n",
       "      <td>04/08/2019 12:00:00 AM</td>\n",
       "      <td>Stolen Auto</td>\n",
       "      <td>Motor Vehicle Theft</td>\n",
       "      <td>NaN</td>\n",
       "      <td>4500  S BENTON</td>\n",
       "      <td>KANSAS CITY</td>\n",
       "      <td>64130</td>\n",
       "      <td>NaN</td>\n",
       "      <td>NaN</td>\n",
       "      <td>N</td>\n",
       "      <td>False</td>\n",
       "      <td>NaN</td>\n",
       "      <td>POINT (-94.551136007 39.044326017)</td>\n",
       "    </tr>\n",
       "    <tr>\n",
       "      <th>7</th>\n",
       "      <td>05/09/2019 12:00:00 AM</td>\n",
       "      <td>13:15</td>\n",
       "      <td>09/17/2018 12:00:00 AM</td>\n",
       "      <td>Forgery</td>\n",
       "      <td>Counterfeiting / Forgery</td>\n",
       "      <td>533</td>\n",
       "      <td>10700  STATE LINE RD</td>\n",
       "      <td>KANSAS CITY</td>\n",
       "      <td>64114</td>\n",
       "      <td>NaN</td>\n",
       "      <td>NaN</td>\n",
       "      <td>N</td>\n",
       "      <td>False</td>\n",
       "      <td>NaN</td>\n",
       "      <td>POINT (-94.608049968 38.925709911)</td>\n",
       "    </tr>\n",
       "    <tr>\n",
       "      <th>16</th>\n",
       "      <td>03/14/2019 12:00:00 AM</td>\n",
       "      <td>12:27</td>\n",
       "      <td>03/06/2019 12:00:00 AM</td>\n",
       "      <td>Misc Violation</td>\n",
       "      <td>NaN</td>\n",
       "      <td>NaN</td>\n",
       "      <td>8611 21ST</td>\n",
       "      <td>KANSAS CITY</td>\n",
       "      <td>64126</td>\n",
       "      <td>NaN</td>\n",
       "      <td>NaN</td>\n",
       "      <td>U</td>\n",
       "      <td>False</td>\n",
       "      <td>NaN</td>\n",
       "      <td>POINT (-94.483472004 39.083929001)</td>\n",
       "    </tr>\n",
       "  </tbody>\n",
       "</table>\n",
       "</div>"
      ],
      "text/plain": [
       "             Reported_Date Reported_Time               From_Date  \\\n",
       "0   01/21/2019 12:00:00 AM          8:34                     NaN   \n",
       "5   03/28/2019 12:00:00 AM         12:01                     NaN   \n",
       "6   04/12/2019 12:00:00 AM          9:31  04/08/2019 12:00:00 AM   \n",
       "7   05/09/2019 12:00:00 AM         13:15  09/17/2018 12:00:00 AM   \n",
       "16  03/14/2019 12:00:00 AM         12:27  03/06/2019 12:00:00 AM   \n",
       "\n",
       "                 Offense               Description Beat               Address  \\\n",
       "0   Fraud/Confidence Gam                       NaN  NaN                   NaN   \n",
       "5   Aggravated Assault (                       NaN  NaN                   NaN   \n",
       "6            Stolen Auto       Motor Vehicle Theft  NaN        4500  S BENTON   \n",
       "7                Forgery  Counterfeiting / Forgery  533  10700  STATE LINE RD   \n",
       "16        Misc Violation                       NaN  NaN             8611 21ST   \n",
       "\n",
       "           City Zip Code Rep_Dist Area DVFlag  Fire Arm Used Flag Location  \\\n",
       "0           NaN      NaN      NaN  NaN      U               False      NaN   \n",
       "5           NaN      NaN      NaN  NaN      U                True      NaN   \n",
       "6   KANSAS CITY    64130      NaN  NaN      N               False      NaN   \n",
       "7   KANSAS CITY    64114      NaN  NaN      N               False      NaN   \n",
       "16  KANSAS CITY    64126      NaN  NaN      U               False      NaN   \n",
       "\n",
       "                         Geo_Location1  \n",
       "0   POINT (-92.477746617 38.367982746)  \n",
       "5   POINT (-92.477746617 38.367982746)  \n",
       "6   POINT (-94.551136007 39.044326017)  \n",
       "7   POINT (-94.608049968 38.925709911)  \n",
       "16  POINT (-94.483472004 39.083929001)  "
      ]
     },
     "metadata": {},
     "output_type": "display_data"
    }
   ],
   "source": [
    "nan_entries = KS2[KS2['Area'].isna()]\n",
    "\n",
    "print(\"Entries where Area is NaN:\")\n",
    "display(nan_entries.head(5))"
   ]
  },
  {
   "cell_type": "markdown",
   "id": "b6764371-ae0f-40a4-a6b9-8bcaa79a9d5f",
   "metadata": {},
   "source": [
    "- Change NaN, in Area, to 'Unknown'"
   ]
  },
  {
   "cell_type": "code",
   "execution_count": 33,
   "id": "9aa541bd-747c-434b-823e-33818e142e10",
   "metadata": {},
   "outputs": [],
   "source": [
    "KS2['Area'] = KS2['Area'].fillna('Unknown')"
   ]
  },
  {
   "cell_type": "markdown",
   "id": "9ec0106e-10b7-4582-a9eb-b7ce8a2c73e3",
   "metadata": {},
   "source": [
    "- Inspect police department territories."
   ]
  },
  {
   "cell_type": "code",
   "execution_count": 35,
   "id": "cc879abe-e86a-4df6-9133-092a9b216fa1",
   "metadata": {},
   "outputs": [
    {
     "name": "stdout",
     "output_type": "stream",
     "text": [
      "      Area  Count\n",
      "0      CPD  87352\n",
      "1      EPD  74334\n",
      "2      MPD  56777\n",
      "3      SPD  34250\n",
      "4      SCP  28540\n",
      "5      NPD  26861\n",
      "6     OSPD   2668\n",
      "7  Unknown   1636\n",
      "8      PD1     11\n",
      "9     SCPD      1\n"
     ]
    }
   ],
   "source": [
    "area_counts = KS2['Area'].value_counts().reset_index()\n",
    "area_counts.columns = ['Area', 'Count']\n",
    "print(area_counts)"
   ]
  },
  {
   "cell_type": "code",
   "execution_count": 36,
   "id": "a030e742-8aca-4bce-bbca-271f23fc750d",
   "metadata": {},
   "outputs": [
    {
     "data": {
      "text/html": [
       "<div>\n",
       "<style scoped>\n",
       "    .dataframe tbody tr th:only-of-type {\n",
       "        vertical-align: middle;\n",
       "    }\n",
       "\n",
       "    .dataframe tbody tr th {\n",
       "        vertical-align: top;\n",
       "    }\n",
       "\n",
       "    .dataframe thead th {\n",
       "        text-align: right;\n",
       "    }\n",
       "</style>\n",
       "<table border=\"1\" class=\"dataframe\">\n",
       "  <thead>\n",
       "    <tr style=\"text-align: right;\">\n",
       "      <th></th>\n",
       "      <th>Reported_Date</th>\n",
       "      <th>Reported_Time</th>\n",
       "      <th>From_Date</th>\n",
       "      <th>Offense</th>\n",
       "      <th>Description</th>\n",
       "      <th>Beat</th>\n",
       "      <th>Address</th>\n",
       "      <th>City</th>\n",
       "      <th>Zip Code</th>\n",
       "      <th>Rep_Dist</th>\n",
       "      <th>Area</th>\n",
       "      <th>DVFlag</th>\n",
       "      <th>Fire Arm Used Flag</th>\n",
       "      <th>Location</th>\n",
       "      <th>Geo_Location1</th>\n",
       "    </tr>\n",
       "  </thead>\n",
       "  <tbody>\n",
       "    <tr>\n",
       "      <th>30791</th>\n",
       "      <td>03/21/2019 12:00:00 AM</td>\n",
       "      <td>13:27</td>\n",
       "      <td>06/24/2016 12:00:00 AM</td>\n",
       "      <td>Stealing From Auto</td>\n",
       "      <td>NaN</td>\n",
       "      <td>999</td>\n",
       "      <td>9999 S UNKNOWN ST</td>\n",
       "      <td>KANSAS CITY</td>\n",
       "      <td>99999</td>\n",
       "      <td>PKC000</td>\n",
       "      <td>PD1</td>\n",
       "      <td>N</td>\n",
       "      <td>False</td>\n",
       "      <td>NaN</td>\n",
       "      <td>POINT (-94.58311 39.10344)</td>\n",
       "    </tr>\n",
       "    <tr>\n",
       "      <th>68754</th>\n",
       "      <td>01/17/2019 12:00:00 AM</td>\n",
       "      <td>18:44</td>\n",
       "      <td>01/11/2019 12:00:00 AM</td>\n",
       "      <td>Statutory Rape</td>\n",
       "      <td>NaN</td>\n",
       "      <td>999</td>\n",
       "      <td>9900  S UNKNOWN ST</td>\n",
       "      <td>KANSAS CITY</td>\n",
       "      <td>NaN</td>\n",
       "      <td>PKC000</td>\n",
       "      <td>PD1</td>\n",
       "      <td>U</td>\n",
       "      <td>False</td>\n",
       "      <td>NaN</td>\n",
       "      <td>POINT (-94.58311 39.10344)</td>\n",
       "    </tr>\n",
       "    <tr>\n",
       "      <th>80945</th>\n",
       "      <td>03/02/2019 12:00:00 AM</td>\n",
       "      <td>12:36</td>\n",
       "      <td>03/01/2019 12:00:00 AM</td>\n",
       "      <td>Credit/Debit/ATM Car</td>\n",
       "      <td>NaN</td>\n",
       "      <td>999</td>\n",
       "      <td>9999 S UNKNOWN ST</td>\n",
       "      <td>KANSAS CITY</td>\n",
       "      <td>99999</td>\n",
       "      <td>PKC000</td>\n",
       "      <td>PD1</td>\n",
       "      <td>U</td>\n",
       "      <td>False</td>\n",
       "      <td>NaN</td>\n",
       "      <td>POINT (-94.58311 39.10344)</td>\n",
       "    </tr>\n",
       "    <tr>\n",
       "      <th>82702</th>\n",
       "      <td>02/13/2019 12:00:00 AM</td>\n",
       "      <td>16:18</td>\n",
       "      <td>01/01/2019 12:00:00 AM</td>\n",
       "      <td>Stealing from Buildi</td>\n",
       "      <td>NaN</td>\n",
       "      <td>999</td>\n",
       "      <td>1000 BERKLEY PKWY</td>\n",
       "      <td>KANSAS CITY</td>\n",
       "      <td>64120</td>\n",
       "      <td>PKC000</td>\n",
       "      <td>PD1</td>\n",
       "      <td>U</td>\n",
       "      <td>False</td>\n",
       "      <td>1000 BERKLEY PKWY\\nKANSAS CITY 64120\\n(39.1151...</td>\n",
       "      <td>POINT (-94.572775985 39.115939992)</td>\n",
       "    </tr>\n",
       "    <tr>\n",
       "      <th>82981</th>\n",
       "      <td>01/28/2019 12:00:00 AM</td>\n",
       "      <td>9:50</td>\n",
       "      <td>01/24/2019 12:00:00 AM</td>\n",
       "      <td>Credit/Debit/ATM Car</td>\n",
       "      <td>NaN</td>\n",
       "      <td>999</td>\n",
       "      <td>9999 S UNKNOWN ST</td>\n",
       "      <td>KANSAS CITY</td>\n",
       "      <td>99999</td>\n",
       "      <td>PKC000</td>\n",
       "      <td>PD1</td>\n",
       "      <td>U</td>\n",
       "      <td>False</td>\n",
       "      <td>NaN</td>\n",
       "      <td>POINT (-94.58311 39.10344)</td>\n",
       "    </tr>\n",
       "    <tr>\n",
       "      <th>83061</th>\n",
       "      <td>03/07/2019 12:00:00 AM</td>\n",
       "      <td>8:24</td>\n",
       "      <td>03/06/2019 12:00:00 AM</td>\n",
       "      <td>Fraud/Confidence Gam</td>\n",
       "      <td>NaN</td>\n",
       "      <td>999</td>\n",
       "      <td>9999 S UNKNOWN ST</td>\n",
       "      <td>KANSAS CITY</td>\n",
       "      <td>99999</td>\n",
       "      <td>PKC000</td>\n",
       "      <td>PD1</td>\n",
       "      <td>U</td>\n",
       "      <td>False</td>\n",
       "      <td>NaN</td>\n",
       "      <td>POINT (-94.58311 39.10344)</td>\n",
       "    </tr>\n",
       "    <tr>\n",
       "      <th>85424</th>\n",
       "      <td>02/01/2019 12:00:00 AM</td>\n",
       "      <td>16:00</td>\n",
       "      <td>01/18/2019 12:00:00 AM</td>\n",
       "      <td>Identity Theft</td>\n",
       "      <td>NaN</td>\n",
       "      <td>999</td>\n",
       "      <td>9999 S UNKNOWN ST</td>\n",
       "      <td>KANSAS CITY</td>\n",
       "      <td>99999</td>\n",
       "      <td>PKC000</td>\n",
       "      <td>PD1</td>\n",
       "      <td>U</td>\n",
       "      <td>False</td>\n",
       "      <td>NaN</td>\n",
       "      <td>POINT (-94.58311 39.10344)</td>\n",
       "    </tr>\n",
       "    <tr>\n",
       "      <th>86042</th>\n",
       "      <td>03/18/2019 12:00:00 AM</td>\n",
       "      <td>8:00</td>\n",
       "      <td>03/11/2019 12:00:00 AM</td>\n",
       "      <td>Credit/Debit/ATM Car</td>\n",
       "      <td>NaN</td>\n",
       "      <td>999</td>\n",
       "      <td>9999 S UNKNOWN ST</td>\n",
       "      <td>KANSAS CITY</td>\n",
       "      <td>99999</td>\n",
       "      <td>PKC000</td>\n",
       "      <td>PD1</td>\n",
       "      <td>U</td>\n",
       "      <td>False</td>\n",
       "      <td>NaN</td>\n",
       "      <td>POINT (-94.58311 39.10344)</td>\n",
       "    </tr>\n",
       "    <tr>\n",
       "      <th>89317</th>\n",
       "      <td>02/26/2019 12:00:00 AM</td>\n",
       "      <td>11:20</td>\n",
       "      <td>02/26/2019 12:00:00 AM</td>\n",
       "      <td>Stealing From Auto</td>\n",
       "      <td>NaN</td>\n",
       "      <td>999</td>\n",
       "      <td>9999 S UNKNOWN ST</td>\n",
       "      <td>KANSAS CITY</td>\n",
       "      <td>99999</td>\n",
       "      <td>PKC000</td>\n",
       "      <td>PD1</td>\n",
       "      <td>N</td>\n",
       "      <td>False</td>\n",
       "      <td>NaN</td>\n",
       "      <td>POINT (-94.58311 39.10344)</td>\n",
       "    </tr>\n",
       "    <tr>\n",
       "      <th>96432</th>\n",
       "      <td>02/17/2019 12:00:00 AM</td>\n",
       "      <td>2:14</td>\n",
       "      <td>02/16/2019 12:00:00 AM</td>\n",
       "      <td>Stealing From Auto</td>\n",
       "      <td>NaN</td>\n",
       "      <td>999</td>\n",
       "      <td>9999 S UNKNOWN ST</td>\n",
       "      <td>KANSAS CITY</td>\n",
       "      <td>NaN</td>\n",
       "      <td>PKC000</td>\n",
       "      <td>PD1</td>\n",
       "      <td>U</td>\n",
       "      <td>False</td>\n",
       "      <td>NaN</td>\n",
       "      <td>POINT (-94.58311 39.10344)</td>\n",
       "    </tr>\n",
       "    <tr>\n",
       "      <th>104604</th>\n",
       "      <td>03/23/2019 12:00:00 AM</td>\n",
       "      <td>19:39</td>\n",
       "      <td>01/01/1996 12:00:00 AM</td>\n",
       "      <td>Statutory Rape</td>\n",
       "      <td>NaN</td>\n",
       "      <td>999</td>\n",
       "      <td>9900  S UNKNOWN ST</td>\n",
       "      <td>KANSAS CITY</td>\n",
       "      <td>64106</td>\n",
       "      <td>PKC000</td>\n",
       "      <td>PD1</td>\n",
       "      <td>N</td>\n",
       "      <td>False</td>\n",
       "      <td>NaN</td>\n",
       "      <td>POINT (-94.575675 39.10424)</td>\n",
       "    </tr>\n",
       "  </tbody>\n",
       "</table>\n",
       "</div>"
      ],
      "text/plain": [
       "                 Reported_Date Reported_Time               From_Date  \\\n",
       "30791   03/21/2019 12:00:00 AM         13:27  06/24/2016 12:00:00 AM   \n",
       "68754   01/17/2019 12:00:00 AM         18:44  01/11/2019 12:00:00 AM   \n",
       "80945   03/02/2019 12:00:00 AM         12:36  03/01/2019 12:00:00 AM   \n",
       "82702   02/13/2019 12:00:00 AM         16:18  01/01/2019 12:00:00 AM   \n",
       "82981   01/28/2019 12:00:00 AM          9:50  01/24/2019 12:00:00 AM   \n",
       "83061   03/07/2019 12:00:00 AM          8:24  03/06/2019 12:00:00 AM   \n",
       "85424   02/01/2019 12:00:00 AM         16:00  01/18/2019 12:00:00 AM   \n",
       "86042   03/18/2019 12:00:00 AM          8:00  03/11/2019 12:00:00 AM   \n",
       "89317   02/26/2019 12:00:00 AM         11:20  02/26/2019 12:00:00 AM   \n",
       "96432   02/17/2019 12:00:00 AM          2:14  02/16/2019 12:00:00 AM   \n",
       "104604  03/23/2019 12:00:00 AM         19:39  01/01/1996 12:00:00 AM   \n",
       "\n",
       "                     Offense Description Beat             Address  \\\n",
       "30791     Stealing From Auto         NaN  999   9999 S UNKNOWN ST   \n",
       "68754         Statutory Rape         NaN  999  9900  S UNKNOWN ST   \n",
       "80945   Credit/Debit/ATM Car         NaN  999   9999 S UNKNOWN ST   \n",
       "82702   Stealing from Buildi         NaN  999   1000 BERKLEY PKWY   \n",
       "82981   Credit/Debit/ATM Car         NaN  999   9999 S UNKNOWN ST   \n",
       "83061   Fraud/Confidence Gam         NaN  999   9999 S UNKNOWN ST   \n",
       "85424         Identity Theft         NaN  999   9999 S UNKNOWN ST   \n",
       "86042   Credit/Debit/ATM Car         NaN  999   9999 S UNKNOWN ST   \n",
       "89317     Stealing From Auto         NaN  999   9999 S UNKNOWN ST   \n",
       "96432     Stealing From Auto         NaN  999   9999 S UNKNOWN ST   \n",
       "104604        Statutory Rape         NaN  999  9900  S UNKNOWN ST   \n",
       "\n",
       "               City Zip Code Rep_Dist Area DVFlag  Fire Arm Used Flag  \\\n",
       "30791   KANSAS CITY    99999   PKC000  PD1      N               False   \n",
       "68754   KANSAS CITY      NaN   PKC000  PD1      U               False   \n",
       "80945   KANSAS CITY    99999   PKC000  PD1      U               False   \n",
       "82702   KANSAS CITY    64120   PKC000  PD1      U               False   \n",
       "82981   KANSAS CITY    99999   PKC000  PD1      U               False   \n",
       "83061   KANSAS CITY    99999   PKC000  PD1      U               False   \n",
       "85424   KANSAS CITY    99999   PKC000  PD1      U               False   \n",
       "86042   KANSAS CITY    99999   PKC000  PD1      U               False   \n",
       "89317   KANSAS CITY    99999   PKC000  PD1      N               False   \n",
       "96432   KANSAS CITY      NaN   PKC000  PD1      U               False   \n",
       "104604  KANSAS CITY    64106   PKC000  PD1      N               False   \n",
       "\n",
       "                                                 Location  \\\n",
       "30791                                                 NaN   \n",
       "68754                                                 NaN   \n",
       "80945                                                 NaN   \n",
       "82702   1000 BERKLEY PKWY\\nKANSAS CITY 64120\\n(39.1151...   \n",
       "82981                                                 NaN   \n",
       "83061                                                 NaN   \n",
       "85424                                                 NaN   \n",
       "86042                                                 NaN   \n",
       "89317                                                 NaN   \n",
       "96432                                                 NaN   \n",
       "104604                                                NaN   \n",
       "\n",
       "                             Geo_Location1  \n",
       "30791           POINT (-94.58311 39.10344)  \n",
       "68754           POINT (-94.58311 39.10344)  \n",
       "80945           POINT (-94.58311 39.10344)  \n",
       "82702   POINT (-94.572775985 39.115939992)  \n",
       "82981           POINT (-94.58311 39.10344)  \n",
       "83061           POINT (-94.58311 39.10344)  \n",
       "85424           POINT (-94.58311 39.10344)  \n",
       "86042           POINT (-94.58311 39.10344)  \n",
       "89317           POINT (-94.58311 39.10344)  \n",
       "96432           POINT (-94.58311 39.10344)  \n",
       "104604         POINT (-94.575675 39.10424)  "
      ]
     },
     "metadata": {},
     "output_type": "display_data"
    }
   ],
   "source": [
    "filtered_df = KS2[KS2['Area'] == 'PD1']\n",
    "\n",
    "display(filtered_df)"
   ]
  },
  {
   "cell_type": "markdown",
   "id": "13336ae0-d071-41bf-a4af-4363b9f29716",
   "metadata": {},
   "source": [
    "### Kansas City, MO Divisions\n",
    "- **CPD** (Central Police Department, located in the center west. Includes West Kansas City, MO)\n",
    "- **EPD** (East Patrol, located in the center east. Includes East Kansas City, MO)\n",
    "- **MPD** (Metro Police Department, located in the center south)\n",
    "- **SPD** (South Patrol Division)\n",
    "- **SCP** (Shoal Creek Police Department, located in the Northeast)\n",
    "- **NPD** (North Police Department, located in the Northwest. Includes Wetherby Lake, Parkville, Gladstone, North Kansas City)\n",
    "\n",
    "- **SCPD** Typo. Needs to change to 'SCP'\n",
    "\n",
    "- **OSPD** (located in the town of Liberty)\n",
    "- **PD1** Typo. Looking at the addresses, BERKLEY PKWY is located in the CPD district. Changing 'PD1' to 'CPD'.\n",
    "\n",
    "\n",
    "https://data.kcmo.org/dataset/Police-Divisions/pxe5-449t"
   ]
  },
  {
   "cell_type": "markdown",
   "id": "f0a4470f-5466-41b1-9868-532edcd99ca7",
   "metadata": {},
   "source": [
    "- change PD1 to CPD"
   ]
  },
  {
   "cell_type": "code",
   "execution_count": 39,
   "id": "82bc0125-af15-4128-a6ae-4fabb5007fb2",
   "metadata": {},
   "outputs": [],
   "source": [
    "KS2.loc[KS2['Area'] == 'PD1', 'Area'] = 'CPD'"
   ]
  },
  {
   "cell_type": "markdown",
   "id": "cc6dde7a-19b3-4127-af65-d4a4c5cb7dc0",
   "metadata": {},
   "source": [
    "- change SCPD to SCP"
   ]
  },
  {
   "cell_type": "code",
   "execution_count": 41,
   "id": "bcbbeaf2-d52a-40f4-a77b-24032a63b77f",
   "metadata": {},
   "outputs": [],
   "source": [
    "KS2.loc[KS2['Area'] == 'SCPD', 'Area'] = 'SCP'"
   ]
  },
  {
   "cell_type": "code",
   "execution_count": 42,
   "id": "514b28a3-c0e1-4d01-81d7-8def45608935",
   "metadata": {},
   "outputs": [
    {
     "data": {
      "text/plain": [
       "Area\n",
       "CPD        87363\n",
       "EPD        74334\n",
       "MPD        56777\n",
       "SPD        34250\n",
       "SCP        28541\n",
       "NPD        26861\n",
       "OSPD        2668\n",
       "Unknown     1636\n",
       "Name: count, dtype: int64"
      ]
     },
     "execution_count": 42,
     "metadata": {},
     "output_type": "execute_result"
    }
   ],
   "source": [
    "KS2.Area.value_counts()"
   ]
  },
  {
   "cell_type": "code",
   "execution_count": 43,
   "id": "ad6dde55-9026-4552-b7f1-8e64eb57a08a",
   "metadata": {},
   "outputs": [
    {
     "name": "stdout",
     "output_type": "stream",
     "text": [
      "<class 'pandas.core.frame.DataFrame'>\n",
      "Index: 312430 entries, 0 to 522904\n",
      "Data columns (total 15 columns):\n",
      " #   Column              Non-Null Count   Dtype \n",
      "---  ------              --------------   ----- \n",
      " 0   Reported_Date       312430 non-null  object\n",
      " 1   Reported_Time       312430 non-null  object\n",
      " 2   From_Date           312389 non-null  object\n",
      " 3   Offense             312430 non-null  object\n",
      " 4   Description         255996 non-null  object\n",
      " 5   Beat                311344 non-null  object\n",
      " 6   Address             312424 non-null  object\n",
      " 7   City                312410 non-null  object\n",
      " 8   Zip Code            286082 non-null  object\n",
      " 9   Rep_Dist            247217 non-null  object\n",
      " 10  Area                312430 non-null  object\n",
      " 11  DVFlag              312430 non-null  object\n",
      " 12  Fire Arm Used Flag  312430 non-null  bool  \n",
      " 13  Location            272151 non-null  object\n",
      " 14  Geo_Location1       312409 non-null  object\n",
      "dtypes: bool(1), object(14)\n",
      "memory usage: 36.1+ MB\n"
     ]
    }
   ],
   "source": [
    "KS2.info()"
   ]
  },
  {
   "cell_type": "markdown",
   "id": "3ea70909-3700-4414-9080-032da78f04f0",
   "metadata": {},
   "source": [
    "Area now no longer has missing values."
   ]
  },
  {
   "cell_type": "markdown",
   "id": "98ebf7e7-3e73-4f61-bbce-632000220707",
   "metadata": {},
   "source": [
    "<h3 style=\"color: blue;\">Clean City Column</h3>"
   ]
  },
  {
   "cell_type": "code",
   "execution_count": 46,
   "id": "2f19dda2-6259-4dfa-8c38-9e3012a4a2db",
   "metadata": {},
   "outputs": [
    {
     "data": {
      "text/plain": [
       "City\n",
       "KANSAS CITY      309261\n",
       "LIBERTY             594\n",
       "INDEPENDENCE        366\n",
       "PLATTE CITY         245\n",
       "GRANDVIEW           215\n",
       "                  ...  \n",
       "AUSTIN                1\n",
       "LONGBEACH             1\n",
       "BOWLING GREED         1\n",
       "KANSAS CIT Y          1\n",
       "INDEPENDEANCE         1\n",
       "Name: count, Length: 227, dtype: int64"
      ]
     },
     "execution_count": 46,
     "metadata": {},
     "output_type": "execute_result"
    }
   ],
   "source": [
    "KS2.City.value_counts()"
   ]
  },
  {
   "cell_type": "markdown",
   "id": "a462cacd-f056-4a5a-b953-209acf14f272",
   "metadata": {},
   "source": [
    "- Check for NaN"
   ]
  },
  {
   "cell_type": "code",
   "execution_count": 48,
   "id": "9609cbdc-ae99-4b46-82f3-aa24d31ad8e5",
   "metadata": {},
   "outputs": [
    {
     "name": "stdout",
     "output_type": "stream",
     "text": [
      "Number of NaN values in 'City': 20\n"
     ]
    }
   ],
   "source": [
    "nan_citycount = KS2['City'].isna().sum()\n",
    "print(f\"Number of NaN values in 'City': {nan_citycount}\")"
   ]
  },
  {
   "cell_type": "code",
   "execution_count": 49,
   "id": "21010a53-8a17-41fb-af0c-43fcaf488fac",
   "metadata": {},
   "outputs": [
    {
     "name": "stdout",
     "output_type": "stream",
     "text": [
      "Rows with NaN values in 'City':\n"
     ]
    },
    {
     "data": {
      "text/html": [
       "<div>\n",
       "<style scoped>\n",
       "    .dataframe tbody tr th:only-of-type {\n",
       "        vertical-align: middle;\n",
       "    }\n",
       "\n",
       "    .dataframe tbody tr th {\n",
       "        vertical-align: top;\n",
       "    }\n",
       "\n",
       "    .dataframe thead th {\n",
       "        text-align: right;\n",
       "    }\n",
       "</style>\n",
       "<table border=\"1\" class=\"dataframe\">\n",
       "  <thead>\n",
       "    <tr style=\"text-align: right;\">\n",
       "      <th></th>\n",
       "      <th>Reported_Date</th>\n",
       "      <th>Reported_Time</th>\n",
       "      <th>From_Date</th>\n",
       "      <th>Offense</th>\n",
       "      <th>Description</th>\n",
       "      <th>Beat</th>\n",
       "      <th>Address</th>\n",
       "      <th>City</th>\n",
       "      <th>Zip Code</th>\n",
       "      <th>Rep_Dist</th>\n",
       "      <th>Area</th>\n",
       "      <th>DVFlag</th>\n",
       "      <th>Fire Arm Used Flag</th>\n",
       "      <th>Location</th>\n",
       "      <th>Geo_Location1</th>\n",
       "    </tr>\n",
       "  </thead>\n",
       "  <tbody>\n",
       "    <tr>\n",
       "      <th>0</th>\n",
       "      <td>01/21/2019 12:00:00 AM</td>\n",
       "      <td>8:34</td>\n",
       "      <td>NaN</td>\n",
       "      <td>Fraud/Confidence Gam</td>\n",
       "      <td>NaN</td>\n",
       "      <td>NaN</td>\n",
       "      <td>NaN</td>\n",
       "      <td>NaN</td>\n",
       "      <td>NaN</td>\n",
       "      <td>NaN</td>\n",
       "      <td>Unknown</td>\n",
       "      <td>U</td>\n",
       "      <td>False</td>\n",
       "      <td>NaN</td>\n",
       "      <td>POINT (-92.477746617 38.367982746)</td>\n",
       "    </tr>\n",
       "    <tr>\n",
       "      <th>5</th>\n",
       "      <td>03/28/2019 12:00:00 AM</td>\n",
       "      <td>12:01</td>\n",
       "      <td>NaN</td>\n",
       "      <td>Aggravated Assault (</td>\n",
       "      <td>NaN</td>\n",
       "      <td>NaN</td>\n",
       "      <td>NaN</td>\n",
       "      <td>NaN</td>\n",
       "      <td>NaN</td>\n",
       "      <td>NaN</td>\n",
       "      <td>Unknown</td>\n",
       "      <td>U</td>\n",
       "      <td>True</td>\n",
       "      <td>NaN</td>\n",
       "      <td>POINT (-92.477746617 38.367982746)</td>\n",
       "    </tr>\n",
       "    <tr>\n",
       "      <th>44</th>\n",
       "      <td>01/21/2019 12:00:00 AM</td>\n",
       "      <td>8:34</td>\n",
       "      <td>NaN</td>\n",
       "      <td>Forgery</td>\n",
       "      <td>NaN</td>\n",
       "      <td>NaN</td>\n",
       "      <td>NaN</td>\n",
       "      <td>NaN</td>\n",
       "      <td>NaN</td>\n",
       "      <td>NaN</td>\n",
       "      <td>Unknown</td>\n",
       "      <td>U</td>\n",
       "      <td>False</td>\n",
       "      <td>NaN</td>\n",
       "      <td>POINT (-92.477746617 38.367982746)</td>\n",
       "    </tr>\n",
       "    <tr>\n",
       "      <th>63</th>\n",
       "      <td>02/19/2019 12:00:00 AM</td>\n",
       "      <td>12:57</td>\n",
       "      <td>NaN</td>\n",
       "      <td>Forgery</td>\n",
       "      <td>NaN</td>\n",
       "      <td>NaN</td>\n",
       "      <td>NaN</td>\n",
       "      <td>NaN</td>\n",
       "      <td>NaN</td>\n",
       "      <td>NaN</td>\n",
       "      <td>Unknown</td>\n",
       "      <td>U</td>\n",
       "      <td>False</td>\n",
       "      <td>NaN</td>\n",
       "      <td>POINT (-92.477746617 38.367982746)</td>\n",
       "    </tr>\n",
       "    <tr>\n",
       "      <th>733</th>\n",
       "      <td>02/19/2019 12:00:00 AM</td>\n",
       "      <td>12:57</td>\n",
       "      <td>NaN</td>\n",
       "      <td>Fraud/Confidence Gam</td>\n",
       "      <td>NaN</td>\n",
       "      <td>NaN</td>\n",
       "      <td>NaN</td>\n",
       "      <td>NaN</td>\n",
       "      <td>NaN</td>\n",
       "      <td>NaN</td>\n",
       "      <td>Unknown</td>\n",
       "      <td>U</td>\n",
       "      <td>False</td>\n",
       "      <td>NaN</td>\n",
       "      <td>POINT (-92.477746617 38.367982746)</td>\n",
       "    </tr>\n",
       "    <tr>\n",
       "      <th>1982</th>\n",
       "      <td>03/29/2019 12:00:00 AM</td>\n",
       "      <td>21:43</td>\n",
       "      <td>03/29/2019 12:00:00 AM</td>\n",
       "      <td>Legacy Incident Report/Arrest</td>\n",
       "      <td>NaN</td>\n",
       "      <td>112</td>\n",
       "      <td>1100  LOCUST ST</td>\n",
       "      <td>NaN</td>\n",
       "      <td>NaN</td>\n",
       "      <td>NaN</td>\n",
       "      <td>CPD</td>\n",
       "      <td>N</td>\n",
       "      <td>False</td>\n",
       "      <td>1100  LOCUST ST\\n(37.895369, -122.061186)</td>\n",
       "      <td>POINT (-92.325135037 38.949202983)</td>\n",
       "    </tr>\n",
       "    <tr>\n",
       "      <th>2065</th>\n",
       "      <td>03/19/2019 12:00:00 AM</td>\n",
       "      <td>17:46</td>\n",
       "      <td>03/15/2019 12:00:00 AM</td>\n",
       "      <td>Stealing – Shoplift</td>\n",
       "      <td>Theft From Building</td>\n",
       "      <td>422</td>\n",
       "      <td>1600  NW 88TH ST</td>\n",
       "      <td>NaN</td>\n",
       "      <td>NaN</td>\n",
       "      <td>NaN</td>\n",
       "      <td>NPD</td>\n",
       "      <td>N</td>\n",
       "      <td>False</td>\n",
       "      <td>1600  NW 88TH ST\\n(39.2548, -94.599)</td>\n",
       "      <td>POINT (-94.598896007 39.254440004)</td>\n",
       "    </tr>\n",
       "    <tr>\n",
       "      <th>2101</th>\n",
       "      <td>03/27/2019 12:00:00 AM</td>\n",
       "      <td>22:05</td>\n",
       "      <td>03/23/2019 12:00:00 AM</td>\n",
       "      <td>Stealing from Auto (Auto Part or Accessory)</td>\n",
       "      <td>Theft From Motor Vehicle</td>\n",
       "      <td>113</td>\n",
       "      <td>300  W 22ND ST</td>\n",
       "      <td>NaN</td>\n",
       "      <td>NaN</td>\n",
       "      <td>NaN</td>\n",
       "      <td>CPD</td>\n",
       "      <td>N</td>\n",
       "      <td>False</td>\n",
       "      <td>300  W 22ND ST\\n(41.847595, -87.927551)</td>\n",
       "      <td>POINT (-94.588031971 39.086729982)</td>\n",
       "    </tr>\n",
       "    <tr>\n",
       "      <th>2205</th>\n",
       "      <td>04/23/2019 12:00:00 AM</td>\n",
       "      <td>16:07</td>\n",
       "      <td>04/22/2019 12:00:00 AM</td>\n",
       "      <td>Stealing from Auto (Auto Part or Accessory)</td>\n",
       "      <td>Theft of Vehicle Parts and Accessories</td>\n",
       "      <td>NaN</td>\n",
       "      <td>2500  MADISON</td>\n",
       "      <td>NaN</td>\n",
       "      <td>NaN</td>\n",
       "      <td>NaN</td>\n",
       "      <td>Unknown</td>\n",
       "      <td>N</td>\n",
       "      <td>False</td>\n",
       "      <td>NaN</td>\n",
       "      <td>POINT (-94.595492033 39.081925014)</td>\n",
       "    </tr>\n",
       "    <tr>\n",
       "      <th>4168</th>\n",
       "      <td>03/28/2019 12:00:00 AM</td>\n",
       "      <td>12:46</td>\n",
       "      <td>NaN</td>\n",
       "      <td>Agg Assault - Drive-</td>\n",
       "      <td>NaN</td>\n",
       "      <td>NaN</td>\n",
       "      <td>NaN</td>\n",
       "      <td>NaN</td>\n",
       "      <td>NaN</td>\n",
       "      <td>NaN</td>\n",
       "      <td>Unknown</td>\n",
       "      <td>U</td>\n",
       "      <td>True</td>\n",
       "      <td>NaN</td>\n",
       "      <td>POINT (-92.477746617 38.367982746)</td>\n",
       "    </tr>\n",
       "    <tr>\n",
       "      <th>4809</th>\n",
       "      <td>04/24/2019 12:00:00 AM</td>\n",
       "      <td>17:30</td>\n",
       "      <td>04/24/2019 12:00:00 AM</td>\n",
       "      <td>Felon/Prohibited Person in Possession of a Fir...</td>\n",
       "      <td>NaN</td>\n",
       "      <td>543</td>\n",
       "      <td>11800  BLUE RIDGE BLVD KANSAS CITY</td>\n",
       "      <td>NaN</td>\n",
       "      <td>NaN</td>\n",
       "      <td>NaN</td>\n",
       "      <td>Unknown</td>\n",
       "      <td>N</td>\n",
       "      <td>False</td>\n",
       "      <td>11800  BLUE RIDGE BLVD KANSAS CITY\\n(38.910232...</td>\n",
       "      <td>POINT (-94.509731 38.922341)</td>\n",
       "    </tr>\n",
       "    <tr>\n",
       "      <th>7455</th>\n",
       "      <td>04/06/2019 12:00:00 AM</td>\n",
       "      <td>12:08</td>\n",
       "      <td>04/05/2019 12:00:00 AM</td>\n",
       "      <td>Unfounded</td>\n",
       "      <td>NaN</td>\n",
       "      <td>113</td>\n",
       "      <td>E 18TH ST and WALNUT ST</td>\n",
       "      <td>NaN</td>\n",
       "      <td>NaN</td>\n",
       "      <td>NaN</td>\n",
       "      <td>CPD</td>\n",
       "      <td>N</td>\n",
       "      <td>False</td>\n",
       "      <td>E 18TH ST and WALNUT ST\\n(39.863779, -75.359812)</td>\n",
       "      <td>POINT (-94.582490024 39.091760004)</td>\n",
       "    </tr>\n",
       "    <tr>\n",
       "      <th>9560</th>\n",
       "      <td>04/12/2019 12:00:00 AM</td>\n",
       "      <td>14:27</td>\n",
       "      <td>04/12/2019 12:00:00 AM</td>\n",
       "      <td>Legacy Incident Report/Arrest</td>\n",
       "      <td>NaN</td>\n",
       "      <td>323</td>\n",
       "      <td>2600  PROSPECT AVE KANSAS CITY</td>\n",
       "      <td>NaN</td>\n",
       "      <td>NaN</td>\n",
       "      <td>NaN</td>\n",
       "      <td>Unknown</td>\n",
       "      <td>N</td>\n",
       "      <td>False</td>\n",
       "      <td>2600  PROSPECT AVE KANSAS CITY\\n(42.064863, -8...</td>\n",
       "      <td>POINT (-94.58311 39.10344)</td>\n",
       "    </tr>\n",
       "    <tr>\n",
       "      <th>11913</th>\n",
       "      <td>12/16/2019 12:00:00 AM</td>\n",
       "      <td>14:04</td>\n",
       "      <td>12/10/2019 12:00:00 AM</td>\n",
       "      <td>Forgery</td>\n",
       "      <td>NaN</td>\n",
       "      <td>112</td>\n",
       "      <td>800  E 12TH ST</td>\n",
       "      <td>NaN</td>\n",
       "      <td>NaN</td>\n",
       "      <td>NaN</td>\n",
       "      <td>CPD</td>\n",
       "      <td>N</td>\n",
       "      <td>False</td>\n",
       "      <td>800  E 12TH ST\\n(30.856878, -96.967045)</td>\n",
       "      <td>POINT (-94.267773565 37.492953746)</td>\n",
       "    </tr>\n",
       "    <tr>\n",
       "      <th>34074</th>\n",
       "      <td>08/08/2019 12:00:00 AM</td>\n",
       "      <td>13:10</td>\n",
       "      <td>08/08/2019 12:00:00 AM</td>\n",
       "      <td>Stealing – Shoplift</td>\n",
       "      <td>NaN</td>\n",
       "      <td>344</td>\n",
       "      <td>5000  BLUE RIDGE CTOF KANSAS CITY</td>\n",
       "      <td>NaN</td>\n",
       "      <td>NaN</td>\n",
       "      <td>NaN</td>\n",
       "      <td>Unknown</td>\n",
       "      <td>N</td>\n",
       "      <td>False</td>\n",
       "      <td>5000  BLUE RIDGE CTOF KANSAS CITY\\n(34.327668,...</td>\n",
       "      <td>POINT (-94.58311 39.10344)</td>\n",
       "    </tr>\n",
       "    <tr>\n",
       "      <th>51838</th>\n",
       "      <td>11/05/2019 12:00:00 AM</td>\n",
       "      <td>8:01</td>\n",
       "      <td>11/04/2019 12:00:00 AM</td>\n",
       "      <td>Stealing – Other</td>\n",
       "      <td>NaN</td>\n",
       "      <td>322</td>\n",
       "      <td>3100  STADIUM DR</td>\n",
       "      <td>NaN</td>\n",
       "      <td>NaN</td>\n",
       "      <td>NaN</td>\n",
       "      <td>EPD</td>\n",
       "      <td>N</td>\n",
       "      <td>False</td>\n",
       "      <td>3100  STADIUM DR\\n(42.272048, -85.627393)</td>\n",
       "      <td>POINT (-94.520104414 39.068501244)</td>\n",
       "    </tr>\n",
       "    <tr>\n",
       "      <th>58327</th>\n",
       "      <td>10/21/2019 12:00:00 AM</td>\n",
       "      <td>10:03</td>\n",
       "      <td>09/21/2019 12:00:00 AM</td>\n",
       "      <td>Robbery (Armed Street)</td>\n",
       "      <td>NaN</td>\n",
       "      <td>142</td>\n",
       "      <td>E 38TH ST and FLORA AVE</td>\n",
       "      <td>NaN</td>\n",
       "      <td>NaN</td>\n",
       "      <td>NaN</td>\n",
       "      <td>CPD</td>\n",
       "      <td>N</td>\n",
       "      <td>False</td>\n",
       "      <td>E 38TH ST and FLORA AVE\\n(39.057042, -94.566175)</td>\n",
       "      <td>POINT (-94.566189989 39.057039981)</td>\n",
       "    </tr>\n",
       "    <tr>\n",
       "      <th>133682</th>\n",
       "      <td>04/22/2020 12:00:00 AM</td>\n",
       "      <td>8:14</td>\n",
       "      <td>04/21/2020 12:00:00 AM</td>\n",
       "      <td>Legacy Incident Report/Arrest</td>\n",
       "      <td>NaN</td>\n",
       "      <td>112</td>\n",
       "      <td>1100  LOCUST ST KANSAS CITY</td>\n",
       "      <td>NaN</td>\n",
       "      <td>NaN</td>\n",
       "      <td>NaN</td>\n",
       "      <td>Unknown</td>\n",
       "      <td>N</td>\n",
       "      <td>False</td>\n",
       "      <td>1100  LOCUST ST KANSAS CITY\\n(38.630186, -90.1...</td>\n",
       "      <td>POINT (-94.577321 39.10091)</td>\n",
       "    </tr>\n",
       "    <tr>\n",
       "      <th>237349</th>\n",
       "      <td>03/25/2021 12:00:00 AM</td>\n",
       "      <td>7:28</td>\n",
       "      <td>03/25/2021 12:00:00 AM</td>\n",
       "      <td>Outside State Warrant Arrest</td>\n",
       "      <td>NaN</td>\n",
       "      <td>122</td>\n",
       "      <td>1100  TROOST AVE</td>\n",
       "      <td>NaN</td>\n",
       "      <td>NaN</td>\n",
       "      <td>NaN</td>\n",
       "      <td>CPD</td>\n",
       "      <td>FALSE</td>\n",
       "      <td>False</td>\n",
       "      <td>POINT (-87.817227 41.866327)</td>\n",
       "      <td>POINT (-94.569908685 39.100608412)</td>\n",
       "    </tr>\n",
       "    <tr>\n",
       "      <th>268672</th>\n",
       "      <td>11/02/2021 12:00:00 AM</td>\n",
       "      <td>14:28</td>\n",
       "      <td>11/01/2021 12:00:00 AM</td>\n",
       "      <td>Property Damage</td>\n",
       "      <td>Vandalism/Destruction of Property</td>\n",
       "      <td>111</td>\n",
       "      <td>1800  MADISON ST</td>\n",
       "      <td>NaN</td>\n",
       "      <td>NaN</td>\n",
       "      <td>NaN</td>\n",
       "      <td>CPD</td>\n",
       "      <td>FALSE</td>\n",
       "      <td>False</td>\n",
       "      <td>POINT (-87.697941 42.031642)</td>\n",
       "      <td>POINT (-90.199859662 38.645199298)</td>\n",
       "    </tr>\n",
       "  </tbody>\n",
       "</table>\n",
       "</div>"
      ],
      "text/plain": [
       "                 Reported_Date Reported_Time               From_Date  \\\n",
       "0       01/21/2019 12:00:00 AM          8:34                     NaN   \n",
       "5       03/28/2019 12:00:00 AM         12:01                     NaN   \n",
       "44      01/21/2019 12:00:00 AM          8:34                     NaN   \n",
       "63      02/19/2019 12:00:00 AM         12:57                     NaN   \n",
       "733     02/19/2019 12:00:00 AM         12:57                     NaN   \n",
       "1982    03/29/2019 12:00:00 AM         21:43  03/29/2019 12:00:00 AM   \n",
       "2065    03/19/2019 12:00:00 AM         17:46  03/15/2019 12:00:00 AM   \n",
       "2101    03/27/2019 12:00:00 AM         22:05  03/23/2019 12:00:00 AM   \n",
       "2205    04/23/2019 12:00:00 AM         16:07  04/22/2019 12:00:00 AM   \n",
       "4168    03/28/2019 12:00:00 AM         12:46                     NaN   \n",
       "4809    04/24/2019 12:00:00 AM         17:30  04/24/2019 12:00:00 AM   \n",
       "7455    04/06/2019 12:00:00 AM         12:08  04/05/2019 12:00:00 AM   \n",
       "9560    04/12/2019 12:00:00 AM         14:27  04/12/2019 12:00:00 AM   \n",
       "11913   12/16/2019 12:00:00 AM         14:04  12/10/2019 12:00:00 AM   \n",
       "34074   08/08/2019 12:00:00 AM         13:10  08/08/2019 12:00:00 AM   \n",
       "51838   11/05/2019 12:00:00 AM          8:01  11/04/2019 12:00:00 AM   \n",
       "58327   10/21/2019 12:00:00 AM         10:03  09/21/2019 12:00:00 AM   \n",
       "133682  04/22/2020 12:00:00 AM          8:14  04/21/2020 12:00:00 AM   \n",
       "237349  03/25/2021 12:00:00 AM          7:28  03/25/2021 12:00:00 AM   \n",
       "268672  11/02/2021 12:00:00 AM         14:28  11/01/2021 12:00:00 AM   \n",
       "\n",
       "                                                  Offense  \\\n",
       "0                                    Fraud/Confidence Gam   \n",
       "5                                    Aggravated Assault (   \n",
       "44                                                Forgery   \n",
       "63                                                Forgery   \n",
       "733                                  Fraud/Confidence Gam   \n",
       "1982                        Legacy Incident Report/Arrest   \n",
       "2065                                  Stealing – Shoplift   \n",
       "2101          Stealing from Auto (Auto Part or Accessory)   \n",
       "2205          Stealing from Auto (Auto Part or Accessory)   \n",
       "4168                                 Agg Assault - Drive-   \n",
       "4809    Felon/Prohibited Person in Possession of a Fir...   \n",
       "7455                                            Unfounded   \n",
       "9560                        Legacy Incident Report/Arrest   \n",
       "11913                                             Forgery   \n",
       "34074                                 Stealing – Shoplift   \n",
       "51838                                    Stealing – Other   \n",
       "58327                              Robbery (Armed Street)   \n",
       "133682                      Legacy Incident Report/Arrest   \n",
       "237349                       Outside State Warrant Arrest   \n",
       "268672                                    Property Damage   \n",
       "\n",
       "                                   Description Beat  \\\n",
       "0                                          NaN  NaN   \n",
       "5                                          NaN  NaN   \n",
       "44                                         NaN  NaN   \n",
       "63                                         NaN  NaN   \n",
       "733                                        NaN  NaN   \n",
       "1982                                       NaN  112   \n",
       "2065                       Theft From Building  422   \n",
       "2101                  Theft From Motor Vehicle  113   \n",
       "2205    Theft of Vehicle Parts and Accessories  NaN   \n",
       "4168                                       NaN  NaN   \n",
       "4809                                       NaN  543   \n",
       "7455                                       NaN  113   \n",
       "9560                                       NaN  323   \n",
       "11913                                      NaN  112   \n",
       "34074                                      NaN  344   \n",
       "51838                                      NaN  322   \n",
       "58327                                      NaN  142   \n",
       "133682                                     NaN  112   \n",
       "237349                                     NaN  122   \n",
       "268672       Vandalism/Destruction of Property  111   \n",
       "\n",
       "                                   Address City Zip Code Rep_Dist     Area  \\\n",
       "0                                      NaN  NaN      NaN      NaN  Unknown   \n",
       "5                                      NaN  NaN      NaN      NaN  Unknown   \n",
       "44                                     NaN  NaN      NaN      NaN  Unknown   \n",
       "63                                     NaN  NaN      NaN      NaN  Unknown   \n",
       "733                                    NaN  NaN      NaN      NaN  Unknown   \n",
       "1982                       1100  LOCUST ST  NaN      NaN      NaN      CPD   \n",
       "2065                      1600  NW 88TH ST  NaN      NaN      NaN      NPD   \n",
       "2101                        300  W 22ND ST  NaN      NaN      NaN      CPD   \n",
       "2205                         2500  MADISON  NaN      NaN      NaN  Unknown   \n",
       "4168                                   NaN  NaN      NaN      NaN  Unknown   \n",
       "4809    11800  BLUE RIDGE BLVD KANSAS CITY  NaN      NaN      NaN  Unknown   \n",
       "7455               E 18TH ST and WALNUT ST  NaN      NaN      NaN      CPD   \n",
       "9560        2600  PROSPECT AVE KANSAS CITY  NaN      NaN      NaN  Unknown   \n",
       "11913                       800  E 12TH ST  NaN      NaN      NaN      CPD   \n",
       "34074    5000  BLUE RIDGE CTOF KANSAS CITY  NaN      NaN      NaN  Unknown   \n",
       "51838                     3100  STADIUM DR  NaN      NaN      NaN      EPD   \n",
       "58327              E 38TH ST and FLORA AVE  NaN      NaN      NaN      CPD   \n",
       "133682         1100  LOCUST ST KANSAS CITY  NaN      NaN      NaN  Unknown   \n",
       "237349                    1100  TROOST AVE  NaN      NaN      NaN      CPD   \n",
       "268672                    1800  MADISON ST  NaN      NaN      NaN      CPD   \n",
       "\n",
       "       DVFlag  Fire Arm Used Flag  \\\n",
       "0           U               False   \n",
       "5           U                True   \n",
       "44          U               False   \n",
       "63          U               False   \n",
       "733         U               False   \n",
       "1982        N               False   \n",
       "2065        N               False   \n",
       "2101        N               False   \n",
       "2205        N               False   \n",
       "4168        U                True   \n",
       "4809        N               False   \n",
       "7455        N               False   \n",
       "9560        N               False   \n",
       "11913       N               False   \n",
       "34074       N               False   \n",
       "51838       N               False   \n",
       "58327       N               False   \n",
       "133682      N               False   \n",
       "237349  FALSE               False   \n",
       "268672  FALSE               False   \n",
       "\n",
       "                                                 Location  \\\n",
       "0                                                     NaN   \n",
       "5                                                     NaN   \n",
       "44                                                    NaN   \n",
       "63                                                    NaN   \n",
       "733                                                   NaN   \n",
       "1982            1100  LOCUST ST\\n(37.895369, -122.061186)   \n",
       "2065                 1600  NW 88TH ST\\n(39.2548, -94.599)   \n",
       "2101              300  W 22ND ST\\n(41.847595, -87.927551)   \n",
       "2205                                                  NaN   \n",
       "4168                                                  NaN   \n",
       "4809    11800  BLUE RIDGE BLVD KANSAS CITY\\n(38.910232...   \n",
       "7455     E 18TH ST and WALNUT ST\\n(39.863779, -75.359812)   \n",
       "9560    2600  PROSPECT AVE KANSAS CITY\\n(42.064863, -8...   \n",
       "11913             800  E 12TH ST\\n(30.856878, -96.967045)   \n",
       "34074   5000  BLUE RIDGE CTOF KANSAS CITY\\n(34.327668,...   \n",
       "51838           3100  STADIUM DR\\n(42.272048, -85.627393)   \n",
       "58327    E 38TH ST and FLORA AVE\\n(39.057042, -94.566175)   \n",
       "133682  1100  LOCUST ST KANSAS CITY\\n(38.630186, -90.1...   \n",
       "237349                       POINT (-87.817227 41.866327)   \n",
       "268672                       POINT (-87.697941 42.031642)   \n",
       "\n",
       "                             Geo_Location1  \n",
       "0       POINT (-92.477746617 38.367982746)  \n",
       "5       POINT (-92.477746617 38.367982746)  \n",
       "44      POINT (-92.477746617 38.367982746)  \n",
       "63      POINT (-92.477746617 38.367982746)  \n",
       "733     POINT (-92.477746617 38.367982746)  \n",
       "1982    POINT (-92.325135037 38.949202983)  \n",
       "2065    POINT (-94.598896007 39.254440004)  \n",
       "2101    POINT (-94.588031971 39.086729982)  \n",
       "2205    POINT (-94.595492033 39.081925014)  \n",
       "4168    POINT (-92.477746617 38.367982746)  \n",
       "4809          POINT (-94.509731 38.922341)  \n",
       "7455    POINT (-94.582490024 39.091760004)  \n",
       "9560            POINT (-94.58311 39.10344)  \n",
       "11913   POINT (-94.267773565 37.492953746)  \n",
       "34074           POINT (-94.58311 39.10344)  \n",
       "51838   POINT (-94.520104414 39.068501244)  \n",
       "58327   POINT (-94.566189989 39.057039981)  \n",
       "133682         POINT (-94.577321 39.10091)  \n",
       "237349  POINT (-94.569908685 39.100608412)  \n",
       "268672  POINT (-90.199859662 38.645199298)  "
      ]
     },
     "metadata": {},
     "output_type": "display_data"
    }
   ],
   "source": [
    "nan_city_rows = KS2[KS2['City'].isna()]\n",
    "print(\"Rows with NaN values in 'City':\")\n",
    "display(nan_city_rows)"
   ]
  },
  {
   "cell_type": "markdown",
   "id": "9530653f-874c-40f3-b0e3-e4dc5ab86b17",
   "metadata": {},
   "source": [
    "- Change City to 'Unknown' if City is NaN and Address is Nan"
   ]
  },
  {
   "cell_type": "code",
   "execution_count": 51,
   "id": "1fe70b4b-edae-4068-83dd-9054dd8af13b",
   "metadata": {},
   "outputs": [],
   "source": [
    "KS2.loc[KS2['City'].isna() & KS2['Address'].isna(), 'City'] = 'Unknown'"
   ]
  },
  {
   "cell_type": "code",
   "execution_count": 52,
   "id": "86bc23d6-6716-420c-a1a4-9787d81b11d6",
   "metadata": {},
   "outputs": [
    {
     "name": "stdout",
     "output_type": "stream",
     "text": [
      "<class 'pandas.core.frame.DataFrame'>\n",
      "Index: 312430 entries, 0 to 522904\n",
      "Data columns (total 15 columns):\n",
      " #   Column              Non-Null Count   Dtype \n",
      "---  ------              --------------   ----- \n",
      " 0   Reported_Date       312430 non-null  object\n",
      " 1   Reported_Time       312430 non-null  object\n",
      " 2   From_Date           312389 non-null  object\n",
      " 3   Offense             312430 non-null  object\n",
      " 4   Description         255996 non-null  object\n",
      " 5   Beat                311344 non-null  object\n",
      " 6   Address             312424 non-null  object\n",
      " 7   City                312416 non-null  object\n",
      " 8   Zip Code            286082 non-null  object\n",
      " 9   Rep_Dist            247217 non-null  object\n",
      " 10  Area                312430 non-null  object\n",
      " 11  DVFlag              312430 non-null  object\n",
      " 12  Fire Arm Used Flag  312430 non-null  bool  \n",
      " 13  Location            272151 non-null  object\n",
      " 14  Geo_Location1       312409 non-null  object\n",
      "dtypes: bool(1), object(14)\n",
      "memory usage: 36.1+ MB\n"
     ]
    }
   ],
   "source": [
    "KS2.info()"
   ]
  },
  {
   "cell_type": "markdown",
   "id": "61c04ce3-0a2c-40b7-b084-5cbfa3f310d4",
   "metadata": {},
   "source": [
    "- If Address is NaN, ZipCode is NaN, Location is NaN, then drop row."
   ]
  },
  {
   "cell_type": "code",
   "execution_count": 54,
   "id": "2125d9fa-da4e-4356-843e-c6a36bbff1e9",
   "metadata": {},
   "outputs": [],
   "source": [
    "# Drop rows where Address, Zip Code, and Location are all NaN\n",
    "KS2 = KS2.dropna(subset=['Address', 'Beat', 'Zip Code', 'Location'], how='all')"
   ]
  },
  {
   "cell_type": "markdown",
   "id": "42088a7a-5e71-4ecd-a5eb-ab2b872e42ba",
   "metadata": {},
   "source": [
    "- Look for typos in City"
   ]
  },
  {
   "cell_type": "code",
   "execution_count": 56,
   "id": "0ed0c99e-cd78-4f2a-a003-6f785483bec2",
   "metadata": {},
   "outputs": [
    {
     "name": "stdout",
     "output_type": "stream",
     "text": [
      "                         City   Count\n",
      "0                 KANSAS CITY  309261\n",
      "1                     LIBERTY     594\n",
      "2                INDEPENDENCE     366\n",
      "3                 PLATTE CITY     245\n",
      "4                   GRANDVIEW     215\n",
      "5                 LEES SUMMIT     140\n",
      "6                       INDEP     137\n",
      "7                     RAYTOWN     128\n",
      "8                  KANAS CITY     112\n",
      "9                   GLADSTONE      87\n",
      "10          NORTH KANSAS CITY      84\n",
      "11               BLUE SPRINGS      80\n",
      "12                     BELTON      79\n",
      "13                  RIVERSIDE      61\n",
      "14                        NKC      50\n",
      "15                     KANSAS      45\n",
      "16              HARRISONVILLE      44\n",
      "17                SUGAR CREEK      34\n",
      "18                       KCMO      27\n",
      "19                 KANSA CITY      25\n",
      "20                KASNAS CITY      24\n",
      "21              OVERLAND PARK      24\n",
      "22                    RAYMORE      22\n",
      "23                        KCK      19\n",
      "24               LEE'S SUMMIT      17\n",
      "25                 LEE SUMMIT      17\n",
      "26                         KC      15\n",
      "27                   CLAYCOMO      15\n",
      "28            PLEASANT VALLEY      14\n",
      "29                KANSAS CTIY      13\n",
      "30          EXCELSIOR SPRINGS      13\n",
      "31                    LEAWOOD      12\n",
      "32                 KANSASCITY      11\n",
      "33                KANASA CITY      11\n",
      "34                    JACKSON      10\n",
      "35               KANASAS CITY      10\n",
      "36                KNASAS CITY      10\n",
      "37                 KANSAS CIY      10\n",
      "38                 KANSAS CIT       7\n",
      "39                  PARKVILLE       7\n",
      "40             JEFFERSON CITY       7\n",
      "41                  ST JOSEPH       7\n",
      "42       KANSAS CITY MISSOURI       7\n",
      "43   KANSAS CITY MISSOURI USA       6\n",
      "44                    UNKNOWN       6\n",
      "45                 KANSS CITY       5\n",
      "46                    CAMERON       5\n",
      "47                    SHAWNEE       5\n",
      "48             KANSAS CITY MO       5\n",
      "49                 KANSAS CTY       5\n",
      "50                   HARRISON       5\n",
      "51               KANSAS CITTY       5\n",
      "52                     OLATHE       5\n",
      "53               KANSAS C ITY       4\n",
      "54               KANSAS CITIY       4\n",
      "55                 PLATTSBURG       4\n",
      "56               KANSASS CITY       4\n",
      "57                 ST. JOSEPH       4\n",
      "58                 SMITHVILLE       4\n",
      "59              N KANSAS CITY       4\n",
      "60                KANSA SCITY       3\n",
      "61                  LAS VEGAS       3\n",
      "62                      64106       3\n",
      "63                    MERRIAM       3\n",
      "64                   BRIGHTON       3\n",
      "65                 KANSAS ITY       3\n",
      "66                    MOBERLY       3\n",
      "67                      64105       3\n",
      "68                    LANSING       3\n",
      "69               KANSASA CITY       3\n",
      "70               PLATTE WOODS       3\n",
      "71                 PLATTE CTY       2\n",
      "72                     TOPEKA       2\n",
      "73                      64123       2\n",
      "74                     WALNUT       2\n",
      "75                 KASAS CITY       2\n",
      "76                    ATLANTA       2\n",
      "77              KANSAS CITYTY       2\n",
      "78                 KNSAS CITY       2\n",
      "79                KANSSA CITY       2\n",
      "80               HIGGINSVILLE       2\n",
      "81                  PLATSBURG       2\n",
      "82                       1604       2\n",
      "83                    LICKING       2\n",
      "84                     LENEXA       2\n",
      "85                KAMSAS COTU       2\n",
      "86                BLUE SUMMIT       2\n",
      "87               KKANSAS CITY       2\n",
      "88                      64111       2\n",
      "89                   RANDOLPH       2\n",
      "90                      AGNES       2\n",
      "91               KANSAAS CITY       2\n",
      "92                     FULTON       2\n",
      "93                   COLUMBIA       2\n",
      "94                 DODGE CITY       2\n",
      "95                    MISSION       2\n",
      "96                SAN ANTONIO       1\n",
      "97                      LOGAN       1\n",
      "98               KANSAS SCITY       1\n",
      "99                   GLASTONE       1\n",
      "100        DESERT HOT SPRINGS       1\n",
      "101                 OAK GROVE       1\n",
      "102              GRAIN VALLEY       1\n",
      "103         NORTH BEACH MIAMI       1\n",
      "104                KINGSVILLE       1\n",
      "105                NORTHMOORE       1\n",
      "106              HOUSTON LAKE       1\n",
      "107                     TULSA       1\n",
      "108                       UNK       1\n",
      "109         EL DORADO SPRINGS       1\n",
      "110                     MILLS       1\n",
      "111                 ST. LOUIS       1\n",
      "112          COLORADO SPRINGS       1\n",
      "113              ROELAND PARK       1\n",
      "114                FLORISSANT       1\n",
      "115              BLUR SPRINGS       1\n",
      "116                LEESSUMMIT       1\n",
      "117             0VERLAND PARK       1\n",
      "118              KANSAS CITHY       1\n",
      "119             BLUES SPRINGS       1\n",
      "120                  AMAZONIA       1\n",
      "121                    DALLAS       1\n",
      "122              KA NSAS CITY       1\n",
      "123               KANSAS CITR       1\n",
      "124               KANSAS CIRT       1\n",
      "125                     64130       1\n",
      "126                 NASHVILLE       1\n",
      "127                BOONEVILLE       1\n",
      "128              GRAVOIS MILL       1\n",
      "129                 ANN ARBOR       1\n",
      "130               KANSAS CIRY       1\n",
      "131               LOS ANGELES       1\n",
      "132               INDEPEDENCE       1\n",
      "133               KAMSAS CITY       1\n",
      "134              KANSAS CI TY       1\n",
      "135                 PRINCETON       1\n",
      "136                   COWGILL       1\n",
      "137                     64114       1\n",
      "138               CHILLICOTHE       1\n",
      "139                   DE SOTO       1\n",
      "140                   RALEIGH       1\n",
      "141              KASNSAS CITY       1\n",
      "142                   BUCKNER       1\n",
      "143                     TAMPA       1\n",
      "144                     64108       1\n",
      "145                SAINT PAUL       1\n",
      "146                KIRKSVILLE       1\n",
      "147                 CONCORDIA       1\n",
      "148                   CLINTON       1\n",
      "149                 PEACHTREE       1\n",
      "150                   GARDNER       1\n",
      "151           WEST DES MOINES       1\n",
      "152              KANSAS CITYT       1\n",
      "153                     64155       1\n",
      "154         KANSAS CITY 64117       1\n",
      "155                 LITTLETON       1\n",
      "156              EDWARDSVILLE       1\n",
      "157                 LEXINGTON       1\n",
      "158                   LINWOOD       1\n",
      "159               KASNAS COTY       1\n",
      "160                    MEXICO       1\n",
      "161                     OMAHA       1\n",
      "162                 BOONVILLE       1\n",
      "163                 NORTHMOOR       1\n",
      "164                 LAWERENCE       1\n",
      "165                   GUEYDAN       1\n",
      "166                    GALENA       1\n",
      "167                   KILLEEN       1\n",
      "168            LAKE WINNEBAGO       1\n",
      "169               LEAVENWORTH       1\n",
      "170                GLADESTONE       1\n",
      "171                KANAS CTIY       1\n",
      "172               HUMANSVILLE       1\n",
      "173                   CHICAGO       1\n",
      "174              KANSAS CIITY       1\n",
      "175               BRATTLEBORO       1\n",
      "176                CEDAR HILL       1\n",
      "177                FARMINGTON       1\n",
      "178               INDPENDENCE       1\n",
      "179                  KINGSTON       1\n",
      "180                CENTERVIEW       1\n",
      "181              KANSAS CITYY       1\n",
      "182              KANSAS CTITY       1\n",
      "183               KANSAS UNIT       1\n",
      "184               KANSAS CITH       1\n",
      "185              KANNSAS CITY       1\n",
      "186               SPRINGFIELD       1\n",
      "187                  VANDALIA       1\n",
      "188            CAPE CANAVERAL       1\n",
      "189             INDEDPENDENCE       1\n",
      "190               BOLINGBROOK       1\n",
      "191                     64126       1\n",
      "192                ST CHARLES       1\n",
      "193                   OAKVIEW       1\n",
      "194              KANSAS CIRTY       1\n",
      "195                   SEDALIA       1\n",
      "196                  TOMPKINS       1\n",
      "197               KANSAS CIYT       1\n",
      "198                  LAKELAND       1\n",
      "199               LITTLE ROCK       1\n",
      "200            CARUTHERSVILLE       1\n",
      "201                     64132       1\n",
      "202                        PL       1\n",
      "203                      GOFF       1\n",
      "204                  PECULIAR       1\n",
      "205               MURPHYSBORO       1\n",
      "206                RIVER BEND       1\n",
      "207                   WICHITA       1\n",
      "208               FORT PIERCE       1\n",
      "209               KANSAS CITU       1\n",
      "210                  LAWRENCE       1\n",
      "211                     MCGEE       1\n",
      "212                     ATHOL       1\n",
      "213                  ST LOUIS       1\n",
      "214                     KANAS       1\n",
      "215               KNASAS CTIY       1\n",
      "216               PLATTESBURG       1\n",
      "217                   PACIFIC       1\n",
      "218                 BRADENTON       1\n",
      "219                  ROSAMOND       1\n",
      "220                     UNION       1\n",
      "221                 PLATTE CO       1\n",
      "222                    AUSTIN       1\n",
      "223                 LONGBEACH       1\n",
      "224             BOWLING GREED       1\n",
      "225              KANSAS CIT Y       1\n",
      "226             INDEPENDEANCE       1\n"
     ]
    }
   ],
   "source": [
    "city_counts = KS2['City'].value_counts().reset_index()\n",
    "city_counts.columns = ['City', 'Count']\n",
    "\n",
    "# Display all rows\n",
    "pd.set_option('display.max_rows', None)  # Show all rows in the output\n",
    "print(city_counts)"
   ]
  },
  {
   "cell_type": "markdown",
   "id": "5d728f88-6e41-4e33-a539-73ee46e09b58",
   "metadata": {},
   "source": [
    "There are some typos in the City names."
   ]
  },
  {
   "cell_type": "code",
   "execution_count": 58,
   "id": "1cc6d063-d126-4e8f-a0f2-4fb13faacac8",
   "metadata": {},
   "outputs": [],
   "source": [
    "# Correct the values in the 'City' column\n",
    "KS2['City'] = KS2['City'].replace({\n",
    "    'KANAS CITY': 'KANSAS CITY',\n",
    "    'KANSAS CITHY': 'KANSAS CITY',\n",
    "    'KANSAS CIITY': 'KANSAS CITY',\n",
    "    'KANNSAS CITY': 'KANSAS CITY',\n",
    "    'KANSAS': 'KANSAS CITY',\n",
    "    'KCMO': 'KANSAS CITY',\n",
    "    'KANSA CITY': 'KANSAS CITY',\n",
    "    'KANSAS CITYY': 'KANSAS CITY',\n",
    "    'KANSAS COTY': 'KANSAS CITY',\n",
    "    'KASNAS CITY': 'KANSAS CITY',\n",
    "    'KASNAS CITYY': 'KANSAS CITY',\n",
    "    'KASNAS COTY': 'KANSAS CITY',\n",
    "    'KANASAS CITY': 'KANSAS CITY',\n",
    "    'KCMO': 'KANSAS CITY',\n",
    "    'KC': 'KANSAS CITY',\n",
    "    'KANSASCITY': 'KANSAS CITY',\n",
    "    'KANASA CITY': 'KANSAS CITY',\n",
    "    'KANSAS CITY MISSOURI USA': 'KANSAS CITY',\n",
    "    'KANSAS CIY': 'KANSAS CITY',\n",
    "    'KNASAS CITY': 'KANSAS CITY',\n",
    "    'KANSAS CTY': 'KANSAS CITY',\n",
    "    'KANSAS CITY MISSOURI': 'KANSAS CITY',\n",
    "    'KANSAS CITTY': 'KANSAS CITY',\n",
    "    'KANSAS CIT': 'KANSAS CITY',\n",
    "    'KANSAS CITYTY': 'KANSAS CITY',\n",
    "    'KANSAS CITY MO': 'KANSAS CITY',\n",
    "    'KANSAS ITY': 'KANSAS CITY',\n",
    "    'KANSAS C ITY': 'KANSAS CITY',\n",
    "    'KANSAS CITIY': 'KANSAS CITY',\n",
    "    'KANSASS CITY': 'KANSAS CITY',\n",
    "    'KANSS CITY': 'KANSAS CITY',\n",
    "    'KASAS CITY': 'KANSAS CITY',\n",
    "    'KANSASA CITY': 'KANSAS CITY',\n",
    "    'KANSSA CITY': 'KANSAS CITY',\n",
    "    'NORTH KANSAS CITY': 'KANSAS CITY',\n",
    "    'KANSAAS CITY': 'KANSAS CITY',\n",
    "    'KAMSAS CITY': 'KANSAS CITY',\n",
    "    'KKANSAS CITY': 'KANSAS CITY',\n",
    "    'KANSA SCITY': 'KANSAS CITY',\n",
    "    'KANSAS CIRT': 'KANSAS CITY',\n",
    "    'KANSAS CIRTY': 'KANSAS CITY',\n",
    "    'KANAS': 'KANSAS CITY',\n",
    "    'KANSAS CITU': 'KANSAS CITY',\n",
    "    'KANSAS SCITY': 'KANSAS CITY',\n",
    "    'KASNSAS CITY': 'KANSAS CITY',\n",
    "    'KA NSAS CITY': 'KANSAS CITY',\n",
    "    'KNSAS CITY': 'KANSAS CITY',\n",
    "    'KANSAS CITH': 'KANSAS CITY',\n",
    "    'KANSAS CTITY': 'KANSAS CITY',\n",
    "    'KANSAS CIYT': 'KANSAS CITY',\n",
    "    'KANSAS CITYT': 'KANSAS CITY',\n",
    "    'KANSAS CITY 64117': 'KANSAS CITY',\n",
    "    'KANSAS CIRY': 'KANSAS CITY',\n",
    "    'KANSAS CIT Y ': 'KANSAS CITY',\n",
    "    'N KANSAS CITY': 'KANSAS CITY',\n",
    "    'KANSAS CITR': 'KANSAS CITY',\n",
    "    'KASNAS COTY': 'KANSAS CITY',\n",
    "    'KANSAS CI TY': 'KANSAS CITY',\n",
    "    'KANSAS CIT Y': 'KANSAS CITY',\n",
    "    'KANAS CTIY': 'KANSAS CITY',\n",
    "    'KANSAS CTIY': 'KANSAS CITY',\n",
    "    'KAMSAS COTU': 'KANSAS CITY',\n",
    "    'KNASAS CTIY': 'KANSAS CITY',\n",
    "    'KANSAS CITYY': 'KANSAS CITY',\n",
    "    'KANSAS CITHY': 'KANSAS CITY',\n",
    "    'KANSAS CIITY': 'KANSAS CITY',\n",
    "    'KANNSAS CITY': 'KANSAS CITY',\n",
    "    'KANSAS UNIT': 'KANSAS CITY',\n",
    "    'KCK': 'KANSAS CITY',\n",
    "    'UNKNOWN': 'KANSAS CITY',\n",
    "    '1604': 'KANSAS CITY',\n",
    "    '64114': 'KANSAS CITY',\n",
    "    '64126': 'KANSAS CITY',\n",
    "    '64130': 'KANSAS CITY',\n",
    "    '64155': 'KANSAS CITY',\n",
    "    '64132': 'KANSAS CITY',\n",
    "    '64111': 'KANSAS CITY',\n",
    "    '64108': 'KANSAS CITY',\n",
    "    '64105': 'KANSAS CITY',\n",
    "    '64106': 'KANSAS CITY',\n",
    "    '64123': 'KANSAS CITY',\n",
    "    \n",
    "})"
   ]
  },
  {
   "cell_type": "code",
   "execution_count": 59,
   "id": "8c2628db-9b84-4781-abe2-a7c4bb3ed9c4",
   "metadata": {},
   "outputs": [
    {
     "name": "stdout",
     "output_type": "stream",
     "text": [
      "                   City   Count\n",
      "0           KANSAS CITY  309805\n",
      "1               LIBERTY     594\n",
      "2          INDEPENDENCE     366\n",
      "3           PLATTE CITY     245\n",
      "4             GRANDVIEW     215\n",
      "5           LEES SUMMIT     140\n",
      "6                 INDEP     137\n",
      "7               RAYTOWN     128\n",
      "8             GLADSTONE      87\n",
      "9          BLUE SPRINGS      80\n",
      "10               BELTON      79\n",
      "11            RIVERSIDE      61\n",
      "12                  NKC      50\n",
      "13        HARRISONVILLE      44\n",
      "14          SUGAR CREEK      34\n",
      "15        OVERLAND PARK      24\n",
      "16              RAYMORE      22\n",
      "17           LEE SUMMIT      17\n",
      "18         LEE'S SUMMIT      17\n",
      "19             CLAYCOMO      15\n",
      "20      PLEASANT VALLEY      14\n",
      "21    EXCELSIOR SPRINGS      13\n",
      "22              LEAWOOD      12\n",
      "23              JACKSON      10\n",
      "24            PARKVILLE       7\n",
      "25            ST JOSEPH       7\n",
      "26       JEFFERSON CITY       7\n",
      "27             HARRISON       5\n",
      "28               OLATHE       5\n",
      "29              SHAWNEE       5\n",
      "30              CAMERON       5\n",
      "31           SMITHVILLE       4\n",
      "32           PLATTSBURG       4\n",
      "33           ST. JOSEPH       4\n",
      "34              LANSING       3\n",
      "35             BRIGHTON       3\n",
      "36              MERRIAM       3\n",
      "37         PLATTE WOODS       3\n",
      "38              MOBERLY       3\n",
      "39            LAS VEGAS       3\n",
      "40           PLATTE CTY       2\n",
      "41         HIGGINSVILLE       2\n",
      "42             RANDOLPH       2\n",
      "43              ATLANTA       2\n",
      "44               TOPEKA       2\n",
      "45             COLUMBIA       2\n",
      "46          BLUE SUMMIT       2\n",
      "47              MISSION       2\n",
      "48                AGNES       2\n",
      "49               LENEXA       2\n",
      "50           DODGE CITY       2\n",
      "51               FULTON       2\n",
      "52               WALNUT       2\n",
      "53              LICKING       2\n",
      "54            PLATSBURG       2\n",
      "55    NORTH BEACH MIAMI       1\n",
      "56         GRAIN VALLEY       1\n",
      "57            OAK GROVE       1\n",
      "58        0VERLAND PARK       1\n",
      "59           LEESSUMMIT       1\n",
      "60            LEXINGTON       1\n",
      "61           FLORISSANT       1\n",
      "62         ROELAND PARK       1\n",
      "63     COLORADO SPRINGS       1\n",
      "64            ST. LOUIS       1\n",
      "65                MILLS       1\n",
      "66    EL DORADO SPRINGS       1\n",
      "67                  UNK       1\n",
      "68            LITTLETON       1\n",
      "69                TULSA       1\n",
      "70                LOGAN       1\n",
      "71         HOUSTON LAKE       1\n",
      "72           NORTHMOORE       1\n",
      "73           KINGSVILLE       1\n",
      "74          SAN ANTONIO       1\n",
      "75      WEST DES MOINES       1\n",
      "76             GLASTONE       1\n",
      "77        BLUES SPRINGS       1\n",
      "78              COWGILL       1\n",
      "79            PRINCETON       1\n",
      "80          INDEPEDENCE       1\n",
      "81          LOS ANGELES       1\n",
      "82            ANN ARBOR       1\n",
      "83         GRAVOIS MILL       1\n",
      "84           BOONEVILLE       1\n",
      "85            NASHVILLE       1\n",
      "86          CHILLICOTHE       1\n",
      "87              CLINTON       1\n",
      "88          FORT PIERCE       1\n",
      "89              GARDNER       1\n",
      "90            PEACHTREE       1\n",
      "91            CONCORDIA       1\n",
      "92              RALEIGH       1\n",
      "93           KIRKSVILLE       1\n",
      "94             AMAZONIA       1\n",
      "95           SAINT PAUL       1\n",
      "96                TAMPA       1\n",
      "97              BUCKNER       1\n",
      "98              DE SOTO       1\n",
      "99               DALLAS       1\n",
      "100        BLUR SPRINGS       1\n",
      "101         BRATTLEBORO       1\n",
      "102           LONGBEACH       1\n",
      "103             WICHITA       1\n",
      "104          RIVER BEND       1\n",
      "105      LAKE WINNEBAGO       1\n",
      "106             KILLEEN       1\n",
      "107             GUEYDAN       1\n",
      "108             LINWOOD       1\n",
      "109           NORTHMOOR       1\n",
      "110           BOONVILLE       1\n",
      "111              MEXICO       1\n",
      "112              GALENA       1\n",
      "113         BOLINGBROOK       1\n",
      "114       INDEDPENDENCE       1\n",
      "115      CAPE CANAVERAL       1\n",
      "116            VANDALIA       1\n",
      "117         SPRINGFIELD       1\n",
      "118         INDPENDENCE       1\n",
      "119          FARMINGTON       1\n",
      "120  DESERT HOT SPRINGS       1\n",
      "121            KINGSTON       1\n",
      "122          CENTERVIEW       1\n",
      "123          CEDAR HILL       1\n",
      "124             CHICAGO       1\n",
      "125               OMAHA       1\n",
      "126           LAWERENCE       1\n",
      "127              AUSTIN       1\n",
      "128         LEAVENWORTH       1\n",
      "129          GLADESTONE       1\n",
      "130         HUMANSVILLE       1\n",
      "131               MCGEE       1\n",
      "132         MURPHYSBORO       1\n",
      "133            PECULIAR       1\n",
      "134                GOFF       1\n",
      "135      CARUTHERSVILLE       1\n",
      "136         LITTLE ROCK       1\n",
      "137            LAKELAND       1\n",
      "138        EDWARDSVILLE       1\n",
      "139            TOMPKINS       1\n",
      "140             SEDALIA       1\n",
      "141            LAWRENCE       1\n",
      "142               ATHOL       1\n",
      "143          ST CHARLES       1\n",
      "144            ST LOUIS       1\n",
      "145         PLATTESBURG       1\n",
      "146             PACIFIC       1\n",
      "147           BRADENTON       1\n",
      "148            ROSAMOND       1\n",
      "149               UNION       1\n",
      "150           PLATTE CO       1\n",
      "151       BOWLING GREED       1\n",
      "152                  PL       1\n",
      "153             OAKVIEW       1\n",
      "154       INDEPENDEANCE       1\n"
     ]
    }
   ],
   "source": [
    "#KS2.City.value_counts()\n",
    "city_counts = KS2['City'].value_counts().reset_index()\n",
    "city_counts.columns = ['City', 'Count']\n",
    "\n",
    "# Display all rows\n",
    "pd.set_option('display.max_rows', None)  # Show all rows in the output\n",
    "print(city_counts)"
   ]
  },
  {
   "cell_type": "markdown",
   "id": "7ffe4b2c-9b48-47d1-a7a7-5b8448b2d4fa",
   "metadata": {},
   "source": [
    "- Sort alphabetically, to search for more typos:"
   ]
  },
  {
   "cell_type": "code",
   "execution_count": 61,
   "id": "9d28a952-8fc7-422c-bcb3-b2aa71fb3a85",
   "metadata": {},
   "outputs": [
    {
     "name": "stdout",
     "output_type": "stream",
     "text": [
      "                   City   Count\n",
      "58        0VERLAND PARK       1\n",
      "48                AGNES       2\n",
      "94             AMAZONIA       1\n",
      "82            ANN ARBOR       1\n",
      "142               ATHOL       1\n",
      "43              ATLANTA       2\n",
      "127              AUSTIN       1\n",
      "10               BELTON      79\n",
      "9          BLUE SPRINGS      80\n",
      "46          BLUE SUMMIT       2\n",
      "77        BLUES SPRINGS       1\n",
      "100        BLUR SPRINGS       1\n",
      "113         BOLINGBROOK       1\n",
      "84           BOONEVILLE       1\n",
      "110           BOONVILLE       1\n",
      "151       BOWLING GREED       1\n",
      "147           BRADENTON       1\n",
      "101         BRATTLEBORO       1\n",
      "35             BRIGHTON       3\n",
      "97              BUCKNER       1\n",
      "30              CAMERON       5\n",
      "115      CAPE CANAVERAL       1\n",
      "135      CARUTHERSVILLE       1\n",
      "123          CEDAR HILL       1\n",
      "122          CENTERVIEW       1\n",
      "124             CHICAGO       1\n",
      "86          CHILLICOTHE       1\n",
      "19             CLAYCOMO      15\n",
      "87              CLINTON       1\n",
      "63     COLORADO SPRINGS       1\n",
      "45             COLUMBIA       2\n",
      "91            CONCORDIA       1\n",
      "78              COWGILL       1\n",
      "99               DALLAS       1\n",
      "98              DE SOTO       1\n",
      "120  DESERT HOT SPRINGS       1\n",
      "50           DODGE CITY       2\n",
      "138        EDWARDSVILLE       1\n",
      "66    EL DORADO SPRINGS       1\n",
      "21    EXCELSIOR SPRINGS      13\n",
      "119          FARMINGTON       1\n",
      "61           FLORISSANT       1\n",
      "88          FORT PIERCE       1\n",
      "51               FULTON       2\n",
      "112              GALENA       1\n",
      "89              GARDNER       1\n",
      "129          GLADESTONE       1\n",
      "8             GLADSTONE      87\n",
      "76             GLASTONE       1\n",
      "134                GOFF       1\n",
      "56         GRAIN VALLEY       1\n",
      "4             GRANDVIEW     215\n",
      "83         GRAVOIS MILL       1\n",
      "107             GUEYDAN       1\n",
      "27             HARRISON       5\n",
      "13        HARRISONVILLE      44\n",
      "41         HIGGINSVILLE       2\n",
      "71         HOUSTON LAKE       1\n",
      "130         HUMANSVILLE       1\n",
      "114       INDEDPENDENCE       1\n",
      "6                 INDEP     137\n",
      "80          INDEPEDENCE       1\n",
      "154       INDEPENDEANCE       1\n",
      "2          INDEPENDENCE     366\n",
      "118         INDPENDENCE       1\n",
      "23              JACKSON      10\n",
      "26       JEFFERSON CITY       7\n",
      "0           KANSAS CITY  309805\n",
      "106             KILLEEN       1\n",
      "121            KINGSTON       1\n",
      "73           KINGSVILLE       1\n",
      "93           KIRKSVILLE       1\n",
      "105      LAKE WINNEBAGO       1\n",
      "137            LAKELAND       1\n",
      "34              LANSING       3\n",
      "39            LAS VEGAS       3\n",
      "126           LAWERENCE       1\n",
      "141            LAWRENCE       1\n",
      "128         LEAVENWORTH       1\n",
      "22              LEAWOOD      12\n",
      "17           LEE SUMMIT      17\n",
      "18         LEE'S SUMMIT      17\n",
      "5           LEES SUMMIT     140\n",
      "59           LEESSUMMIT       1\n",
      "49               LENEXA       2\n",
      "60            LEXINGTON       1\n",
      "1               LIBERTY     594\n",
      "53              LICKING       2\n",
      "108             LINWOOD       1\n",
      "136         LITTLE ROCK       1\n",
      "68            LITTLETON       1\n",
      "70                LOGAN       1\n",
      "102           LONGBEACH       1\n",
      "81          LOS ANGELES       1\n",
      "131               MCGEE       1\n",
      "36              MERRIAM       3\n",
      "111              MEXICO       1\n",
      "65                MILLS       1\n",
      "47              MISSION       2\n",
      "38              MOBERLY       3\n",
      "132         MURPHYSBORO       1\n",
      "85            NASHVILLE       1\n",
      "12                  NKC      50\n",
      "55    NORTH BEACH MIAMI       1\n",
      "109           NORTHMOOR       1\n",
      "72           NORTHMOORE       1\n",
      "57            OAK GROVE       1\n",
      "153             OAKVIEW       1\n",
      "28               OLATHE       5\n",
      "125               OMAHA       1\n",
      "15        OVERLAND PARK      24\n",
      "146             PACIFIC       1\n",
      "24            PARKVILLE       7\n",
      "90            PEACHTREE       1\n",
      "133            PECULIAR       1\n",
      "152                  PL       1\n",
      "54            PLATSBURG       2\n",
      "3           PLATTE CITY     245\n",
      "150           PLATTE CO       1\n",
      "40           PLATTE CTY       2\n",
      "37         PLATTE WOODS       3\n",
      "145         PLATTESBURG       1\n",
      "32           PLATTSBURG       4\n",
      "20      PLEASANT VALLEY      14\n",
      "79            PRINCETON       1\n",
      "92              RALEIGH       1\n",
      "42             RANDOLPH       2\n",
      "16              RAYMORE      22\n",
      "7               RAYTOWN     128\n",
      "104          RIVER BEND       1\n",
      "11            RIVERSIDE      61\n",
      "62         ROELAND PARK       1\n",
      "148            ROSAMOND       1\n",
      "95           SAINT PAUL       1\n",
      "74          SAN ANTONIO       1\n",
      "140             SEDALIA       1\n",
      "29              SHAWNEE       5\n",
      "31           SMITHVILLE       4\n",
      "117         SPRINGFIELD       1\n",
      "143          ST CHARLES       1\n",
      "25            ST JOSEPH       7\n",
      "144            ST LOUIS       1\n",
      "33           ST. JOSEPH       4\n",
      "64            ST. LOUIS       1\n",
      "14          SUGAR CREEK      34\n",
      "96                TAMPA       1\n",
      "139            TOMPKINS       1\n",
      "44               TOPEKA       2\n",
      "69                TULSA       1\n",
      "149               UNION       1\n",
      "67                  UNK       1\n",
      "116            VANDALIA       1\n",
      "52               WALNUT       2\n",
      "75      WEST DES MOINES       1\n",
      "103             WICHITA       1\n"
     ]
    }
   ],
   "source": [
    "city_counts = KS2['City'].value_counts().reset_index()\n",
    "city_counts.columns = ['City', 'Count']\n",
    "# Sort the DataFrame alphabetically by the 'City' column\n",
    "city_counts = city_counts.sort_values(by='City')\n",
    "# Display all rows\n",
    "pd.set_option('display.max_rows', None)  # Show all rows in the output\n",
    "print(city_counts)"
   ]
  },
  {
   "cell_type": "code",
   "execution_count": 62,
   "id": "8e3843bc-c8a7-4788-8c17-2c0369da13c7",
   "metadata": {
    "scrolled": true
   },
   "outputs": [
    {
     "data": {
      "text/html": [
       "<div>\n",
       "<style scoped>\n",
       "    .dataframe tbody tr th:only-of-type {\n",
       "        vertical-align: middle;\n",
       "    }\n",
       "\n",
       "    .dataframe tbody tr th {\n",
       "        vertical-align: top;\n",
       "    }\n",
       "\n",
       "    .dataframe thead th {\n",
       "        text-align: right;\n",
       "    }\n",
       "</style>\n",
       "<table border=\"1\" class=\"dataframe\">\n",
       "  <thead>\n",
       "    <tr style=\"text-align: right;\">\n",
       "      <th></th>\n",
       "      <th>Reported_Date</th>\n",
       "      <th>Reported_Time</th>\n",
       "      <th>From_Date</th>\n",
       "      <th>Offense</th>\n",
       "      <th>Description</th>\n",
       "      <th>Beat</th>\n",
       "      <th>Address</th>\n",
       "      <th>City</th>\n",
       "      <th>Zip Code</th>\n",
       "      <th>Rep_Dist</th>\n",
       "      <th>Area</th>\n",
       "      <th>DVFlag</th>\n",
       "      <th>Fire Arm Used Flag</th>\n",
       "      <th>Location</th>\n",
       "      <th>Geo_Location1</th>\n",
       "    </tr>\n",
       "  </thead>\n",
       "  <tbody>\n",
       "    <tr>\n",
       "      <th>81861</th>\n",
       "      <td>03/11/2019 12:00:00 AM</td>\n",
       "      <td>17:41</td>\n",
       "      <td>03/11/2019 12:00:00 AM</td>\n",
       "      <td>Misc Violation</td>\n",
       "      <td>NaN</td>\n",
       "      <td>999</td>\n",
       "      <td>5508 N HOMER WHITE RD</td>\n",
       "      <td>PL</td>\n",
       "      <td>64152</td>\n",
       "      <td>PPX063</td>\n",
       "      <td>OSPD</td>\n",
       "      <td>U</td>\n",
       "      <td>False</td>\n",
       "      <td>5508 N HOMER WHITE RD\\nPL 64152\\n(39.194515, -...</td>\n",
       "      <td>POINT (-94.707155998 39.194550006)</td>\n",
       "    </tr>\n",
       "  </tbody>\n",
       "</table>\n",
       "</div>"
      ],
      "text/plain": [
       "                Reported_Date Reported_Time               From_Date  \\\n",
       "81861  03/11/2019 12:00:00 AM         17:41  03/11/2019 12:00:00 AM   \n",
       "\n",
       "              Offense Description Beat                Address City Zip Code  \\\n",
       "81861  Misc Violation         NaN  999  5508 N HOMER WHITE RD   PL    64152   \n",
       "\n",
       "      Rep_Dist  Area DVFlag  Fire Arm Used Flag  \\\n",
       "81861   PPX063  OSPD      U               False   \n",
       "\n",
       "                                                Location  \\\n",
       "81861  5508 N HOMER WHITE RD\\nPL 64152\\n(39.194515, -...   \n",
       "\n",
       "                            Geo_Location1  \n",
       "81861  POINT (-94.707155998 39.194550006)  "
      ]
     },
     "metadata": {},
     "output_type": "display_data"
    }
   ],
   "source": [
    "filtered_data = KS2[KS2['City'] == 'PL']\n",
    "# Print the filtered DataFrame\n",
    "display(filtered_data)"
   ]
  },
  {
   "cell_type": "markdown",
   "id": "8ccc2ed1-b67a-494c-a10a-f3f0fadce2c7",
   "metadata": {},
   "source": [
    "Fix more typos in the city names."
   ]
  },
  {
   "cell_type": "code",
   "execution_count": 64,
   "id": "a1ccc666-3d12-4e8d-b1a0-d3bc120157c4",
   "metadata": {},
   "outputs": [],
   "source": [
    "KS2['City'] = KS2['City'].replace({\n",
    "    'INDEP': 'INDEPENDENCE',\n",
    "    'INDEDPENDENCE': 'INDEPENDENCE',\n",
    "    'INDEPEDENCE': 'INDEPENDENCE',\n",
    "    'INDEPENDEANCE': 'INDEPENDENCE',\n",
    "    'ST. JOSEPH': 'ST JOSEPH',\n",
    "    'INDPENDENCE': 'INDEPENDENCE',\n",
    "    'BLUES SPRINGS': 'BLUE SPRINGS',\n",
    "    'BLUR SPRINGS': 'BLUE SPRINGS',\n",
    "    'BOONEVILLE': 'BOONVILLE',\n",
    "    'BOWLING GREED': 'BOWLING GREEN',\n",
    "    'GLADESTONE': 'GLADSTONE',\n",
    "    'GLASTONE': 'GLADSTONE',\n",
    "    'LEE SUMMIT': 'LEES SUMMIT',\n",
    "    \"LEE'S SUMMIT\": 'LEES SUMMIT',\n",
    "    'LEESSUMMIT': 'LEES SUMMIT',\n",
    "    'NORTHMOORE': 'NORTHMOOR',\n",
    "    'PLATTE CTY': 'PLATTE CITY',\n",
    "    'PLATTESBURG': 'PLATTSBURG',\n",
    "    'ST. JOSEPH': 'ST JOSEPH',\n",
    "    'ST. LOUIS': 'ST LOUIS',\n",
    " })"
   ]
  },
  {
   "cell_type": "code",
   "execution_count": 65,
   "id": "d259d5e4-0d1f-4687-af57-2873ca0772ae",
   "metadata": {},
   "outputs": [
    {
     "name": "stdout",
     "output_type": "stream",
     "text": [
      "14\n"
     ]
    }
   ],
   "source": [
    "print(KS2['City'].isna().sum())"
   ]
  },
  {
   "cell_type": "markdown",
   "id": "f78cdfda-2f46-4d19-af7a-aded505d5350",
   "metadata": {},
   "source": [
    "- Change 14 NaN values to 'Unknown'."
   ]
  },
  {
   "cell_type": "code",
   "execution_count": 67,
   "id": "fdb70e92-facd-4aa6-9bbf-9561e3a2029d",
   "metadata": {},
   "outputs": [],
   "source": [
    "KS2['City'] = KS2['City'].fillna('Unknown')"
   ]
  },
  {
   "cell_type": "code",
   "execution_count": 68,
   "id": "d569e62d-4a34-4056-9bab-39f3341ad32a",
   "metadata": {},
   "outputs": [
    {
     "name": "stdout",
     "output_type": "stream",
     "text": [
      "<class 'pandas.core.frame.DataFrame'>\n",
      "Index: 312424 entries, 1 to 522904\n",
      "Data columns (total 15 columns):\n",
      " #   Column              Non-Null Count   Dtype \n",
      "---  ------              --------------   ----- \n",
      " 0   Reported_Date       312424 non-null  object\n",
      " 1   Reported_Time       312424 non-null  object\n",
      " 2   From_Date           312389 non-null  object\n",
      " 3   Offense             312424 non-null  object\n",
      " 4   Description         255996 non-null  object\n",
      " 5   Beat                311344 non-null  object\n",
      " 6   Address             312424 non-null  object\n",
      " 7   City                312424 non-null  object\n",
      " 8   Zip Code            286082 non-null  object\n",
      " 9   Rep_Dist            247217 non-null  object\n",
      " 10  Area                312424 non-null  object\n",
      " 11  DVFlag              312424 non-null  object\n",
      " 12  Fire Arm Used Flag  312424 non-null  bool  \n",
      " 13  Location            272151 non-null  object\n",
      " 14  Geo_Location1       312403 non-null  object\n",
      "dtypes: bool(1), object(14)\n",
      "memory usage: 36.1+ MB\n"
     ]
    }
   ],
   "source": [
    "KS2.info()"
   ]
  },
  {
   "cell_type": "markdown",
   "id": "c623aba4-5f34-4d42-8408-555d985f4a42",
   "metadata": {},
   "source": [
    "City column is clean now."
   ]
  },
  {
   "cell_type": "markdown",
   "id": "e4098d8e-3023-4633-abec-1b67bf16bd97",
   "metadata": {},
   "source": [
    "<h3 style=\"color: blue;\">Clean Reported_Date Column</h3>"
   ]
  },
  {
   "cell_type": "markdown",
   "id": "af1b1693-3f87-48f9-b1a5-37f0b33f80cc",
   "metadata": {},
   "source": [
    "- Check for NaN rows"
   ]
  },
  {
   "cell_type": "code",
   "execution_count": 72,
   "id": "f1bc5298-74f5-4c4a-a193-6a01f286c65e",
   "metadata": {},
   "outputs": [
    {
     "name": "stdout",
     "output_type": "stream",
     "text": [
      "Number of NaN values in 'Reported_Date': 0\n"
     ]
    }
   ],
   "source": [
    "nan_Repcount = KS2['Reported_Date'].isna().sum()\n",
    "print(f\"Number of NaN values in 'Reported_Date': {nan_Repcount}\")"
   ]
  },
  {
   "cell_type": "markdown",
   "id": "986b58c7-0719-4f3e-8936-397761d48d45",
   "metadata": {},
   "source": [
    "- Look at Value Counts"
   ]
  },
  {
   "cell_type": "code",
   "execution_count": 74,
   "id": "7e6047fe-6eea-4be9-9d23-d1e3e79d0b3f",
   "metadata": {},
   "outputs": [
    {
     "data": {
      "text/plain": [
       "Reported_Date\n",
       "08/14/2023 12:00:00 AM    258\n",
       "07/05/2023 12:00:00 AM    254\n",
       "07/12/2023 12:00:00 AM    245\n",
       "07/24/2023 12:00:00 AM    244\n",
       "06/19/2023 12:00:00 AM    241\n",
       "09/25/2023 12:00:00 AM    240\n",
       "02/12/2024 12:00:00 AM    240\n",
       "01/02/2024 12:00:00 AM    236\n",
       "06/03/2019 12:00:00 AM    235\n",
       "08/09/2023 12:00:00 AM    235\n",
       "08/06/2023 12:00:00 AM    235\n",
       "08/08/2023 12:00:00 AM    234\n",
       "09/11/2023 12:00:00 AM    231\n",
       "07/08/2019 12:00:00 AM    230\n",
       "09/02/2022 12:00:00 AM    230\n",
       "07/10/2023 12:00:00 AM    230\n",
       "07/17/2023 12:00:00 AM    229\n",
       "07/07/2023 12:00:00 AM    229\n",
       "07/01/2022 12:00:00 AM    229\n",
       "08/10/2023 12:00:00 AM    228\n",
       "06/05/2020 12:00:00 AM    227\n",
       "09/18/2023 12:00:00 AM    225\n",
       "08/16/2023 12:00:00 AM    225\n",
       "11/09/2020 12:00:00 AM    224\n",
       "07/18/2023 12:00:00 AM    224\n",
       "08/21/2023 12:00:00 AM    223\n",
       "07/14/2023 12:00:00 AM    222\n",
       "09/29/2023 12:00:00 AM    220\n",
       "10/14/2022 12:00:00 AM    220\n",
       "05/10/2022 12:00:00 AM    220\n",
       "Name: count, dtype: int64"
      ]
     },
     "execution_count": 74,
     "metadata": {},
     "output_type": "execute_result"
    }
   ],
   "source": [
    "KS2.Reported_Date.value_counts().head(30)"
   ]
  },
  {
   "cell_type": "markdown",
   "id": "a7779a48-2c62-4d86-8c60-5db9a0a63fdd",
   "metadata": {},
   "source": [
    "- change Reported_Date to date type. Drop the timestamp of 12:00:00 because all rows have it."
   ]
  },
  {
   "cell_type": "code",
   "execution_count": 76,
   "id": "1267cc77-2555-4b59-96e2-5156c0643a7d",
   "metadata": {},
   "outputs": [],
   "source": [
    "KS2['Reported_Date'] = pd.to_datetime(KS2['Reported_Date'].str.replace(\" 12:00:00 AM\", \"\"), format='%m/%d/%Y')"
   ]
  },
  {
   "cell_type": "code",
   "execution_count": 77,
   "id": "b97a5344-f229-4eb6-afd5-7470740be809",
   "metadata": {},
   "outputs": [
    {
     "name": "stdout",
     "output_type": "stream",
     "text": [
      "1   2020-10-15\n",
      "2   2019-04-25\n",
      "3   2019-06-17\n",
      "4   2019-06-15\n",
      "6   2019-04-12\n",
      "Name: Reported_Date, dtype: datetime64[ns]\n"
     ]
    }
   ],
   "source": [
    "# Display the updated DataFrame\n",
    "print(KS2['Reported_Date'].head())"
   ]
  },
  {
   "cell_type": "markdown",
   "id": "e6dcf86c-c259-4118-8a77-e193b5e0e32f",
   "metadata": {},
   "source": [
    "<h3 style=\"color: blue;\">Clean Reported_Time Column</h3>"
   ]
  },
  {
   "cell_type": "markdown",
   "id": "7e31e9f9-8aee-497a-b8e8-1ef3ef3469f4",
   "metadata": {},
   "source": [
    "- Check for NaN"
   ]
  },
  {
   "cell_type": "code",
   "execution_count": 80,
   "id": "d2e6fb52-6e93-49d8-a3f6-a8ea5ca1c4e6",
   "metadata": {},
   "outputs": [
    {
     "name": "stdout",
     "output_type": "stream",
     "text": [
      "Number of NaN values in 'Reported_Time': 0\n"
     ]
    }
   ],
   "source": [
    "nan_RepTimecount = KS2['Reported_Time'].isna().sum()\n",
    "print(f\"Number of NaN values in 'Reported_Time': {nan_RepTimecount}\")"
   ]
  },
  {
   "cell_type": "markdown",
   "id": "357625bd-d97b-4bf7-b733-e81d6f93ec99",
   "metadata": {},
   "source": [
    "- Check for missing values"
   ]
  },
  {
   "cell_type": "code",
   "execution_count": 82,
   "id": "aa32e8a5-7f90-4aad-ae8f-6e2071b13f3b",
   "metadata": {},
   "outputs": [
    {
     "name": "stdout",
     "output_type": "stream",
     "text": [
      "Number of missing values in 'Reported_Time': 0\n"
     ]
    }
   ],
   "source": [
    "missing_reported_time_count = KS2['Reported_Time'].isna().sum()\n",
    "print(f\"Number of missing values in 'Reported_Time': {missing_reported_time_count}\")"
   ]
  },
  {
   "cell_type": "code",
   "execution_count": 83,
   "id": "1b018778-ae36-4656-be2f-4a172219819d",
   "metadata": {},
   "outputs": [
    {
     "name": "stdout",
     "output_type": "stream",
     "text": [
      "['9:37' '20:51' '2:57' ... '5:32' '5:13' ':']\n"
     ]
    }
   ],
   "source": [
    "print(KS2['Reported_Time'].unique())"
   ]
  },
  {
   "cell_type": "markdown",
   "id": "12a2b246-e4cd-4149-94e3-7d3a08ca0b5a",
   "metadata": {},
   "source": [
    "- Change to Datetime type"
   ]
  },
  {
   "cell_type": "code",
   "execution_count": 85,
   "id": "9312ccc4-fe86-4cef-b31e-32163b1e7160",
   "metadata": {},
   "outputs": [],
   "source": [
    "def clean_time_format(time):\n",
    "    try:\n",
    "        return pd.to_datetime(time, format='%H:%M', errors='coerce')\n",
    "    except Exception:\n",
    "        return pd.NaT  "
   ]
  },
  {
   "cell_type": "code",
   "execution_count": 86,
   "id": "346b6c71-8eb4-4236-9941-e33619c4ec94",
   "metadata": {},
   "outputs": [],
   "source": [
    "KS2['Reported_Time'] = KS2['Reported_Time'].str.strip()"
   ]
  },
  {
   "cell_type": "markdown",
   "id": "c3f9bce2-990d-4917-a199-25332c935ec8",
   "metadata": {},
   "source": [
    "- Remove whitespace"
   ]
  },
  {
   "cell_type": "code",
   "execution_count": null,
   "id": "5c6617d9-8acf-4e66-ab3e-25deac033b84",
   "metadata": {},
   "outputs": [],
   "source": [
    "KS2['Reported_Time'] = KS2['Reported_Time'].apply(clean_time_format)"
   ]
  },
  {
   "cell_type": "markdown",
   "id": "bceb9e93-b512-4180-bc8d-a93ac025f68c",
   "metadata": {},
   "source": [
    "- Check unique values again"
   ]
  },
  {
   "cell_type": "code",
   "execution_count": null,
   "id": "757cf735-79e9-46b9-a299-62c74b60484f",
   "metadata": {},
   "outputs": [],
   "source": [
    "print(KS2['Reported_Time'].unique())"
   ]
  },
  {
   "cell_type": "code",
   "execution_count": null,
   "id": "39953f52-cd59-45c0-ba9f-339af862e346",
   "metadata": {},
   "outputs": [],
   "source": [
    "missing_reported_time_count = KS2['Reported_Time'].isna().sum()\n",
    "print(f\"Number of missing values in 'Reported_Time' after cleaning: {missing_reported_time_count}\")"
   ]
  },
  {
   "cell_type": "code",
   "execution_count": null,
   "id": "fe42b732-681c-4072-baed-e74b78e53c5f",
   "metadata": {},
   "outputs": [],
   "source": [
    "missing_TimeRows = KS2[KS2['Reported_Time'].isna()]\n",
    "\n",
    "# Print the rows with missing 'Reported_Time'\n",
    "print(\"Rows with missing 'Reported_Time':\")\n",
    "display(missing_TimeRows)"
   ]
  },
  {
   "cell_type": "markdown",
   "id": "5b47895f-033e-4aee-9fa9-e3eaec11d5a4",
   "metadata": {},
   "source": [
    "- Fill with 12:00, so that these rows do not have to be dropped."
   ]
  },
  {
   "cell_type": "code",
   "execution_count": null,
   "id": "887c98eb-8c18-4c03-adb7-d9ca2a587279",
   "metadata": {},
   "outputs": [],
   "source": [
    "KS2['Reported_Time'] = KS2['Reported_Time'].fillna(pd.Timestamp('1900-01-01 12:00:00'))"
   ]
  },
  {
   "cell_type": "code",
   "execution_count": null,
   "id": "d9ca058b-01b3-4f62-874f-07f2d6fb708b",
   "metadata": {},
   "outputs": [],
   "source": [
    "KS2.info()"
   ]
  },
  {
   "cell_type": "markdown",
   "id": "7d0da876-5366-4e6c-a820-1770ff81d8ab",
   "metadata": {},
   "source": [
    "Reported_Date column is clean now."
   ]
  },
  {
   "cell_type": "markdown",
   "id": "81b4ec1b-e3bf-4730-9901-49c52a51f6c5",
   "metadata": {},
   "source": [
    "<h3 style=\"color: blue;\">Clean From_Date Column</h3>"
   ]
  },
  {
   "cell_type": "markdown",
   "id": "798838e5-87fb-4619-95dd-2eed08e37bbd",
   "metadata": {},
   "source": [
    "- Check for NaN"
   ]
  },
  {
   "cell_type": "code",
   "execution_count": null,
   "id": "b274046c-abeb-476c-84c8-69c0eed3aee8",
   "metadata": {},
   "outputs": [],
   "source": [
    "nan_FromDateCount = KS2['From_Date'].isna().sum()\n",
    "print(f\"Number of NaN values in 'Reported_Time': {nan_FromDateCount}\")"
   ]
  },
  {
   "cell_type": "code",
   "execution_count": null,
   "id": "26c9e32b-d801-4072-b36e-43693ba61518",
   "metadata": {},
   "outputs": [],
   "source": [
    "nan_FromDate_rows = KS2[KS2['From_Date'].isna()]\n",
    "print(\"Rows with NaN values in 'From_Date':\")\n",
    "display(nan_FromDate_rows)"
   ]
  },
  {
   "cell_type": "markdown",
   "id": "d2ba7dad-5841-46a8-93b3-091844d42f26",
   "metadata": {},
   "source": [
    "- change From_Date to date type. Drop the timestamp of 12:00:00 because all rows have it."
   ]
  },
  {
   "cell_type": "markdown",
   "id": "c4a60cf1-b37b-42f7-8eb6-8ed969ddfe0b",
   "metadata": {},
   "source": [
    "- Borrow date from Reported_Date column to fill in NaN values."
   ]
  },
  {
   "cell_type": "code",
   "execution_count": null,
   "id": "e2e990cd-0cc9-4d37-9cfa-475b16adf172",
   "metadata": {},
   "outputs": [],
   "source": [
    "KS2['From_Date'] = KS2['From_Date'].str.replace(\" 12:00:00 AM\", \"\")"
   ]
  },
  {
   "cell_type": "markdown",
   "id": "57588a22-667b-41ac-95c8-00a67b860de4",
   "metadata": {},
   "source": [
    "- Change From_Date to datetime type."
   ]
  },
  {
   "cell_type": "code",
   "execution_count": null,
   "id": "a38ce93c-ebaf-473f-bc6c-21ec54fbed02",
   "metadata": {},
   "outputs": [],
   "source": [
    "KS2['From_Date'] = pd.to_datetime(KS2['From_Date'], format='%m/%d/%Y', errors='coerce')"
   ]
  },
  {
   "cell_type": "markdown",
   "id": "5337d299-87b1-490d-b549-5661625893aa",
   "metadata": {},
   "source": [
    "- Borrow date from Reported_Date if From_Date is NaN and Reported_Date is not missing."
   ]
  },
  {
   "cell_type": "code",
   "execution_count": null,
   "id": "1b8c2eeb-c3f4-4c2e-9f6e-3e999041a9d8",
   "metadata": {},
   "outputs": [],
   "source": [
    "KS2.loc[KS2['From_Date'].isna() & KS2['Reported_Date'].notna(), 'From_Date'] = KS2['Reported_Date']"
   ]
  },
  {
   "cell_type": "code",
   "execution_count": null,
   "id": "9b8f5628-5d68-4b23-b814-c317158163e1",
   "metadata": {},
   "outputs": [],
   "source": [
    "KS2.From_Date.value_counts().head(30)"
   ]
  },
  {
   "cell_type": "code",
   "execution_count": null,
   "id": "a6a7af67-194e-4471-911b-fb3d025ddfa2",
   "metadata": {},
   "outputs": [],
   "source": [
    "KS2.info()"
   ]
  },
  {
   "cell_type": "markdown",
   "id": "bb54c3ae-b4b9-4971-8d40-000987d33c34",
   "metadata": {},
   "source": [
    "From_Date column is clean now."
   ]
  },
  {
   "cell_type": "markdown",
   "id": "434d788d-cd7d-41d0-8922-647afba92b5d",
   "metadata": {},
   "source": [
    "<h3 style=\"color: blue;\">Clean Offense Column</h3>"
   ]
  },
  {
   "cell_type": "markdown",
   "id": "c121b01d-9a27-4287-8490-62994c7e77e4",
   "metadata": {},
   "source": [
    "- check for typos:"
   ]
  },
  {
   "cell_type": "code",
   "execution_count": null,
   "id": "82ab7cb7-8792-4b62-b19a-21a7492d69a7",
   "metadata": {},
   "outputs": [],
   "source": [
    "offense_counts = KS2['Offense'].value_counts().reset_index()\n",
    "offense_counts.columns = ['Offense', 'Count']\n",
    "\n",
    "# Sort the DataFrame alphabetically by the 'Offense' column\n",
    "offense_counts = offense_counts.sort_values(by='Offense')\n",
    "\n",
    "pd.set_option('display.max_rows', None)  # Show all rows in the output\n",
    "display(offense_counts)"
   ]
  },
  {
   "cell_type": "markdown",
   "id": "bbcf8605-3c35-4d26-969b-29a533bbebaa",
   "metadata": {},
   "source": [
    "listed alphabetically, to see what values can be combined."
   ]
  },
  {
   "cell_type": "markdown",
   "id": "11d53cb0-c481-4411-9dbd-1aa004c58fd6",
   "metadata": {},
   "source": [
    "- Clean extra white space"
   ]
  },
  {
   "cell_type": "code",
   "execution_count": null,
   "id": "4bb87fc5-d840-4cae-8436-4ff9d6e5eeb6",
   "metadata": {},
   "outputs": [],
   "source": [
    "KS2['Offense'] = KS2['Offense'].str.strip().replace({'–': '-'}, regex=True)"
   ]
  },
  {
   "cell_type": "code",
   "execution_count": null,
   "id": "54646370-a3b1-4cdc-a031-f3a5d37ffa6c",
   "metadata": {},
   "outputs": [],
   "source": [
    "KS2['Offense'] = KS2['Offense'].str.strip().replace({\n",
    "    'Stealing - Shoplift': 'Stealing - Shoplifting',\n",
    "    'Vehicular - Fatality': 'Vehicular – Fatality',\n",
    "    'auto theft': 'Auto Theft',\n",
    "    'fraud': 'Fraud / Stealing Through Deceit (Scam/Confidence Game)',\n",
    "}, regex=True)"
   ]
  },
  {
   "cell_type": "code",
   "execution_count": null,
   "id": "4abb4b28-3755-4f1f-8e53-24066f5bd43b",
   "metadata": {},
   "outputs": [],
   "source": [
    "KS2['Offense'] = KS2['Offense'].str.replace(r'\\s+', ' ', regex=True)  # Replace multiple spaces with a single space"
   ]
  },
  {
   "cell_type": "code",
   "execution_count": null,
   "id": "76a2b59d-5a8e-4df9-ac4d-9d6736347e5c",
   "metadata": {},
   "outputs": [],
   "source": [
    "offense_counts = KS2['Offense'].value_counts().reset_index()\n",
    "offense_counts.columns = ['Offense', 'Count']\n",
    "\n",
    "# Sort the DataFrame alphabetically by the 'Offense' column\n",
    "offense_counts = offense_counts.sort_values(by='Offense')\n",
    "\n",
    "# Display all rows\n",
    "pd.set_option('display.max_rows', None)  # Show all rows in the output\n",
    "print(offense_counts.head(30))"
   ]
  },
  {
   "cell_type": "markdown",
   "id": "87d86017-1389-4dfa-8afc-506ada6f2bf6",
   "metadata": {},
   "source": [
    "- Check for Nan"
   ]
  },
  {
   "cell_type": "code",
   "execution_count": null,
   "id": "08247def-76d1-4cce-8837-71ccd601a5da",
   "metadata": {},
   "outputs": [],
   "source": [
    "count_offenseNaN = KS2['Offense'].isna().sum()\n",
    "print(count_offenseNaN)"
   ]
  },
  {
   "cell_type": "markdown",
   "id": "52c587c4-63d9-4da3-9e08-fbae412ab0a7",
   "metadata": {},
   "source": [
    "- Check for missing values in Offense column"
   ]
  },
  {
   "cell_type": "code",
   "execution_count": null,
   "id": "fc7274b5-5a58-4963-a6a7-033308c310b5",
   "metadata": {},
   "outputs": [],
   "source": [
    "KS2.info()"
   ]
  },
  {
   "cell_type": "markdown",
   "id": "61554710-2aa7-46a9-a857-0bfda42039fd",
   "metadata": {},
   "source": [
    "Offense column is clean now."
   ]
  },
  {
   "cell_type": "markdown",
   "id": "69a6674a-a078-4eb0-b602-4ec3c1fec6fd",
   "metadata": {},
   "source": [
    "<h3 style=\"color: blue;\">Clean Description Column</h3>"
   ]
  },
  {
   "cell_type": "markdown",
   "id": "f2d59ce0-8d7f-4a12-81e2-084d2b0cee3e",
   "metadata": {},
   "source": [
    "- Check for NaN"
   ]
  },
  {
   "cell_type": "code",
   "execution_count": null,
   "id": "b194e1a0-86bc-4869-888b-f8c8fa1d24c9",
   "metadata": {},
   "outputs": [],
   "source": [
    "count_DescripNaN = KS2['Description'].isna().sum()\n",
    "print(count_DescripNaN)"
   ]
  },
  {
   "cell_type": "code",
   "execution_count": null,
   "id": "391e0ba4-809f-4019-ad7e-61d199fc9c75",
   "metadata": {},
   "outputs": [],
   "source": [
    "KS2['Description'] = KS2['Description'].str.strip()"
   ]
  },
  {
   "cell_type": "code",
   "execution_count": null,
   "id": "4b4b43bf-1087-42db-a627-b53c3e191e88",
   "metadata": {},
   "outputs": [],
   "source": [
    "desc_counts = KS2['Description'].value_counts().reset_index()\n",
    "desc_counts.columns = ['Description', 'Count']\n",
    "\n",
    "# Sort the DataFrame alphabetically by the 'Offense' column\n",
    "desc_counts = desc_counts.sort_values(by='Description')\n",
    "\n",
    "pd.set_option('display.max_rows', None)  # Show all rows in the output\n",
    "display(desc_counts)"
   ]
  },
  {
   "cell_type": "code",
   "execution_count": null,
   "id": "73b4df11-8d7d-4304-80c2-901e2af45b35",
   "metadata": {},
   "outputs": [],
   "source": [
    "# Fill NaN values in the 'Description' column with 'No Description'\n",
    "KS2['Description'] = KS2['Description'].fillna('No Description')"
   ]
  },
  {
   "cell_type": "code",
   "execution_count": null,
   "id": "6a946a04-1fc7-4643-8be3-ff1faff2b8b9",
   "metadata": {},
   "outputs": [],
   "source": [
    "KS2.info()"
   ]
  },
  {
   "cell_type": "markdown",
   "id": "d5f41876-50c4-4340-86f9-8d325a6e879f",
   "metadata": {},
   "source": [
    "Description column is clean now."
   ]
  },
  {
   "cell_type": "markdown",
   "id": "e2cf83f7-184c-4671-9d35-862570aab66e",
   "metadata": {},
   "source": [
    "<h3 style=\"color: blue;\">Clean Beat Column</h3>"
   ]
  },
  {
   "cell_type": "code",
   "execution_count": null,
   "id": "d288e9d4-b879-4ab3-b352-ff335c3c5b89",
   "metadata": {},
   "outputs": [],
   "source": [
    "KS2.Beat.value_counts()"
   ]
  },
  {
   "cell_type": "code",
   "execution_count": null,
   "id": "da63d8a9-fc18-49df-aa0f-70a6ef067564",
   "metadata": {},
   "outputs": [],
   "source": [
    "# Fill NaN values in the 'Description' column with 'No Description'\n",
    "KS2['Beat'] = KS2['Beat'].fillna('Unknown')"
   ]
  },
  {
   "cell_type": "code",
   "execution_count": null,
   "id": "a3c2f151-8f86-44d0-8581-2bd50877d972",
   "metadata": {},
   "outputs": [],
   "source": [
    "KS2.info()"
   ]
  },
  {
   "cell_type": "code",
   "execution_count": null,
   "id": "fa9b3802-4084-42e1-a819-945426415013",
   "metadata": {},
   "outputs": [],
   "source": [
    "print(KS2['Beat'].isna().sum())"
   ]
  },
  {
   "cell_type": "markdown",
   "id": "62e9ed7a-1da2-4620-86b1-df253a68685c",
   "metadata": {},
   "source": [
    "Beat column is clean now."
   ]
  },
  {
   "cell_type": "markdown",
   "id": "94549188-70c1-4a91-807d-7b1f9bf0a591",
   "metadata": {},
   "source": [
    "<h3 style=\"color: blue;\">Clean Address Column</h3>"
   ]
  },
  {
   "cell_type": "code",
   "execution_count": null,
   "id": "1ceebbc0-00d1-4155-8521-ed333124d67a",
   "metadata": {},
   "outputs": [],
   "source": [
    "KS2.Address.value_counts().head(40)"
   ]
  },
  {
   "cell_type": "markdown",
   "id": "cd0d3113-6812-4781-a84a-ce998505f509",
   "metadata": {},
   "source": [
    "Address column is clean."
   ]
  },
  {
   "cell_type": "markdown",
   "id": "ac68ebd1-045d-4b15-b6ef-7dfa40f3fcf8",
   "metadata": {},
   "source": [
    "<h3 style=\"color: blue;\">Clean Zip Code Column</h3>"
   ]
  },
  {
   "cell_type": "markdown",
   "id": "774ca9cd-c0c3-4338-8719-c239cd63922d",
   "metadata": {},
   "source": [
    "- get rid of space in 'Zip Code' name"
   ]
  },
  {
   "cell_type": "code",
   "execution_count": null,
   "id": "b5d608dc-e275-491c-a4dd-021ff64a0688",
   "metadata": {},
   "outputs": [],
   "source": [
    "KS2.rename(columns={'Zip Code': 'Zipcode'}, inplace=True)"
   ]
  },
  {
   "cell_type": "markdown",
   "id": "45648170-d74e-47d7-9045-b7786f02cb11",
   "metadata": {},
   "source": [
    "- Remove leading white space"
   ]
  },
  {
   "cell_type": "code",
   "execution_count": null,
   "id": "7b650968-5304-4881-8381-94d6ac2feab7",
   "metadata": {},
   "outputs": [],
   "source": [
    "# Convert Zipcode to string and strip whitespace\n",
    "KS2['Zipcode'] = KS2['Zipcode'].astype(str).str.strip()\n",
    "print(KS2['Zipcode'].dtype)"
   ]
  },
  {
   "cell_type": "markdown",
   "id": "f82b000a-0de7-42d6-b7a3-c41519a6c66c",
   "metadata": {},
   "source": [
    "- Change nan values to 0"
   ]
  },
  {
   "cell_type": "code",
   "execution_count": null,
   "id": "50f95bb7-dd37-43d5-b539-c5872468e912",
   "metadata": {},
   "outputs": [],
   "source": [
    "KS2['Zipcode'] = KS2['Zipcode'].fillna('0')"
   ]
  },
  {
   "cell_type": "code",
   "execution_count": null,
   "id": "553395c7-963f-43a5-8616-a16625fd47b0",
   "metadata": {},
   "outputs": [],
   "source": [
    "KS2['Zipcode'] = KS2['Zipcode'].replace('nan', '0')"
   ]
  },
  {
   "cell_type": "code",
   "execution_count": null,
   "id": "dc762df3-2118-4b9a-8b80-620dc2ef5d99",
   "metadata": {},
   "outputs": [],
   "source": [
    "KS2.Zipcode.value_counts()"
   ]
  },
  {
   "cell_type": "markdown",
   "id": "5002d5e2-fbca-45ee-a74e-360a7ff68330",
   "metadata": {},
   "source": [
    "- Look for Zipcodes of the wrong length, or with alpha characters"
   ]
  },
  {
   "cell_type": "code",
   "execution_count": null,
   "id": "4c766776-4b40-476c-b97c-595384098838",
   "metadata": {},
   "outputs": [],
   "source": [
    "# Print rows where 'Zipcode' is equal to 'MO'\n",
    "filtered_Zipcode_alpha_rows = KS2[KS2['Zipcode'] == 'MO']\n",
    "\n",
    "display(filtered_Zipcode_alpha_rows)"
   ]
  },
  {
   "cell_type": "code",
   "execution_count": null,
   "id": "c0d5b967-45f3-4253-ad63-3b3110e732ae",
   "metadata": {},
   "outputs": [],
   "source": [
    "# Change the Zipcode at index 426430 to '64124'\n",
    "KS2.loc[426430, 'Zipcode'] = '64124'"
   ]
  },
  {
   "cell_type": "code",
   "execution_count": null,
   "id": "b8cbe08a-901b-4ecd-9171-bb42459a1eeb",
   "metadata": {},
   "outputs": [],
   "source": [
    "# Change the Zipcode at index 426430 to '64124'\n",
    "KS2.loc[436036, 'Zipcode'] = '64114'"
   ]
  },
  {
   "cell_type": "code",
   "execution_count": null,
   "id": "640ec6d7-eb78-4ee7-8073-c37faafae858",
   "metadata": {},
   "outputs": [],
   "source": [
    "# Change the Zipcode at index 426430 to '64124'\n",
    "KS2.loc[464929, 'Zipcode'] = '64114'"
   ]
  },
  {
   "cell_type": "code",
   "execution_count": null,
   "id": "8024921e-52da-48b1-bd3a-7fb33d3e2728",
   "metadata": {},
   "outputs": [],
   "source": [
    "# Change the Zipcode at index 426430 to '64124'\n",
    "KS2.loc[464929, 'Zipcode'] = '64152'"
   ]
  },
  {
   "cell_type": "code",
   "execution_count": null,
   "id": "e632f5fc-9094-4b2f-87ce-7f3e65c00951",
   "metadata": {},
   "outputs": [],
   "source": [
    "KS2.loc[504861,'Zipcode'] = '64152'"
   ]
  },
  {
   "cell_type": "code",
   "execution_count": null,
   "id": "84e3474b-f103-4a94-9ade-acc035ee6f2f",
   "metadata": {},
   "outputs": [],
   "source": [
    "display(KS2.loc[426430]) "
   ]
  },
  {
   "cell_type": "code",
   "execution_count": null,
   "id": "9ba44c5e-9766-4c91-b7d9-2225e349baba",
   "metadata": {},
   "outputs": [],
   "source": [
    "#display(KS2.loc[436036]) "
   ]
  },
  {
   "cell_type": "code",
   "execution_count": null,
   "id": "20605c3a-1af1-43ff-98c0-b3c47751c20d",
   "metadata": {},
   "outputs": [],
   "source": [
    "#display(KS2.loc[464929]) "
   ]
  },
  {
   "cell_type": "code",
   "execution_count": null,
   "id": "6dd2df2a-4a74-4f2a-9713-80857721813d",
   "metadata": {},
   "outputs": [],
   "source": [
    "#display(KS2.loc[464929]) "
   ]
  },
  {
   "cell_type": "markdown",
   "id": "11f52c34-ec35-495f-ab37-02fdab3f1627",
   "metadata": {},
   "source": [
    "- Look for Zipcodes with 'Clay'"
   ]
  },
  {
   "cell_type": "code",
   "execution_count": null,
   "id": "1477ad8b-96e0-4465-8962-a4c46b8f4555",
   "metadata": {},
   "outputs": [],
   "source": [
    "# Print rows where 'Zipcode' is equal to 'MO'\n",
    "filtered_Zipcode_alpha_rows2 = KS2[KS2['Zipcode'] == 'CLAY']\n",
    "\n",
    "display(filtered_Zipcode_alpha_rows2)"
   ]
  },
  {
   "cell_type": "code",
   "execution_count": null,
   "id": "bbb46f3d-bcc1-4b39-8353-ed0008a388b7",
   "metadata": {},
   "outputs": [],
   "source": [
    "KS2.loc[200999,'Zipcode'] = '64156'"
   ]
  },
  {
   "cell_type": "markdown",
   "id": "f235eb5a-e826-465a-9d25-5f5547dee8dc",
   "metadata": {},
   "source": [
    "- Look for Zipcodes with more than 5 digits."
   ]
  },
  {
   "cell_type": "code",
   "execution_count": null,
   "id": "0eafcc48-c2ee-4df9-9ee8-0b4f42fe998c",
   "metadata": {},
   "outputs": [],
   "source": [
    "filtered_zipcodes1 = KS2[KS2['Zipcode'].astype(str).str.match(r'^\\d{6,}$')].sort_values(by='Zipcode')\n",
    "display(filtered_zipcodes1.head())"
   ]
  },
  {
   "cell_type": "markdown",
   "id": "27d707d2-57b0-4904-9ea0-ad11172bea89",
   "metadata": {},
   "source": [
    "Find correct Zipcode for the address.\n",
    "https://tools.usps.com/zip-code-lookup.htm?byaddress"
   ]
  },
  {
   "cell_type": "code",
   "execution_count": null,
   "id": "e52b70b2-198d-4588-9456-893d7d49a580",
   "metadata": {},
   "outputs": [],
   "source": [
    "KS2.loc[131996, 'Zipcode']= '64068'"
   ]
  },
  {
   "cell_type": "code",
   "execution_count": null,
   "id": "0b7e780f-4078-4264-937e-875eea1ec997",
   "metadata": {},
   "outputs": [],
   "source": [
    "KS2.loc[105478, 'Zipcode']= '64130'"
   ]
  },
  {
   "cell_type": "code",
   "execution_count": null,
   "id": "b2d1f7e1-b769-42df-9cf0-276ba82aa1f6",
   "metadata": {},
   "outputs": [],
   "source": [
    "display(KS2.loc[131996]) "
   ]
  },
  {
   "cell_type": "markdown",
   "id": "9422ba6a-65f0-4b92-b795-4d20df9c3fad",
   "metadata": {},
   "source": [
    "- Look for Zipcodes with only 4 digits."
   ]
  },
  {
   "cell_type": "code",
   "execution_count": null,
   "id": "9c187628-dd84-4cf5-b18a-cbf905bc41f2",
   "metadata": {},
   "outputs": [],
   "source": [
    "#Look for Zipcodes with exactly 4 digits, to find typos\n",
    "filtered_zipcodes = KS2[KS2['Zipcode'].astype(str).str.match(r'^\\d{4}$')].sort_values(by='Zipcode')"
   ]
  },
  {
   "cell_type": "code",
   "execution_count": null,
   "id": "ca4c4e8f-71cc-4f80-be8a-59b364efa940",
   "metadata": {},
   "outputs": [],
   "source": [
    "display(filtered_zipcodes)"
   ]
  },
  {
   "cell_type": "markdown",
   "id": "bed2724e-2540-4018-a4d6-df0bfc2e1798",
   "metadata": {},
   "source": [
    "Look up correct Zipcode for Address:\n",
    "https://tools.usps.com/zip-code-lookup.htm?byaddress"
   ]
  },
  {
   "cell_type": "code",
   "execution_count": null,
   "id": "8ccb6d92-be2d-4100-80e8-56446fe75457",
   "metadata": {},
   "outputs": [],
   "source": [
    "KS2['Zipcode'] = KS2['Zipcode'].replace('5301', '05301')\n",
    "\n",
    "KS2['Zipcode'] = KS2['Zipcode'].replace('6106', '64106')\n",
    "KS2['Zipcode'] = KS2['Zipcode'].replace('6110', '64111')\n",
    "KS2['Zipcode'] = KS2['Zipcode'].replace('6114', '64114')\n",
    "KS2['Zipcode'] = KS2['Zipcode'].replace('6131', '64131')\n",
    "KS2['Zipcode'] = KS2['Zipcode'].replace('6134', '64134')\n",
    "KS2['Zipcode'] = KS2['Zipcode'].replace('6137', '64137')\n",
    "KS2['Zipcode'] = KS2['Zipcode'].replace('6151', '64151')\n",
    "KS2['Zipcode'] = KS2['Zipcode'].replace('6154', '64154')\n",
    "\n",
    "KS2['Zipcode'] = KS2['Zipcode'].replace('6410', '64132')\n",
    "KS2['Zipcode'] = KS2['Zipcode'].replace('6411', '64111')\n",
    "KS2['Zipcode'] = KS2['Zipcode'].replace('6412', '64112')\n",
    "KS2['Zipcode'] = KS2['Zipcode'].replace('6413', '64134')\n",
    "\n",
    "KS2['Zipcode'] = KS2['Zipcode'].replace('6414', '64114')\n",
    "KS2['Zipcode'] = KS2['Zipcode'].replace('6415', '64152')\n",
    "\n",
    "KS2['Zipcode'] = KS2['Zipcode'].replace('6418', '64106')\n",
    "KS2['Zipcode'] = KS2['Zipcode'].replace('6419', '64116')\n",
    "\n",
    "KS2['Zipcode'] = KS2['Zipcode'].replace('6427', '64127')\n",
    "\n",
    "KS2['Zipcode'] = KS2['Zipcode'].replace('6431', '64131')\n",
    "KS2['Zipcode'] = KS2['Zipcode'].replace('6432', '64131')\n",
    "KS2['Zipcode'] = KS2['Zipcode'].replace('6434', '64134')\n",
    "KS2['Zipcode'] = KS2['Zipcode'].replace('6438', '64138')\n",
    "\n",
    "KS2['Zipcode'] = KS2['Zipcode'].replace('6451', '64151')"
   ]
  },
  {
   "cell_type": "code",
   "execution_count": null,
   "id": "923f2570-fa98-485c-bd0f-baf31ced03c7",
   "metadata": {},
   "outputs": [],
   "source": [
    "if '05301' in KS2['Zipcode'].unique():\n",
    "    print(\"Zipcode '05301' found.\")\n",
    "else:\n",
    "    print(\"Zipcode '05301' not found.\")\n"
   ]
  },
  {
   "cell_type": "code",
   "execution_count": null,
   "id": "52a2a883-a38d-43dc-82d3-bc70681f89f2",
   "metadata": {},
   "outputs": [],
   "source": [
    "print(KS2['Zipcode'].unique())"
   ]
  },
  {
   "cell_type": "markdown",
   "id": "c6decdf3-8e45-4a34-b514-b2bcb3b4a39b",
   "metadata": {},
   "source": [
    "- replace NaN with 'Unknown'"
   ]
  },
  {
   "cell_type": "code",
   "execution_count": null,
   "id": "db1af12c-585d-46eb-a0cf-5fed412b800d",
   "metadata": {},
   "outputs": [],
   "source": [
    "KS2['Zipcode'] = KS2['Zipcode'].astype(int)"
   ]
  },
  {
   "cell_type": "code",
   "execution_count": null,
   "id": "6a7448f4-d20a-4381-a3d3-22b14536dee5",
   "metadata": {},
   "outputs": [],
   "source": [
    "print(KS2['Zipcode'].isna().sum())"
   ]
  },
  {
   "cell_type": "markdown",
   "id": "b1349be2-84f3-44e4-b52e-5f8e29885e08",
   "metadata": {},
   "source": [
    "Zipcode column is clean."
   ]
  },
  {
   "cell_type": "markdown",
   "id": "6fd9d85e-7605-4d39-b728-9a6109310d74",
   "metadata": {},
   "source": [
    "<h3 style=\"color: blue;\">Clean Rep_Dist Column</h3>"
   ]
  },
  {
   "cell_type": "code",
   "execution_count": null,
   "id": "d5be9cab-0070-4efa-9b3c-948df00e84a0",
   "metadata": {},
   "outputs": [],
   "source": [
    "KS2.Rep_Dist.value_counts().head(40)"
   ]
  },
  {
   "cell_type": "code",
   "execution_count": null,
   "id": "dcf0241a-4564-46f1-8c31-e2a7961dd6e5",
   "metadata": {},
   "outputs": [],
   "source": [
    "print(KS2.Rep_Dist.isna().sum())"
   ]
  },
  {
   "cell_type": "code",
   "execution_count": null,
   "id": "cd23d75c-3ccc-402e-992c-45264ef18535",
   "metadata": {},
   "outputs": [],
   "source": [
    "KS2['Rep_Dist'] = KS2['Rep_Dist'].fillna('Unknown')"
   ]
  },
  {
   "cell_type": "code",
   "execution_count": null,
   "id": "bbc9626a-fcf4-47a0-a5da-2dd660ed1940",
   "metadata": {},
   "outputs": [],
   "source": [
    "print(KS2.Rep_Dist.isna().sum())"
   ]
  },
  {
   "cell_type": "markdown",
   "id": "62844098-a21a-46a3-a854-2b9bff0c1862",
   "metadata": {},
   "source": [
    "Rep_Dist is now clean."
   ]
  },
  {
   "cell_type": "markdown",
   "id": "329b2e5f-249e-4381-b0e6-73e70d8e5bbb",
   "metadata": {},
   "source": [
    "<h3 style=\"color: blue;\">Clean DVFlag Column</h3>"
   ]
  },
  {
   "cell_type": "code",
   "execution_count": null,
   "id": "7a9c14f9-b87a-4df9-93a8-1cb3d60b4a73",
   "metadata": {},
   "outputs": [],
   "source": [
    "KS2.DVFlag.value_counts()"
   ]
  },
  {
   "cell_type": "markdown",
   "id": "9ce82a70-f1b3-4494-bcc7-7e0732843a30",
   "metadata": {},
   "source": [
    "- replace TRUE with Y, and FALSE with N"
   ]
  },
  {
   "cell_type": "code",
   "execution_count": null,
   "id": "14c48013-2a86-419b-89a9-66c66b50a8e3",
   "metadata": {},
   "outputs": [],
   "source": [
    "KS2['DVFlag'] = KS2['DVFlag'].replace({True: 'Y', False: 'N'})\n",
    "\n",
    "KS2['DVFlag'] = KS2['DVFlag'].replace({\n",
    "    'Y': 'Y',\n",
    "    'TRUE': 'Y',\n",
    "    'N': 'N',\n",
    "    'FALSE': 'N',\n",
    "    'U': 'Unknown'  # or whatever you want for unknowns\n",
    "})"
   ]
  },
  {
   "cell_type": "code",
   "execution_count": null,
   "id": "f48d422e-9845-496b-a404-7e7fc30c574a",
   "metadata": {},
   "outputs": [],
   "source": [
    "KS2.info()"
   ]
  },
  {
   "cell_type": "code",
   "execution_count": null,
   "id": "d4c78a45-e69e-4645-890a-d4aefe494c91",
   "metadata": {},
   "outputs": [],
   "source": [
    "KS2.DVFlag.value_counts()"
   ]
  },
  {
   "cell_type": "code",
   "execution_count": null,
   "id": "39295a39-9e9e-4bba-a2da-357b30f001f2",
   "metadata": {},
   "outputs": [],
   "source": [
    "DV_length = len(KS2.DVFlag)"
   ]
  },
  {
   "cell_type": "code",
   "execution_count": null,
   "id": "cfd21994-e914-404d-8d55-4fe1e68b0776",
   "metadata": {},
   "outputs": [],
   "source": [
    "dv_yes = KS2['DVFlag'].value_counts().get('Y', 0)  "
   ]
  },
  {
   "cell_type": "code",
   "execution_count": null,
   "id": "410abad4-8433-4589-b131-37a9af0bf738",
   "metadata": {},
   "outputs": [],
   "source": [
    "# Calculate the percentage\n",
    "percentage_dv = (dv_yes / DV_length) * 100"
   ]
  },
  {
   "cell_type": "code",
   "execution_count": null,
   "id": "c3291148-340a-41da-b729-e676c7cb50da",
   "metadata": {},
   "outputs": [],
   "source": [
    "print(f\"The percentage of Domestic Violence instances is {percentage_dv:.2f}%.\")"
   ]
  },
  {
   "cell_type": "markdown",
   "id": "6dc09711-69b3-479f-ab99-65dfca5cb628",
   "metadata": {},
   "source": [
    "DVFlag is clean now."
   ]
  },
  {
   "cell_type": "markdown",
   "id": "048b5b81-6dcb-4a2c-b04e-d680ce5f97a8",
   "metadata": {},
   "source": [
    "<h3 style=\"color: blue;\">Clean 'Fire Arm Used Flag' Column</h3>"
   ]
  },
  {
   "cell_type": "code",
   "execution_count": null,
   "id": "6b21c07e-96c7-45b8-b6fb-d95144b5e183",
   "metadata": {},
   "outputs": [],
   "source": [
    "KS2.rename(columns={'Fire Arm Used Flag': 'FireArmUsed'}, inplace=True)"
   ]
  },
  {
   "cell_type": "code",
   "execution_count": null,
   "id": "6bfcd431-af39-4435-9c91-7ce239099654",
   "metadata": {},
   "outputs": [],
   "source": [
    "KS2.FireArmUsed.value_counts()"
   ]
  },
  {
   "cell_type": "code",
   "execution_count": null,
   "id": "aca1e788-c4a6-400e-9d7a-f0c78c2127e7",
   "metadata": {},
   "outputs": [],
   "source": [
    "total_incidents = len(KS2['FireArmUsed'])"
   ]
  },
  {
   "cell_type": "code",
   "execution_count": null,
   "id": "79dd49d1-9522-4b31-98d8-89e0d3faabea",
   "metadata": {},
   "outputs": [],
   "source": [
    "firearm_incidents = KS2['FireArmUsed'].value_counts().get(True, 0) "
   ]
  },
  {
   "cell_type": "code",
   "execution_count": null,
   "id": "0da96141-295b-48b7-bc5c-da75b64399f2",
   "metadata": {},
   "outputs": [],
   "source": [
    "percentage_firearm = (firearm_incidents / total_incidents) * 100"
   ]
  },
  {
   "cell_type": "code",
   "execution_count": null,
   "id": "2013fea8-0615-4758-814c-a5eb1d5457ad",
   "metadata": {},
   "outputs": [],
   "source": [
    "print(f\"{percentage_firearm:.2f}% of the incidences involved a firearm.\")"
   ]
  },
  {
   "cell_type": "code",
   "execution_count": null,
   "id": "ecd9b428-654f-4b34-994d-912c338b6386",
   "metadata": {},
   "outputs": [],
   "source": [
    "KS2.info()"
   ]
  },
  {
   "cell_type": "markdown",
   "id": "f8581471-6093-4e9c-8dc1-6b047e99938a",
   "metadata": {},
   "source": [
    "FireArmUsed column is clean now."
   ]
  },
  {
   "cell_type": "code",
   "execution_count": null,
   "id": "518cacde-4e9c-4704-80c4-f2bbf9a7e56a",
   "metadata": {},
   "outputs": [],
   "source": [
    "KS2.Location.value_counts().head(25)"
   ]
  },
  {
   "cell_type": "code",
   "execution_count": null,
   "id": "227bce41-b5aa-4b16-9d38-7b8ec458dd59",
   "metadata": {},
   "outputs": [],
   "source": [
    "KS2.Location.isna().sum()"
   ]
  },
  {
   "cell_type": "code",
   "execution_count": null,
   "id": "8496ebf5-27be-4399-82bf-5b9c30545362",
   "metadata": {},
   "outputs": [],
   "source": [
    "KS2['Location'] = KS2['Location'].fillna('Unknown')"
   ]
  },
  {
   "cell_type": "code",
   "execution_count": null,
   "id": "80232e47-1e97-45b9-a79f-d83a32d0a75a",
   "metadata": {},
   "outputs": [],
   "source": [
    "KS2.Location.isna().sum()"
   ]
  },
  {
   "cell_type": "markdown",
   "id": "4056a0bb-118c-4c08-b303-fc2eca1cf6e8",
   "metadata": {},
   "source": [
    "<h3 style=\"color: blue;\">Clean Geo_Location1 Column</h3>"
   ]
  },
  {
   "cell_type": "code",
   "execution_count": null,
   "id": "03ba3aaf-b1be-4ee4-93ba-0e72cd1cb2d3",
   "metadata": {},
   "outputs": [],
   "source": [
    "KS2.Geo_Location1.isna().sum()"
   ]
  },
  {
   "cell_type": "code",
   "execution_count": null,
   "id": "de8ed503-10db-492a-bc8a-c5d73594db89",
   "metadata": {},
   "outputs": [],
   "source": [
    "KS2['Geo_Location1'] = KS2['Geo_Location1'].fillna('Unknown')"
   ]
  },
  {
   "cell_type": "code",
   "execution_count": null,
   "id": "8eca2f32-13cf-4a6b-b77d-afdf97e795cd",
   "metadata": {},
   "outputs": [],
   "source": [
    "KS2.Geo_Location1.isna().sum()"
   ]
  },
  {
   "cell_type": "code",
   "execution_count": null,
   "id": "137debf0-1169-400a-b9a0-1f7f30322966",
   "metadata": {},
   "outputs": [],
   "source": [
    "KS2.info()"
   ]
  },
  {
   "cell_type": "markdown",
   "id": "f8350f24-9a37-4977-9cd3-1d8a4aff14ec",
   "metadata": {},
   "source": [
    "Geo_Location1 column is clean now."
   ]
  },
  {
   "cell_type": "markdown",
   "id": "0d99c27a-ccca-4f4d-a745-e12cfd81ef55",
   "metadata": {},
   "source": [
    "<h3 style=\"color: blue;\">All columns are clean now.</h3>"
   ]
  },
  {
   "cell_type": "markdown",
   "id": "589a9032-a0aa-41b5-b82a-ee095cf8589c",
   "metadata": {},
   "source": [
    "<h1 style=\"color: blue;\">Data Visualization</h1>"
   ]
  },
  {
   "cell_type": "markdown",
   "id": "853ad695-bbd6-4b8f-a4a5-bfc20279708a",
   "metadata": {},
   "source": [
    "<h3 style=\"color: blue;\">Look at Domestic Violence, by Area (police beat)</h3>"
   ]
  },
  {
   "cell_type": "code",
   "execution_count": null,
   "id": "334c3a1a-351f-48e6-9089-9930ea7206b5",
   "metadata": {},
   "outputs": [],
   "source": [
    "Area_dv_count = KS2.groupby(['Area', 'DVFlag']).size().unstack(fill_value=0)"
   ]
  },
  {
   "cell_type": "code",
   "execution_count": null,
   "id": "56970a82-04cf-4f7f-8cc5-43eb2b56bbca",
   "metadata": {},
   "outputs": [],
   "source": [
    "# Filter to only keep the 'Unknown' and 'Y' columns\n",
    "filtered_area_dv_count = Area_dv_count[['Unknown', 'Y']]"
   ]
  },
  {
   "cell_type": "code",
   "execution_count": null,
   "id": "99c026e8-d51e-44fe-8be5-05e83d8d15d0",
   "metadata": {},
   "outputs": [],
   "source": [
    "# Sort by 'Y' count in descending order\n",
    "sorted_filtered_area_dv_count = filtered_area_dv_count.sort_values(by='Y', ascending=False)"
   ]
  },
  {
   "cell_type": "code",
   "execution_count": null,
   "id": "7fe0725e-a982-4786-8406-7cd671bc922f",
   "metadata": {},
   "outputs": [],
   "source": [
    "# Create a third column that sums the 'Y' count and 'Unknown' count\n",
    "sorted_filtered_area_dv_count['Total'] = sorted_filtered_area_dv_count['Y'] + sorted_filtered_area_dv_count['Unknown']"
   ]
  },
  {
   "cell_type": "code",
   "execution_count": null,
   "id": "13af6d33-d1dd-464c-8c91-6f96dbb23873",
   "metadata": {},
   "outputs": [],
   "source": [
    "print(sorted_filtered_area_dv_count)"
   ]
  },
  {
   "cell_type": "markdown",
   "id": "68bcfa14-b4ab-4034-9391-13119dbafc7f",
   "metadata": {},
   "source": [
    "- The East Police Department (EPD) has the highest amount of Domestic violence incidences.\n",
    "- The Metro Police Department (MPD) has the 2nd highest amount.\n",
    "- The Central Police Department (CPD) has the 3rd highest."
   ]
  },
  {
   "cell_type": "markdown",
   "id": "d50ddfc6-2539-4429-9a45-5c8d7077267b",
   "metadata": {},
   "source": [
    "<h3 style=\"color: blue;\">Look at various types of incidents, by Zipcode</h3>"
   ]
  },
  {
   "cell_type": "markdown",
   "id": "bdab280f-e620-44d1-a06e-6ed459364ddd",
   "metadata": {},
   "source": [
    "Look at Domestic Violence, Use of Firearm, Stealing or Robbery, Harassment or Intimidation, Rape or Sex or Molestation, Assault, Murder or Casualty, Kidnapping or Trafficking, Missing Person"
   ]
  },
  {
   "cell_type": "markdown",
   "id": "eae0cdb4-1ad9-4a06-8b53-01c22582c9f6",
   "metadata": {},
   "source": [
    "- <h4 style=\"color: blue;\">Domestic Violence.</h1>"
   ]
  },
  {
   "cell_type": "code",
   "execution_count": null,
   "id": "2ba91dce-4093-4abb-b220-b208421d81a5",
   "metadata": {},
   "outputs": [],
   "source": [
    "zip_dv_count = KS2.groupby(['Zipcode', 'DVFlag']).size().unstack(fill_value=0)"
   ]
  },
  {
   "cell_type": "markdown",
   "id": "cb3a9e55-fbc1-4f91-ae9b-ee88da886cb1",
   "metadata": {},
   "source": [
    "Only grab DVFlag of 500 or more."
   ]
  },
  {
   "cell_type": "code",
   "execution_count": null,
   "id": "82c19a88-a860-473a-aaaf-5d2d09de9711",
   "metadata": {},
   "outputs": [],
   "source": [
    "zip_dv_count = zip_dv_count[zip_dv_count.sum(axis=1) >= 500]"
   ]
  },
  {
   "cell_type": "code",
   "execution_count": null,
   "id": "fea2daaf-c47d-4d3a-adce-be8885c55eab",
   "metadata": {},
   "outputs": [],
   "source": [
    "#Check if Y exists\n",
    "if 'Y' in zip_dv_count.columns:\n",
    "    zip_dv_count = zip_dv_count[['Y']]\n",
    "else:\n",
    "    print(\"No 'Y' values found in DVFlag.\")"
   ]
  },
  {
   "cell_type": "code",
   "execution_count": null,
   "id": "a27e86b0-4746-4c05-9429-2e43672e5387",
   "metadata": {},
   "outputs": [],
   "source": [
    "# Sort by count (ascending order)\n",
    "zip_dv_count = zip_dv_count.sort_values(by='Y', ascending=True)"
   ]
  },
  {
   "cell_type": "code",
   "execution_count": null,
   "id": "9f0f0289-7c94-485b-9577-4eeabc017827",
   "metadata": {},
   "outputs": [],
   "source": [
    "if not zip_dv_count.empty:\n",
    "    fig, ax = plt.subplots(figsize=(18, 10))  # Use subplots to define figure size\n",
    "    ax.clear()\n",
    "    \n",
    "    zip_dv_count.plot(kind='bar', stacked=True, ax=ax)\n",
    "    \n",
    "    ax.set_title('Domestic Violence by Zip Code (500+ incidences)', fontsize=24) \n",
    "    ax.set_xlabel('Zip Code', fontsize=16) \n",
    "    ax.set_ylabel('Count of Y', fontsize=16) \n",
    "\n",
    "    ax.legend(fontsize=14)\n",
    "    \n",
    "    plt.xticks(rotation=45, fontsize=14)\n",
    "    plt.yticks(fontsize=14)\n",
    "    \n",
    "    plt.tight_layout()  # Adjust layout to prevent clipping\n",
    "    \n",
    "    plt.show()\n",
    "else:\n",
    "    print(\"No zip codes with 500 or more Domestic Violence instances.\")"
   ]
  },
  {
   "cell_type": "markdown",
   "id": "27c74253-1c4d-4769-9527-702c2ba5b18d",
   "metadata": {},
   "source": [
    "- Highest Domestic Violence incidences... \"Unknown\" Zipcode.\n",
    "- 2nd highest ... Zipcode 64130 is in the Metro Police Department beat, in the central south of Kansas City, MO.\n",
    "- 3rd highest ... Zipcode 64127 is in the Central Police Department beat, in the center west part of Kansas City, MO.\n",
    "- 4th highest ... Zipcde 64132 is in the Metro Police Department beat.\n",
    "- 5th highest ... Zipcode 64134 is also in the South Police Department beat.\n",
    "- 6th highest ... Zipcode 64131 is in the Metro Police Department beat."
   ]
  },
  {
   "cell_type": "markdown",
   "id": "642f6ec2-2785-4a7a-a97d-ce22f898976c",
   "metadata": {},
   "source": [
    "Aside from Unknown Zipcodes, most of the incidence of Domestic Violence is in the Metro Police Department beat."
   ]
  },
  {
   "cell_type": "markdown",
   "id": "0e4c5424-a2cc-4b51-b2ee-a79d9e1b63df",
   "metadata": {},
   "source": [
    "- <h4 style=\"color: blue;\">Firearm Used.</h1>"
   ]
  },
  {
   "cell_type": "code",
   "execution_count": null,
   "id": "8a26e8ec-9d0a-4793-b0dc-74bf715d62df",
   "metadata": {},
   "outputs": [],
   "source": [
    "KS2.FireArmUsed.value_counts()"
   ]
  },
  {
   "cell_type": "code",
   "execution_count": null,
   "id": "6ea754b8-5e11-4314-87a9-e00add5a1d06",
   "metadata": {},
   "outputs": [],
   "source": [
    "zip_firearm_count = KS2.groupby(['Zipcode', 'FireArmUsed']).size().unstack(fill_value=0)"
   ]
  },
  {
   "cell_type": "code",
   "execution_count": null,
   "id": "584a229f-9056-47ea-ac07-79699fb06a8e",
   "metadata": {},
   "outputs": [],
   "source": [
    "print(zip_firearm_count.columns)"
   ]
  },
  {
   "cell_type": "code",
   "execution_count": null,
   "id": "ad076f8d-e6cd-43b2-b0b2-b6b2eb01cd26",
   "metadata": {},
   "outputs": [],
   "source": [
    "# Sort by count (ascending order)\n",
    "zip_firearm_count = zip_firearm_count.sort_values(by=True, ascending=False)\n",
    "print(zip_firearm_count.head(10))"
   ]
  },
  {
   "cell_type": "code",
   "execution_count": null,
   "id": "1204c301-b2ba-45da-9a41-c201b005617d",
   "metadata": {},
   "outputs": [],
   "source": [
    "# Filter to keep only the rows where FireArmUsed is True\n",
    "true_firearm_count = zip_firearm_count[True]\n",
    "print(true_firearm_count.head(30))"
   ]
  },
  {
   "cell_type": "code",
   "execution_count": null,
   "id": "d00bf19a-4261-4c36-8a6b-06d75a86213f",
   "metadata": {},
   "outputs": [],
   "source": [
    "zip_firearm_count = KS2.groupby(['Zipcode', 'FireArmUsed']).size().unstack(fill_value=0)\n",
    "true_firearm_count = zip_firearm_count[True]"
   ]
  },
  {
   "cell_type": "code",
   "execution_count": null,
   "id": "f997ec3d-9313-4860-90da-0f4ad50b8d7d",
   "metadata": {},
   "outputs": [],
   "source": [
    "# Filter counts greater than 250\n",
    "true_firearm_count = true_firearm_count[true_firearm_count > 250]"
   ]
  },
  {
   "cell_type": "code",
   "execution_count": null,
   "id": "dbf35fa7-cade-43a2-8adb-285aa00af8ee",
   "metadata": {},
   "outputs": [],
   "source": [
    "# Sort the true firearm count in ascending order\n",
    "true_firearm_count = true_firearm_count.sort_values(ascending=True)"
   ]
  },
  {
   "cell_type": "markdown",
   "id": "064c1fc1-d9bf-4773-9ed1-1120cb632316",
   "metadata": {},
   "source": [
    "Only show incidences more than 250, so that graph is readable."
   ]
  },
  {
   "cell_type": "code",
   "execution_count": null,
   "id": "47674e98-5460-4bf0-831f-a2fe790cbf25",
   "metadata": {},
   "outputs": [],
   "source": [
    "plt.figure(figsize=(20, 18))\n",
    "\n",
    "true_firearm_count.plot(kind='bar', color='blue')\n",
    "plt.title('Incidence of Fire Arm Used, by Zipcode', fontsize=24) \n",
    "plt.xlabel(\"Zipcode\", fontsize=20) \n",
    "plt.ylabel(\"Count of Firearm Used\", fontsize=20) \n",
    "plt.xticks(rotation=45, fontsize=16)  \n",
    "plt.yticks(fontsize=16)  \n",
    "plt.tight_layout()\n",
    "\n",
    "plt.grid(axis='y', linestyle='--', alpha=0.9, linewidth=1.5)\n",
    "\n",
    "plt.show()"
   ]
  },
  {
   "cell_type": "markdown",
   "id": "62b3733f-ae53-450c-b171-eb66b37895e8",
   "metadata": {},
   "source": [
    "- The most incidences of Fire Arm Used is from \"Unknown\" Zipcodes.\n",
    "- The 2nd most incidences is from Zipcode 64130, in the Metro PD beat.\n",
    "- The 3rd most incidences is from Zipcode 64127, in the Central PD beat.\n",
    "- The 4th most incidences is from Zipcode 64128, in the Central PD beat.\n",
    "- The 5th most incidences is from Zipcode 64132, in the Metro PD beat.\n",
    "- the 6th most incidences is from Zipcode 64134, in the South PD beat."
   ]
  },
  {
   "cell_type": "markdown",
   "id": "7aa334a8-b2e6-4f38-8e72-baa1ee964a92",
   "metadata": {},
   "source": [
    "Aside from the incidences of Firearm Used, in the \"Unknown\" Zipcodes, two of the top 5 Zipcodes are in the Matro PD beat, and two are in the Central PD beat."
   ]
  },
  {
   "cell_type": "markdown",
   "id": "e4d085df-9c48-4e7d-9578-a3d04c4bff09",
   "metadata": {},
   "source": [
    "These Zipcodes were also in the top 5 for incidences of Domestic Violence:\n",
    "- 64130\n",
    "- 64127\n",
    "- 64132\n",
    "- 64134"
   ]
  },
  {
   "cell_type": "markdown",
   "id": "d15e62e5-4ebc-4095-94df-2ddaf7f23e90",
   "metadata": {},
   "source": [
    "Two of these 3 are in the Metro Police Department beat."
   ]
  },
  {
   "cell_type": "markdown",
   "id": "d6165ba3-0a62-4827-b588-1a805be397cf",
   "metadata": {},
   "source": [
    "- <h4 style=\"color: blue;\">Stealing or Robbery.</h1>"
   ]
  },
  {
   "cell_type": "code",
   "execution_count": null,
   "id": "9ae74ebb-37e2-487c-90fd-15827377a901",
   "metadata": {},
   "outputs": [],
   "source": [
    "filtered_StealRob_count = KS2[KS2['Offense'].str.contains('Steal|Robbery', case=False)]"
   ]
  },
  {
   "cell_type": "code",
   "execution_count": null,
   "id": "ee1ce8af-e3ab-4fb9-b05b-01ee87c68f08",
   "metadata": {},
   "outputs": [],
   "source": [
    "# Group by 'Zipcode' and count occurrences of filtered offenses\n",
    "zip_StealRob_count = filtered_StealRob_count.groupby('Zipcode').size().sort_values(ascending=True)"
   ]
  },
  {
   "cell_type": "code",
   "execution_count": null,
   "id": "ae52cec1-ce4a-4010-a401-bf652ab31755",
   "metadata": {},
   "outputs": [],
   "source": [
    "zip_StealRob_count = zip_StealRob_count[zip_StealRob_count > 50]"
   ]
  },
  {
   "cell_type": "code",
   "execution_count": null,
   "id": "28f30010-705d-475b-b9d6-01bf21ff1ffe",
   "metadata": {},
   "outputs": [],
   "source": [
    "plt.figure(figsize=(20, 18))\n",
    "\n",
    "zip_StealRob_count.plot(kind='bar', color='red')\n",
    "plt.title('Incidence of Stealing or Robbery Greater than 50 Incidences, by Zipcode', fontsize=24) \n",
    "plt.xlabel(\"Zipcode\", fontsize=20) \n",
    "plt.ylabel(\"Count of Stealing or Robbery\", fontsize=20) \n",
    "plt.xticks(rotation=45, fontsize=16)  \n",
    "plt.yticks(fontsize=16)  \n",
    "plt.tight_layout()\n",
    "\n",
    "plt.grid(axis='y', linestyle='--', alpha=0.7, linewidth=1.5) \n",
    "\n",
    "plt.show()"
   ]
  },
  {
   "cell_type": "markdown",
   "id": "8c83d103-eb08-4bdb-97bd-0c70a813e001",
   "metadata": {},
   "source": [
    "These are the Zipcodes with the most incidences of Stealing and Robbery:\n",
    "- 64111\n",
    "- 64133\n",
    "- \"Unknown\" Zipcodes\n",
    "- 64108\n",
    "- 64114\n",
    "\n",
    "Zipcode 64111 has double the amount of Stealing and Robbery incidences than almost all of the Zipcodes and 3 times the amount than most of the Zipcodes."
   ]
  },
  {
   "cell_type": "markdown",
   "id": "23ef9106-3ee2-4e8d-9bf7-5e2b75a7c2cf",
   "metadata": {},
   "source": [
    "- <h4 style=\"color: blue;\">Harassment or Intimidation.</h1>"
   ]
  },
  {
   "cell_type": "code",
   "execution_count": null,
   "id": "5f1cf0b2-9a86-4872-a9ad-eb23f493bb6f",
   "metadata": {},
   "outputs": [],
   "source": [
    "filtered_HarassIntim_count = KS2[KS2['Offense'].str.contains('Harassment|Intimidation', case=False)]"
   ]
  },
  {
   "cell_type": "code",
   "execution_count": null,
   "id": "0de93d3c-f5a8-44e0-8cb7-e80d35186237",
   "metadata": {},
   "outputs": [],
   "source": [
    "# Group by 'Zipcode' and count occurrences of filtered offenses\n",
    "zip_HarassIntim_count = filtered_HarassIntim_count.groupby('Zipcode').size()"
   ]
  },
  {
   "cell_type": "code",
   "execution_count": null,
   "id": "2764470b-3cde-4ecc-b5e8-a50a3f372cef",
   "metadata": {},
   "outputs": [],
   "source": [
    "zip_HarassIntim_count = zip_HarassIntim_count.sort_values(ascending=True)"
   ]
  },
  {
   "cell_type": "code",
   "execution_count": null,
   "id": "53833d7a-e6f4-4a8d-b3df-d64f5a5ab3e6",
   "metadata": {},
   "outputs": [],
   "source": [
    "plt.figure(figsize=(20, 18))\n",
    "\n",
    "zip_HarassIntim_count.plot(kind='bar', color='black')\n",
    "plt.title('Incidence of Harassment or Intimidation, by Zipcode', fontsize=24) \n",
    "plt.xlabel(\"Zipcode\", fontsize=20) \n",
    "plt.ylabel(\"Count of Harassment or Intimidation\", fontsize=20) \n",
    "plt.xticks(rotation=45, fontsize=16)  \n",
    "plt.yticks(fontsize=16)  \n",
    "plt.tight_layout()\n",
    "\n",
    "plt.grid(axis='y', linestyle='--', alpha=0.9, linewidth=1.5)\n",
    "\n",
    "plt.show()"
   ]
  },
  {
   "cell_type": "markdown",
   "id": "6d2f9d71-069d-4643-b0cf-8d30db10c8d5",
   "metadata": {},
   "source": [
    "- \"Unknown\" Zipcode has the most incidences of Harassment and Intimidation.\n",
    "- The 2nd most incidences of Stealing and Robbery are in Zipcode 64130.\n",
    "- the 3rd most incidences of Stealing and Robbery are in Zipcode 64132\n",
    "- the 4th most incidences of Stealing and Robbery are in Zipcode 64134\n",
    "- the 5th most incidences of Stealing and Robbery are in Zipcode 64131\n",
    "- the 6th most incidences of Stealing and Robbery are in Zipcode 64127\n",
    "\n",
    "The Zipcodes with almost zero incidences of Harassment and Intimidation are:\n",
    "- 64115\n",
    "- 64121\n",
    "- 89104\n",
    "- 64140\n",
    "- 64183\n",
    "- 66106\n",
    "- 66204\n",
    "- 64103\n",
    "- 66209\n",
    "- 80120\n",
    "- 64086\n",
    "- 64064\n",
    "- 64055\n",
    "- 64018"
   ]
  },
  {
   "cell_type": "markdown",
   "id": "95d25191-f4d4-43da-80ee-8ecdaed76730",
   "metadata": {},
   "source": [
    "- <h4 style=\"color: blue;\">Rape or Sex or Molestation.</h1>"
   ]
  },
  {
   "cell_type": "code",
   "execution_count": null,
   "id": "d748578e-a204-4e22-b205-bfa9e64f920c",
   "metadata": {},
   "outputs": [],
   "source": [
    "filtered_R_S_M_count = KS2[KS2['Offense'].str.contains('Rape|Sex|Molest', case=False)]"
   ]
  },
  {
   "cell_type": "code",
   "execution_count": null,
   "id": "8c6873b7-be5f-4844-9fbe-74fcdb49b6d9",
   "metadata": {},
   "outputs": [],
   "source": [
    "# Group by 'Zipcode' and count occurrences of filtered offenses\n",
    "zip_R_S_M_count = filtered_R_S_M_count.groupby('Zipcode').size()"
   ]
  },
  {
   "cell_type": "code",
   "execution_count": null,
   "id": "a40b9e22-fad7-422e-ad39-63098220be24",
   "metadata": {},
   "outputs": [],
   "source": [
    "# Filter to only include those Zipcodes which also exist in filtered_Assault_count and have counts greater than 50\n",
    "filtered_Assault_count = KS2[KS2['Offense'].str.contains('Assault', case=False)]\n",
    "filtered_Assault_count = filtered_Assault_count.groupby('Zipcode').size()"
   ]
  },
  {
   "cell_type": "code",
   "execution_count": null,
   "id": "356c5124-445c-4d12-b6cf-b80c6309a7ba",
   "metadata": {},
   "outputs": [],
   "source": [
    "# Only keep Zipcodes with Assault counts greater than 50\n",
    "zip_R_S_M_count = zip_R_S_M_count[zip_R_S_M_count.index.isin(filtered_Assault_count[filtered_Assault_count > 50].index)].sort_values(ascending=True)"
   ]
  },
  {
   "cell_type": "code",
   "execution_count": null,
   "id": "9d117be7-d40e-4056-b9b2-b7867b258bb5",
   "metadata": {},
   "outputs": [],
   "source": [
    "plt.figure(figsize=(24, 18))\n",
    "\n",
    "zip_R_S_M_count.plot(kind='bar', color='lightblue')\n",
    "plt.title('Incidence of Rape or Sex or Molestation, Greater than 50, by Zipcode', fontsize=32)\n",
    "plt.xlabel(\"Zipcode\", fontsize=28)  # Increased font size\n",
    "plt.ylabel(\"Count of Rape / Sex / Molestation\", fontsize=28)\n",
    "plt.xticks(rotation=45, fontsize=20)  \n",
    "plt.yticks(fontsize=20)  \n",
    "plt.tight_layout()\n",
    "\n",
    "plt.grid(axis='y', linestyle='--', alpha=0.9, linewidth=1.5)\n",
    "\n",
    "plt.show()"
   ]
  },
  {
   "cell_type": "markdown",
   "id": "a8bc4c1d-4446-48a6-b34e-ce812ed7038d",
   "metadata": {},
   "source": [
    "Most incidences of Rape / Sex / Molestation by Zipcode\n",
    "\n",
    "- 64127\n",
    "- 64130\n",
    "- 64111\n",
    "- 64108\n",
    "- 64134\n",
    "- 64106\n",
    "- 64132\n",
    "\n",
    "Zipcodes 64127 and 64130 have much higher incidences than all other Zipcodes. 64127 has double the amount of incidences of most of the Zipcodes, and triple the amount of many of the Zipcodes."
   ]
  },
  {
   "cell_type": "markdown",
   "id": "03e414ce-0808-4aac-8087-e36ee459ebc9",
   "metadata": {},
   "source": [
    "- <h4 style=\"color: blue;\">Assault.</h1>"
   ]
  },
  {
   "cell_type": "code",
   "execution_count": null,
   "id": "8c8ed301-5c91-4c6e-bc53-f2d990ebb258",
   "metadata": {},
   "outputs": [],
   "source": [
    "filtered_Assault_count = KS2[KS2['Offense'].str.contains('Assault', case=False)] \n",
    "filtered_Assault_count = filtered_Assault_count.groupby('Zipcode').size()"
   ]
  },
  {
   "cell_type": "code",
   "execution_count": null,
   "id": "09130694-a9c5-43e7-beee-33a4187d2f06",
   "metadata": {},
   "outputs": [],
   "source": [
    "# Filter only assaults greater than 50\n",
    "filtered_Assault_count = filtered_Assault_count[filtered_Assault_count > 50].sort_values(ascending=True)"
   ]
  },
  {
   "cell_type": "code",
   "execution_count": null,
   "id": "e6989b7e-8171-4737-b118-f63fac8b9932",
   "metadata": {},
   "outputs": [],
   "source": [
    "plt.figure(figsize=(24, 18))\n",
    "\n",
    "filtered_Assault_count.plot(kind='bar', color='purple')\n",
    "plt.title('Incidence of Assault, Greater than 50, by Zipcode', fontsize=32)\n",
    "plt.xlabel(\"Zipcode\", fontsize=28) \n",
    "plt.ylabel(\"Count of Assault\", fontsize=28)\n",
    "plt.xticks(rotation=45, fontsize=20)  \n",
    "plt.yticks(fontsize=20)  \n",
    "plt.tight_layout()\n",
    "\n",
    "plt.grid(axis='y', linestyle='--', alpha=0.9, linewidth=1.5)\n",
    "\n",
    "plt.show()"
   ]
  },
  {
   "cell_type": "markdown",
   "id": "71efb8a7-a99d-4db5-8ece-3903ec35334c",
   "metadata": {},
   "source": [
    "Aside from \"Unknown\" Zipcodes, the Zipcodes with the most incidences of Assault are:\n",
    "- 64130\n",
    "- 64127\n",
    "- 64132\n",
    "- 64128\n",
    "- 64134\n",
    "\n",
    "Again, Zipcode 64130 has double the amount of Assault incidences than most Zipcodes, and triple the amount of Assault incidences than many Zipcodes."
   ]
  },
  {
   "cell_type": "markdown",
   "id": "65dcee65-66cd-459b-ad76-5429de1762b0",
   "metadata": {},
   "source": [
    "- <h4 style=\"color: blue;\">Murder or Casualty.</h1>"
   ]
  },
  {
   "cell_type": "code",
   "execution_count": null,
   "id": "7bccdf4a-1288-4b36-aa07-3d1359f88700",
   "metadata": {},
   "outputs": [],
   "source": [
    "filtered_Murd_Casualty_count = KS2[KS2['Offense'].str.contains('Murder|Casualty', case=False)]"
   ]
  },
  {
   "cell_type": "code",
   "execution_count": null,
   "id": "52ed3100-1324-4bbc-a927-11539bcfa6e4",
   "metadata": {},
   "outputs": [],
   "source": [
    "filtered_Murd_Casualty_count = filtered_Murd_Casualty_count.groupby('Zipcode').size().sort_values(ascending=True)"
   ]
  },
  {
   "cell_type": "code",
   "execution_count": null,
   "id": "3cf0792b-8140-4706-8a67-ea3ae8709f34",
   "metadata": {},
   "outputs": [],
   "source": [
    "plt.figure(figsize=(24, 18))\n",
    "\n",
    "filtered_Murd_Casualty_count.plot(kind='bar', color='yellow')\n",
    "plt.title('Incidence of Murder or Casualty, by Zipcode', fontsize=32)\n",
    "plt.xlabel(\"Zipcode\", fontsize=28) \n",
    "plt.ylabel(\"Count of Murder or Casualty\", fontsize=28)\n",
    "plt.xticks(rotation=45, fontsize=20)  \n",
    "plt.yticks(fontsize=20)  \n",
    "plt.tight_layout()\n",
    "\n",
    "plt.grid(axis='y', linestyle='--', alpha=0.9, linewidth=1.5)\n",
    "\n",
    "plt.show()"
   ]
  },
  {
   "cell_type": "markdown",
   "id": "1540225a-bc62-4a74-a863-d983be8ae577",
   "metadata": {},
   "source": [
    "Zipcodes with the highest incidences of Murder or Casualty:\n",
    "- 64130\n",
    "- 64127\n",
    "- 64128\n",
    "- 64132\n",
    "- 64111\n",
    "\n",
    "Again, Zipcodes 64130 and 64127 are highest in crime."
   ]
  },
  {
   "cell_type": "markdown",
   "id": "d97242c5-6e94-4abb-ace5-c9e7cc83dfce",
   "metadata": {},
   "source": [
    "- <h4 style=\"color: blue;\">Kidnapping or Trafficking or Missing Person.</h1>"
   ]
  },
  {
   "cell_type": "code",
   "execution_count": null,
   "id": "2fceea4b-78f9-4282-b302-31dfa7d66a25",
   "metadata": {},
   "outputs": [],
   "source": [
    "filtered_Kid_Traf_Miss_count = KS2[KS2['Offense'].str.contains('Kidnapping|Trafficking|Missing', case=False)]"
   ]
  },
  {
   "cell_type": "code",
   "execution_count": null,
   "id": "1829ad5f-4139-48ee-bafd-e3a14848b321",
   "metadata": {},
   "outputs": [],
   "source": [
    "filtered_Kid_Traf_Miss_count = filtered_Kid_Traf_Miss_count.groupby('Zipcode').size().sort_values(ascending=True)"
   ]
  },
  {
   "cell_type": "code",
   "execution_count": null,
   "id": "5aca1b71-bb0d-4bfe-86dc-b7b8a769f80c",
   "metadata": {},
   "outputs": [],
   "source": [
    "plt.figure(figsize=(24, 18))\n",
    "\n",
    "filtered_Kid_Traf_Miss_count.plot(kind='bar', color='hotpink')\n",
    "plt.title('Incidence of Kidnapping or Trafficking or Missing Person, by Zipcode', fontsize=32)\n",
    "plt.xlabel(\"Zipcode\", fontsize=28) \n",
    "plt.ylabel(\"Count of Kidnapping / Trafficking / Missing Person\", fontsize=28)\n",
    "plt.xticks(rotation=45, fontsize=20)  \n",
    "plt.yticks(fontsize=20)  \n",
    "plt.tight_layout()\n",
    "\n",
    "plt.grid(axis='y', linestyle='--', alpha=0.9, linewidth=1.5)\n",
    "\n",
    "plt.show()"
   ]
  },
  {
   "cell_type": "markdown",
   "id": "9d012c6e-cf31-4d32-a55f-75faad910da0",
   "metadata": {},
   "source": [
    "The highest amount of incidences of Kidnapping, Trafficking, or Missing Persons is from \"Unknown\" Zipcodes.\n",
    "\n",
    "Aside from \"Unknown\" Zipcodes, these are the Zipcodes with the highest incidences:\n",
    "- 64130\n",
    "- 64127\n",
    "- 64132\n",
    "- 64134\n",
    "- 64124\n",
    "\n",
    "Again, Zipcodes 64130 ad 64127 top the charts."
   ]
  },
  {
   "cell_type": "markdown",
   "id": "5e48fba5-71f0-42dc-9e93-394ba9e51e9a",
   "metadata": {},
   "source": [
    "<h1 style=\"color: blue;\">Predictive Model</h1>"
   ]
  },
  {
   "cell_type": "code",
   "execution_count": null,
   "id": "4567d5f8-dc35-49f8-926c-f1358e9513b3",
   "metadata": {},
   "outputs": [],
   "source": [
    "KS2.info()"
   ]
  },
  {
   "cell_type": "markdown",
   "id": "9e4611ad-1792-4c5c-bf61-ac1dea3d2d5a",
   "metadata": {},
   "source": [
    "- <h4 style=\"color: blue;\">Convert Reported_Date, from datetime type to numerical.</h1>"
   ]
  },
  {
   "cell_type": "code",
   "execution_count": null,
   "id": "33170e34-6f87-4346-9bf3-f300b39546bb",
   "metadata": {},
   "outputs": [],
   "source": [
    "#create 3 new columns\n",
    "KS2['Reported_Year'] = KS2['Reported_Date'].dt.year\n",
    "KS2['Reported_Month'] = KS2['Reported_Date'].dt.month\n",
    "KS2['Reported_Day'] = KS2['Reported_Date'].dt.day"
   ]
  },
  {
   "cell_type": "markdown",
   "id": "7147769c-f682-4f27-bf4e-dedbbaeea148",
   "metadata": {},
   "source": [
    "Monday=0\n",
    "<br>\n",
    "Tuesday=1\n",
    "<br>\n",
    "Wednesday=2\n",
    "<br>\n",
    "Thursday=3\n",
    "<br>\n",
    "Friday=5\n",
    "<br>\n",
    "Sunday=6\n",
    "<br>\n",
    "Saturday=7"
   ]
  },
  {
   "cell_type": "markdown",
   "id": "b9c4310d-8c7e-4804-8fc8-3452fcaa0f9b",
   "metadata": {},
   "source": [
    "- <h4 style=\"color: blue;\">Define target column.</h1>"
   ]
  },
  {
   "cell_type": "code",
   "execution_count": null,
   "id": "52cbc27d-2155-4449-8179-839d752ad5ce",
   "metadata": {},
   "outputs": [],
   "source": [
    "# Define the target variable\n",
    "target_column = 'Zipcode'"
   ]
  },
  {
   "cell_type": "markdown",
   "id": "2db1e7f0-f655-4122-ac4c-abc2a7dc1128",
   "metadata": {},
   "source": [
    "- <h4 style=\"color: blue;\">Define features.</h1>"
   ]
  },
  {
   "cell_type": "code",
   "execution_count": null,
   "id": "fbc56df4-e1db-4ddc-9cfa-05afb1f99fc7",
   "metadata": {},
   "outputs": [],
   "source": [
    "features_to_drop = ['Reported_Time', 'From_Date', 'Rep_Dist', 'Description', target_column]"
   ]
  },
  {
   "cell_type": "markdown",
   "id": "e2680116-f73a-45a2-82ed-031719c624a3",
   "metadata": {},
   "source": [
    "- <h4 style=\"color: blue;\">Get dummies.</h1>"
   ]
  },
  {
   "cell_type": "code",
   "execution_count": null,
   "id": "da54e493-c8ce-418d-8638-7a7482024b5a",
   "metadata": {},
   "outputs": [],
   "source": [
    "KS2 = pd.get_dummies(KS2, drop_first=True)"
   ]
  },
  {
   "cell_type": "markdown",
   "id": "8664c49c-84e3-44fd-a29a-69c5265a43e3",
   "metadata": {},
   "source": [
    "- <h4 style=\"color: blue;\">Split the data in to test, train.</h1>"
   ]
  },
  {
   "cell_type": "code",
   "execution_count": null,
   "id": "a0754eba-a696-4225-80fc-16dc9bdaa5bf",
   "metadata": {},
   "outputs": [],
   "source": [
    "# Split into training and temp sets\n",
    "train_df, temp_df = train_test_split(KS2, test_size=0.3, random_state=42)  # 70% training, 30% temporary"
   ]
  },
  {
   "cell_type": "code",
   "execution_count": null,
   "id": "9a582b63-ccd7-437e-a779-9c9edca73fac",
   "metadata": {},
   "outputs": [],
   "source": [
    "- <h4 style=\"color: blue;\">Split the temp set in to validation and test.</h1>"
   ]
  },
  {
   "cell_type": "code",
   "execution_count": null,
   "id": "945e9f52-9c9f-4d06-a439-569726839bdc",
   "metadata": {},
   "outputs": [],
   "source": [
    "# Split the temp set into validation and test sets\n",
    "val_df, test_df = train_test_split(temp_df, test_size=0.5, random_state=42)  # 50% validation, 50% test from temporary set"
   ]
  },
  {
   "cell_type": "markdown",
   "id": "296b86f5-db33-4a97-b5ba-7c04b649ec5e",
   "metadata": {},
   "source": [
    "- <h4 style=\"color: blue;\">Encode the target column.</h1>"
   ]
  },
  {
   "cell_type": "code",
   "execution_count": null,
   "id": "b749e8f4-95fe-457e-966a-26e03ab1b1ca",
   "metadata": {},
   "outputs": [],
   "source": [
    "# Label Encoding for the target variable\n",
    "label_encoder = LabelEncoder()"
   ]
  },
  {
   "cell_type": "code",
   "execution_count": null,
   "id": "7c88d3ce-6e6c-41d8-bb13-50d28978dcf9",
   "metadata": {},
   "outputs": [],
   "source": [
    "label_encoder.fit(KS2[target_column])"
   ]
  },
  {
   "cell_type": "markdown",
   "id": "d768fb87-6ced-4c10-9ea7-68f196180456",
   "metadata": {},
   "source": [
    "- <h4 style=\"color: blue;\">Split the test, train, validation datasets in to target and features. Encode the target column.</h1>"
   ]
  },
  {
   "cell_type": "code",
   "execution_count": null,
   "id": "2ebd9045-cff0-44f4-ac96-5ed790cca424",
   "metadata": {},
   "outputs": [],
   "source": [
    "# Train set features and target\n",
    "X_train = train_df.drop(features_to_drop, axis=1)  # features\n",
    "y_train = label_encoder.transform(train_df[target_column]) \n",
    "\n",
    "# Validation set features and target\n",
    "X_val = val_df.drop(features_to_drop, axis=1) #features\n",
    "y_val = label_encoder.transform(val_df[target_column]) #encode target\n",
    "\n",
    "# Test set features and target\n",
    "X_test = test_df.drop(features_to_drop, axis=1) #features\n",
    "y_test = label_encoder.transform(test_df[target_column]) #encode target"
   ]
  },
  {
   "cell_type": "markdown",
   "id": "0b3f2963-da17-4c51-97b1-391210f7a0ce",
   "metadata": {},
   "source": [
    "- <h4 style=\"color: blue;\">Label encoding.</h1>"
   ]
  },
  {
   "cell_type": "markdown",
   "id": "863fca8e-39c7-4651-9090-d2238129a628",
   "metadata": {},
   "source": [
    "- <h4 style=\"color: blue;\">Check shape.</h1>"
   ]
  },
  {
   "cell_type": "code",
   "execution_count": null,
   "id": "90f388d0-f67a-4aad-8c63-9928203cd27c",
   "metadata": {},
   "outputs": [],
   "source": [
    "print(\"Training features shape:\", X_train.shape) # 70 % of the orig dataset\n",
    "print(\"Validation features shape:\", X_val.shape) # 15 %\n",
    "print(\"Test features shape:\", X_test.shape)      # 15 %"
   ]
  },
  {
   "cell_type": "markdown",
   "id": "cd43bf9c-787e-48d4-81b1-969f804868f2",
   "metadata": {},
   "source": [
    "- <h4 style=\"color: blue;\">Create and fit the model.</h1>"
   ]
  },
  {
   "cell_type": "code",
   "execution_count": null,
   "id": "50214e24-ab37-4a80-9163-b9a6241a4884",
   "metadata": {},
   "outputs": [],
   "source": [
    "def train_and_evaluate_models(X_train, y_train, X_val, y_val, X_test, y_test):\n",
    "    models = {\n",
    "        \"Logistic Regression\": {\n",
    "            'model': LogisticRegression(solver='liblinear'),\n",
    "            'params': {'C': [0.1, 1, 10]}\n",
    "        },\n",
    "        \"Random Forest\": {\n",
    "            'model': RandomForestClassifier(),\n",
    "            'params': {'n_estimators': [100, 200, 250], 'max_depth': [None, 10, 20]}\n",
    "        },\n",
    "        \"Decision Tree\": {\n",
    "            'model': DecisionTreeClassifier(),\n",
    "            'params': {'max_depth': [5, 10, 20]}\n",
    "        },\n",
    "        \"Gradient Boosting\": {\n",
    "            'model': GradientBoostingClassifier(),\n",
    "            'params': {'n_estimators': [100, 200], 'learning_rate': [0.01, 0.1]}\n",
    "        }\n",
    "    }\n",
    "    \n",
    "    results = {}\n",
    "    for name, model_info in models.items():\n",
    "        print(f\"Training {name}...\")\n",
    "        try:\n",
    "            grid_search = GridSearchCV(model_info['model'], model_info['params'], \n",
    "                                       cv=5, scoring='roc_auc', verbose=3)\n",
    "            grid_search.fit(X_train, y_train)\n",
    "            best_model = grid_search.best_estimator_\n",
    "            # Evaluate on validation set\n",
    "            val_predictions = best_model.predict(X_val)\n",
    "            val_accuracy = accuracy_score(y_val, val_predictions)\n",
    "            if hasattr(best_model, \"decision_function\"):\n",
    "                val_decision_function = best_model.decision_function(X_val)\n",
    "                val_auc = roc_auc_score(y_val, val_decision_function)\n",
    "            else:\n",
    "                val_probas = best_model.predict_proba(X_val)[:, 1]  # Get the probability of the positive class\n",
    "                val_auc = roc_auc_score(y_val, val_probas)\n",
    "            # Evaluate on test set\n",
    "            test_predictions = best_model.predict(X_test)\n",
    "            test_accuracy = accuracy_score(y_test, test_predictions)\n",
    "            if hasattr(best_model, \"decision_function\"):\n",
    "                test_decision_function = best_model.decision_function(X_test)\n",
    "                test_auc = roc_auc_score(y_test, test_decision_function)\n",
    "            else:\n",
    "                test_probas = best_model.predict_proba(X_test)[:, 1]  # Get the probability of the positive class\n",
    "                test_auc = roc_auc_score(y_test, test_probas)\n",
    "            results[name] = {\n",
    "                \"Validation Accuracy\": val_accuracy,\n",
    "                \"Validation AUC\": val_auc,\n",
    "                \"Test Accuracy\": test_accuracy,\n",
    "                \"Test AUC\": test_auc\n",
    "            }\n",
    "            print(f\"{name} results: {results[name]}\")\n",
    "            print()  # Add a newline for better separation between model outputs\n",
    "        except Exception as e:\n",
    "            print(f\"An error occurred while training {name}: {e}\")\n",
    "    return results"
   ]
  },
  {
   "cell_type": "markdown",
   "id": "7d5de378-57b3-4946-b153-afba6793ec06",
   "metadata": {},
   "source": [
    "- <h4 style=\"color: blue;\">Call the function to create / fit / train / score the model.</h1>"
   ]
  },
  {
   "cell_type": "code",
   "execution_count": null,
   "id": "621c7d46-5f98-4c5e-95e1-853c77bd9dd5",
   "metadata": {},
   "outputs": [],
   "source": [
    "results = train_and_evaluate_models(X_train, y_train, X_val, y_val, X_test, y_test)"
   ]
  },
  {
   "cell_type": "code",
   "execution_count": null,
   "id": "e3b72e3b-58e5-46fa-86de-ab3e9f3f2f16",
   "metadata": {},
   "outputs": [],
   "source": [
    "print(\"Results keys:\", results.keys())"
   ]
  },
  {
   "cell_type": "markdown",
   "id": "bd7c30fd-9340-4002-b110-c87d1800a4d2",
   "metadata": {},
   "source": [
    "<h1 style=\"color: blue;\">Conclusion</h1>"
   ]
  },
  {
   "cell_type": "markdown",
   "id": "900d89cf-10d3-4994-aa27-d245b458ff27",
   "metadata": {},
   "source": [
    "## Top Zipcodes for Highest Crime Incidence\n",
    "\n",
    "The following Zipcodes are consistently at the top for the highest incidence of crime across nearly every category:\n",
    "\n",
    "- 64130\n",
    "- 64127\n",
    "\n",
    "Both of these Zipcodes are located in the East Police Department Division.\n",
    "                                                  \n",
    "---\n",
    "## Crime Categories with Highest Incidence Rates\n",
    "- The Zipcodes 64130 and 64127 have **double the incidence rate** compared to most other Zipcodes in these categories:\n",
    "  - **Domestic Violence**\n",
    "  - **Firearm Used**\n",
    "  - **Rape or Sexual Assault**\n",
    "  - **Assault**\n",
    "  - **Murder or Casualty**\n",
    "  - **Kidnapping, Trafficking, or Missing Person**\n",
    "                                                  \n",
    "---\n",
    "## Additional Insights\n",
    "- **64130** and **64132** demonstrate the highest incidences of crime in **harassment or intimidation**, with **double the incidence rate** than most other Zipcodes.\n",
    "- Even though **64127** is not at the very top for this category, it still shows double the incidence rate compared to nearly all other Zipcodes.\n",
    "\n",
    "---\n",
    "## Notable Incidence\n",
    "- 64111 records the highest incidences for:\n",
    "  - **Stealing or Robbery**"
   ]
  }
 ],
 "metadata": {
  "kernelspec": {
   "display_name": "Python 3 (ipykernel)",
   "language": "python",
   "name": "python3"
  },
  "language_info": {
   "codemirror_mode": {
    "name": "ipython",
    "version": 3
   },
   "file_extension": ".py",
   "mimetype": "text/x-python",
   "name": "python",
   "nbconvert_exporter": "python",
   "pygments_lexer": "ipython3",
   "version": "3.11.7"
  }
 },
 "nbformat": 4,
 "nbformat_minor": 5
}
